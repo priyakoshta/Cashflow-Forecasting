{
  "nbformat": 4,
  "nbformat_minor": 0,
  "metadata": {
    "colab": {
      "name": "2-Improving stationarity of the Time Series",
      "provenance": [],
      "collapsed_sections": []
    },
    "kernelspec": {
      "name": "python3",
      "display_name": "Python 3"
    }
  },
  "cells": [
    {
      "cell_type": "code",
      "metadata": {
        "id": "dzVbZGvOAAge",
        "colab_type": "code",
        "colab": {
          "base_uri": "https://localhost:8080/",
          "height": 71
        },
        "outputId": "022f3900-09af-4c24-827d-fc4e62126f84"
      },
      "source": [
        "# importing required libraries\n",
        "from pydrive.auth import GoogleAuth\n",
        "from pydrive.drive import GoogleDrive\n",
        "from google.colab import auth\n",
        "from oauth2client.client import GoogleCredentials\n",
        "import pandas as pd\n",
        "import matplotlib.pyplot as plt\n",
        "import numpy as np\n",
        "import matplotlib.dates as mdates \n",
        "from statsmodels.tsa.arima_model import ARIMA\n",
        "from statsmodels.tsa.stattools import adfuller\n",
        "from statsmodels.tsa.stattools import adfuller\n",
        "from statsmodels.tsa.seasonal import seasonal_decompose\n",
        "from statsmodels.tsa.stattools import acf, pacf\n",
        "pd.options.mode.chained_assignment = None "
      ],
      "execution_count": null,
      "outputs": [
        {
          "output_type": "stream",
          "text": [
            "/usr/local/lib/python3.6/dist-packages/statsmodels/tools/_testing.py:19: FutureWarning: pandas.util.testing is deprecated. Use the functions in the public API at pandas.testing instead.\n",
            "  import pandas.util.testing as tm\n"
          ],
          "name": "stderr"
        }
      ]
    },
    {
      "cell_type": "code",
      "metadata": {
        "id": "kIqBDB8ZAAGK",
        "colab_type": "code",
        "colab": {}
      },
      "source": [
        "# Authenticate and create the PyDrive client.\n",
        "auth.authenticate_user()\n",
        "gauth = GoogleAuth()\n",
        "gauth.credentials = GoogleCredentials.get_application_default()\n",
        "drive = GoogleDrive(gauth)"
      ],
      "execution_count": null,
      "outputs": []
    },
    {
      "cell_type": "code",
      "metadata": {
        "id": "_HPAXjb1_zcx",
        "colab_type": "code",
        "colab": {}
      },
      "source": [
        "# importing the test and training dataset from drive\n",
        "train_link = 'https://drive.google.com/open?id=1YCmgG6EoeW-suoO9pEJKUzIMBv3iAlew'\n",
        "test_link = 'https://drive.google.com/open?id=17H0OUGoC3-Ld-qITR8QWDIICipS8I9al'"
      ],
      "execution_count": null,
      "outputs": []
    },
    {
      "cell_type": "code",
      "metadata": {
        "id": "9ycf4Ext_5nD",
        "colab_type": "code",
        "colab": {}
      },
      "source": [
        "# extracting the file ids from the url\n",
        "fluff, train_id = train_link.split('=')\n",
        "fluff, test_id = test_link.split('=')"
      ],
      "execution_count": null,
      "outputs": []
    },
    {
      "cell_type": "code",
      "metadata": {
        "id": "sLcEiyRfAEN0",
        "colab_type": "code",
        "colab": {
          "base_uri": "https://localhost:8080/",
          "height": 51
        },
        "outputId": "ef54a1e0-1d38-46a0-84fb-37f8e88b7712"
      },
      "source": [
        "# validating whether the entire extraction was perfect\n",
        "print(train_id)\n",
        "print(test_id)"
      ],
      "execution_count": null,
      "outputs": [
        {
          "output_type": "stream",
          "text": [
            "1YCmgG6EoeW-suoO9pEJKUzIMBv3iAlew\n",
            "17H0OUGoC3-Ld-qITR8QWDIICipS8I9al\n"
          ],
          "name": "stdout"
        }
      ]
    },
    {
      "cell_type": "code",
      "metadata": {
        "id": "iPAxiJk8AJ8e",
        "colab_type": "code",
        "colab": {}
      },
      "source": [
        "#loading the training dataset\n",
        "downloaded_train = drive.CreateFile({'id':train_id}) \n",
        "downloaded_train.GetContentFile('Training.csv')  \n",
        "training_df = pd.read_csv('Training.csv')\n",
        "\n",
        "#loading the test dataset\n",
        "downloaded_test = drive.CreateFile({'id':test_id}) \n",
        "downloaded_test.GetContentFile('Test.csv')\n",
        "test_df = pd.read_csv('Test.csv')"
      ],
      "execution_count": null,
      "outputs": []
    },
    {
      "cell_type": "code",
      "metadata": {
        "id": "SsNm3_Y3Borm",
        "colab_type": "code",
        "colab": {
          "base_uri": "https://localhost:8080/",
          "height": 204
        },
        "outputId": "1cb264d7-b415-471a-93e0-4b0c50d9a7b8"
      },
      "source": [
        "# quickly looking into the training dataset \n",
        "training_df.head()"
      ],
      "execution_count": null,
      "outputs": [
        {
          "output_type": "execute_result",
          "data": {
            "text/html": [
              "<div>\n",
              "<style scoped>\n",
              "    .dataframe tbody tr th:only-of-type {\n",
              "        vertical-align: middle;\n",
              "    }\n",
              "\n",
              "    .dataframe tbody tr th {\n",
              "        vertical-align: top;\n",
              "    }\n",
              "\n",
              "    .dataframe thead th {\n",
              "        text-align: right;\n",
              "    }\n",
              "</style>\n",
              "<table border=\"1\" class=\"dataframe\">\n",
              "  <thead>\n",
              "    <tr style=\"text-align: right;\">\n",
              "      <th></th>\n",
              "      <th>vendor_name</th>\n",
              "      <th>enterprise_name</th>\n",
              "      <th>total_amount</th>\n",
              "      <th>repayment_date</th>\n",
              "    </tr>\n",
              "  </thead>\n",
              "  <tbody>\n",
              "    <tr>\n",
              "      <th>0</th>\n",
              "      <td>A</td>\n",
              "      <td>DO</td>\n",
              "      <td>38314</td>\n",
              "      <td>2019-03-11</td>\n",
              "    </tr>\n",
              "    <tr>\n",
              "      <th>1</th>\n",
              "      <td>A</td>\n",
              "      <td>DO</td>\n",
              "      <td>406447</td>\n",
              "      <td>2019-03-19</td>\n",
              "    </tr>\n",
              "    <tr>\n",
              "      <th>2</th>\n",
              "      <td>A</td>\n",
              "      <td>DO</td>\n",
              "      <td>47904</td>\n",
              "      <td>2019-03-20</td>\n",
              "    </tr>\n",
              "    <tr>\n",
              "      <th>3</th>\n",
              "      <td>A</td>\n",
              "      <td>DO</td>\n",
              "      <td>37547</td>\n",
              "      <td>2019-03-26</td>\n",
              "    </tr>\n",
              "    <tr>\n",
              "      <th>4</th>\n",
              "      <td>A</td>\n",
              "      <td>DO</td>\n",
              "      <td>186274</td>\n",
              "      <td>2019-04-04</td>\n",
              "    </tr>\n",
              "  </tbody>\n",
              "</table>\n",
              "</div>"
            ],
            "text/plain": [
              "  vendor_name enterprise_name  total_amount repayment_date\n",
              "0           A              DO         38314     2019-03-11\n",
              "1           A              DO        406447     2019-03-19\n",
              "2           A              DO         47904     2019-03-20\n",
              "3           A              DO         37547     2019-03-26\n",
              "4           A              DO        186274     2019-04-04"
            ]
          },
          "metadata": {
            "tags": []
          },
          "execution_count": 7
        }
      ]
    },
    {
      "cell_type": "code",
      "metadata": {
        "id": "05_hlCb9BtKL",
        "colab_type": "code",
        "colab": {
          "base_uri": "https://localhost:8080/",
          "height": 204
        },
        "outputId": "a1dc67e2-527c-409a-85e4-50265801df5f"
      },
      "source": [
        "# quickly looking into the test dataset \n",
        "test_df.head()"
      ],
      "execution_count": null,
      "outputs": [
        {
          "output_type": "execute_result",
          "data": {
            "text/html": [
              "<div>\n",
              "<style scoped>\n",
              "    .dataframe tbody tr th:only-of-type {\n",
              "        vertical-align: middle;\n",
              "    }\n",
              "\n",
              "    .dataframe tbody tr th {\n",
              "        vertical-align: top;\n",
              "    }\n",
              "\n",
              "    .dataframe thead th {\n",
              "        text-align: right;\n",
              "    }\n",
              "</style>\n",
              "<table border=\"1\" class=\"dataframe\">\n",
              "  <thead>\n",
              "    <tr style=\"text-align: right;\">\n",
              "      <th></th>\n",
              "      <th>vendor_name</th>\n",
              "      <th>enterprise_name</th>\n",
              "      <th>total_amount</th>\n",
              "      <th>repayment_date</th>\n",
              "    </tr>\n",
              "  </thead>\n",
              "  <tbody>\n",
              "    <tr>\n",
              "      <th>0</th>\n",
              "      <td>A</td>\n",
              "      <td>DO</td>\n",
              "      <td>24520</td>\n",
              "      <td>2020-02-17</td>\n",
              "    </tr>\n",
              "    <tr>\n",
              "      <th>1</th>\n",
              "      <td>A</td>\n",
              "      <td>DO</td>\n",
              "      <td>8820</td>\n",
              "      <td>2020-02-20</td>\n",
              "    </tr>\n",
              "    <tr>\n",
              "      <th>2</th>\n",
              "      <td>A</td>\n",
              "      <td>DO</td>\n",
              "      <td>129760</td>\n",
              "      <td>2020-02-25</td>\n",
              "    </tr>\n",
              "    <tr>\n",
              "      <th>3</th>\n",
              "      <td>A</td>\n",
              "      <td>DO</td>\n",
              "      <td>185185</td>\n",
              "      <td>2020-02-26</td>\n",
              "    </tr>\n",
              "    <tr>\n",
              "      <th>4</th>\n",
              "      <td>A</td>\n",
              "      <td>DO</td>\n",
              "      <td>136382</td>\n",
              "      <td>2020-02-27</td>\n",
              "    </tr>\n",
              "  </tbody>\n",
              "</table>\n",
              "</div>"
            ],
            "text/plain": [
              "  vendor_name enterprise_name  total_amount repayment_date\n",
              "0           A              DO         24520     2020-02-17\n",
              "1           A              DO          8820     2020-02-20\n",
              "2           A              DO        129760     2020-02-25\n",
              "3           A              DO        185185     2020-02-26\n",
              "4           A              DO        136382     2020-02-27"
            ]
          },
          "metadata": {
            "tags": []
          },
          "execution_count": 8
        }
      ]
    },
    {
      "cell_type": "code",
      "metadata": {
        "id": "opT9PLU4NJR1",
        "colab_type": "code",
        "colab": {}
      },
      "source": [
        "# Getting the count of transactions per vendor-enterprise pair\n",
        "df2 = training_df.groupby(['vendor_name', 'enterprise_name']).count()"
      ],
      "execution_count": null,
      "outputs": []
    },
    {
      "cell_type": "code",
      "metadata": {
        "id": "zUjQX1R5OFlf",
        "colab_type": "code",
        "colab": {
          "base_uri": "https://localhost:8080/",
          "height": 450
        },
        "outputId": "ef0ddfac-3a64-4834-b075-d0281a96102b"
      },
      "source": [
        "# printing the same\n",
        "df2"
      ],
      "execution_count": null,
      "outputs": [
        {
          "output_type": "execute_result",
          "data": {
            "text/html": [
              "<div>\n",
              "<style scoped>\n",
              "    .dataframe tbody tr th:only-of-type {\n",
              "        vertical-align: middle;\n",
              "    }\n",
              "\n",
              "    .dataframe tbody tr th {\n",
              "        vertical-align: top;\n",
              "    }\n",
              "\n",
              "    .dataframe thead th {\n",
              "        text-align: right;\n",
              "    }\n",
              "</style>\n",
              "<table border=\"1\" class=\"dataframe\">\n",
              "  <thead>\n",
              "    <tr style=\"text-align: right;\">\n",
              "      <th></th>\n",
              "      <th></th>\n",
              "      <th>total_amount</th>\n",
              "      <th>repayment_date</th>\n",
              "    </tr>\n",
              "    <tr>\n",
              "      <th>vendor_name</th>\n",
              "      <th>enterprise_name</th>\n",
              "      <th></th>\n",
              "      <th></th>\n",
              "    </tr>\n",
              "  </thead>\n",
              "  <tbody>\n",
              "    <tr>\n",
              "      <th rowspan=\"2\" valign=\"top\">A</th>\n",
              "      <th>DO</th>\n",
              "      <td>99</td>\n",
              "      <td>99</td>\n",
              "    </tr>\n",
              "    <tr>\n",
              "      <th>LP</th>\n",
              "      <td>11</td>\n",
              "      <td>11</td>\n",
              "    </tr>\n",
              "    <tr>\n",
              "      <th rowspan=\"3\" valign=\"top\">AA</th>\n",
              "      <th>FQ</th>\n",
              "      <td>26</td>\n",
              "      <td>26</td>\n",
              "    </tr>\n",
              "    <tr>\n",
              "      <th>IF</th>\n",
              "      <td>14</td>\n",
              "      <td>14</td>\n",
              "    </tr>\n",
              "    <tr>\n",
              "      <th>IG</th>\n",
              "      <td>55</td>\n",
              "      <td>55</td>\n",
              "    </tr>\n",
              "    <tr>\n",
              "      <th>...</th>\n",
              "      <th>...</th>\n",
              "      <td>...</td>\n",
              "      <td>...</td>\n",
              "    </tr>\n",
              "    <tr>\n",
              "      <th rowspan=\"4\" valign=\"top\">YR</th>\n",
              "      <th>KS</th>\n",
              "      <td>11</td>\n",
              "      <td>11</td>\n",
              "    </tr>\n",
              "    <tr>\n",
              "      <th>KV</th>\n",
              "      <td>30</td>\n",
              "      <td>30</td>\n",
              "    </tr>\n",
              "    <tr>\n",
              "      <th>UD</th>\n",
              "      <td>10</td>\n",
              "      <td>10</td>\n",
              "    </tr>\n",
              "    <tr>\n",
              "      <th>YR</th>\n",
              "      <td>14</td>\n",
              "      <td>14</td>\n",
              "    </tr>\n",
              "    <tr>\n",
              "      <th>Z</th>\n",
              "      <th>FP</th>\n",
              "      <td>83</td>\n",
              "      <td>83</td>\n",
              "    </tr>\n",
              "  </tbody>\n",
              "</table>\n",
              "<p>243 rows × 2 columns</p>\n",
              "</div>"
            ],
            "text/plain": [
              "                             total_amount  repayment_date\n",
              "vendor_name enterprise_name                              \n",
              "A           DO                         99              99\n",
              "            LP                         11              11\n",
              "AA          FQ                         26              26\n",
              "            IF                         14              14\n",
              "            IG                         55              55\n",
              "...                                   ...             ...\n",
              "YR          KS                         11              11\n",
              "            KV                         30              30\n",
              "            UD                         10              10\n",
              "            YR                         14              14\n",
              "Z           FP                         83              83\n",
              "\n",
              "[243 rows x 2 columns]"
            ]
          },
          "metadata": {
            "tags": []
          },
          "execution_count": 10
        }
      ]
    },
    {
      "cell_type": "code",
      "metadata": {
        "id": "ObWT5P3Xlvzi",
        "colab_type": "code",
        "colab": {}
      },
      "source": [
        "# Extracting the data for first enterprise vendor pair to analyse it.\n",
        "sampled_df_1 = training_df.loc[(training_df['vendor_name'] == 'A') & (training_df['enterprise_name'] == 'DO')]"
      ],
      "execution_count": null,
      "outputs": []
    },
    {
      "cell_type": "code",
      "metadata": {
        "id": "pFrP4VQGmYmq",
        "colab_type": "code",
        "colab": {
          "base_uri": "https://localhost:8080/",
          "height": 419
        },
        "outputId": "51551844-5026-4734-d0e4-1b27bd91d6bb"
      },
      "source": [
        "#printing the same\n",
        "sampled_df_1"
      ],
      "execution_count": null,
      "outputs": [
        {
          "output_type": "execute_result",
          "data": {
            "text/html": [
              "<div>\n",
              "<style scoped>\n",
              "    .dataframe tbody tr th:only-of-type {\n",
              "        vertical-align: middle;\n",
              "    }\n",
              "\n",
              "    .dataframe tbody tr th {\n",
              "        vertical-align: top;\n",
              "    }\n",
              "\n",
              "    .dataframe thead th {\n",
              "        text-align: right;\n",
              "    }\n",
              "</style>\n",
              "<table border=\"1\" class=\"dataframe\">\n",
              "  <thead>\n",
              "    <tr style=\"text-align: right;\">\n",
              "      <th></th>\n",
              "      <th>vendor_name</th>\n",
              "      <th>enterprise_name</th>\n",
              "      <th>total_amount</th>\n",
              "      <th>repayment_date</th>\n",
              "    </tr>\n",
              "  </thead>\n",
              "  <tbody>\n",
              "    <tr>\n",
              "      <th>0</th>\n",
              "      <td>A</td>\n",
              "      <td>DO</td>\n",
              "      <td>38314</td>\n",
              "      <td>2019-03-11</td>\n",
              "    </tr>\n",
              "    <tr>\n",
              "      <th>1</th>\n",
              "      <td>A</td>\n",
              "      <td>DO</td>\n",
              "      <td>406447</td>\n",
              "      <td>2019-03-19</td>\n",
              "    </tr>\n",
              "    <tr>\n",
              "      <th>2</th>\n",
              "      <td>A</td>\n",
              "      <td>DO</td>\n",
              "      <td>47904</td>\n",
              "      <td>2019-03-20</td>\n",
              "    </tr>\n",
              "    <tr>\n",
              "      <th>3</th>\n",
              "      <td>A</td>\n",
              "      <td>DO</td>\n",
              "      <td>37547</td>\n",
              "      <td>2019-03-26</td>\n",
              "    </tr>\n",
              "    <tr>\n",
              "      <th>4</th>\n",
              "      <td>A</td>\n",
              "      <td>DO</td>\n",
              "      <td>186274</td>\n",
              "      <td>2019-04-04</td>\n",
              "    </tr>\n",
              "    <tr>\n",
              "      <th>...</th>\n",
              "      <td>...</td>\n",
              "      <td>...</td>\n",
              "      <td>...</td>\n",
              "      <td>...</td>\n",
              "    </tr>\n",
              "    <tr>\n",
              "      <th>94</th>\n",
              "      <td>A</td>\n",
              "      <td>DO</td>\n",
              "      <td>23840</td>\n",
              "      <td>2020-02-11</td>\n",
              "    </tr>\n",
              "    <tr>\n",
              "      <th>95</th>\n",
              "      <td>A</td>\n",
              "      <td>DO</td>\n",
              "      <td>24718</td>\n",
              "      <td>2020-02-13</td>\n",
              "    </tr>\n",
              "    <tr>\n",
              "      <th>96</th>\n",
              "      <td>A</td>\n",
              "      <td>DO</td>\n",
              "      <td>123196</td>\n",
              "      <td>2020-03-11</td>\n",
              "    </tr>\n",
              "    <tr>\n",
              "      <th>97</th>\n",
              "      <td>A</td>\n",
              "      <td>DO</td>\n",
              "      <td>88260</td>\n",
              "      <td>2020-03-20</td>\n",
              "    </tr>\n",
              "    <tr>\n",
              "      <th>98</th>\n",
              "      <td>A</td>\n",
              "      <td>DO</td>\n",
              "      <td>28321</td>\n",
              "      <td>2020-03-23</td>\n",
              "    </tr>\n",
              "  </tbody>\n",
              "</table>\n",
              "<p>99 rows × 4 columns</p>\n",
              "</div>"
            ],
            "text/plain": [
              "   vendor_name enterprise_name  total_amount repayment_date\n",
              "0            A              DO         38314     2019-03-11\n",
              "1            A              DO        406447     2019-03-19\n",
              "2            A              DO         47904     2019-03-20\n",
              "3            A              DO         37547     2019-03-26\n",
              "4            A              DO        186274     2019-04-04\n",
              "..         ...             ...           ...            ...\n",
              "94           A              DO         23840     2020-02-11\n",
              "95           A              DO         24718     2020-02-13\n",
              "96           A              DO        123196     2020-03-11\n",
              "97           A              DO         88260     2020-03-20\n",
              "98           A              DO         28321     2020-03-23\n",
              "\n",
              "[99 rows x 4 columns]"
            ]
          },
          "metadata": {
            "tags": []
          },
          "execution_count": 12
        }
      ]
    },
    {
      "cell_type": "code",
      "metadata": {
        "id": "5QfAWF5kB6em",
        "colab_type": "code",
        "colab": {
          "base_uri": "https://localhost:8080/",
          "height": 102
        },
        "outputId": "2b56ac41-8f94-44e8-8b3d-1c74b3382726"
      },
      "source": [
        "#printing the datatypes of all the columns in pandas dataframe\n",
        "print(sampled_df_1.dtypes)"
      ],
      "execution_count": null,
      "outputs": [
        {
          "output_type": "stream",
          "text": [
            "vendor_name        object\n",
            "enterprise_name    object\n",
            "total_amount        int64\n",
            "repayment_date     object\n",
            "dtype: object\n"
          ],
          "name": "stdout"
        }
      ]
    },
    {
      "cell_type": "code",
      "metadata": {
        "id": "nAdbA-9IDe3P",
        "colab_type": "code",
        "colab": {
          "base_uri": "https://localhost:8080/",
          "height": 153
        },
        "outputId": "2b1219d3-efcb-489e-98aa-e56812605fe9"
      },
      "source": [
        "# Converting the datatype of repayment_date to datetime \n",
        "sampled_df_1.loc[:, 'repayment_date'] = pd.to_datetime(sampled_df_1['repayment_date'].str.strip(), format='%Y-%m-%d')\n",
        "print ('\\n Parsed Data:')\n",
        "print (sampled_df_1.head())"
      ],
      "execution_count": null,
      "outputs": [
        {
          "output_type": "stream",
          "text": [
            "\n",
            " Parsed Data:\n",
            "  vendor_name enterprise_name  total_amount repayment_date\n",
            "0           A              DO         38314     2019-03-11\n",
            "1           A              DO        406447     2019-03-19\n",
            "2           A              DO         47904     2019-03-20\n",
            "3           A              DO         37547     2019-03-26\n",
            "4           A              DO        186274     2019-04-04\n"
          ],
          "name": "stdout"
        }
      ]
    },
    {
      "cell_type": "code",
      "metadata": {
        "id": "Tbz8KkZVIVf1",
        "colab_type": "code",
        "colab": {
          "base_uri": "https://localhost:8080/",
          "height": 102
        },
        "outputId": "105567d2-17a8-43f0-e1e1-d6dee55dbb93"
      },
      "source": [
        "# Printing the datatypes to verify whether datatype for repayment date is changed or not\n",
        "print(sampled_df_1.dtypes)"
      ],
      "execution_count": null,
      "outputs": [
        {
          "output_type": "stream",
          "text": [
            "vendor_name                object\n",
            "enterprise_name            object\n",
            "total_amount                int64\n",
            "repayment_date     datetime64[ns]\n",
            "dtype: object\n"
          ],
          "name": "stdout"
        }
      ]
    },
    {
      "cell_type": "code",
      "metadata": {
        "id": "5DjtBMjCJpwT",
        "colab_type": "code",
        "colab": {}
      },
      "source": [
        "# droppping the vendor_name and enterprise column as they are no longer needed\n",
        "sampled_df_1.drop(['vendor_name', 'enterprise_name'], axis = 1, inplace = True) "
      ],
      "execution_count": null,
      "outputs": []
    },
    {
      "cell_type": "code",
      "metadata": {
        "id": "Aq4bkUEpKOtG",
        "colab_type": "code",
        "colab": {}
      },
      "source": [
        "# convert the daywise data to weekly data and indexing the dataframe with repayment date\n",
        "sampled_df_1.set_index('repayment_date', inplace=True)\n",
        "sampled_df_daily = sampled_df_1.resample('D').sum().fillna(0)\n",
        "sampled_df_1 = sampled_df_1.resample('W').sum().fillna(0)"
      ],
      "execution_count": null,
      "outputs": []
    },
    {
      "cell_type": "code",
      "metadata": {
        "id": "uL70kRfbKDpC",
        "colab_type": "code",
        "colab": {
          "base_uri": "https://localhost:8080/",
          "height": 272
        },
        "outputId": "9048f20b-55dd-4b60-d930-175618ed7eed"
      },
      "source": [
        "# verifying whether index is set or not\n",
        "sampled_df_1.index"
      ],
      "execution_count": null,
      "outputs": [
        {
          "output_type": "execute_result",
          "data": {
            "text/plain": [
              "DatetimeIndex(['2019-03-17', '2019-03-24', '2019-03-31', '2019-04-07',\n",
              "               '2019-04-14', '2019-04-21', '2019-04-28', '2019-05-05',\n",
              "               '2019-05-12', '2019-05-19', '2019-05-26', '2019-06-02',\n",
              "               '2019-06-09', '2019-06-16', '2019-06-23', '2019-06-30',\n",
              "               '2019-07-07', '2019-07-14', '2019-07-21', '2019-07-28',\n",
              "               '2019-08-04', '2019-08-11', '2019-08-18', '2019-08-25',\n",
              "               '2019-09-01', '2019-09-08', '2019-09-15', '2019-09-22',\n",
              "               '2019-09-29', '2019-10-06', '2019-10-13', '2019-10-20',\n",
              "               '2019-10-27', '2019-11-03', '2019-11-10', '2019-11-17',\n",
              "               '2019-11-24', '2019-12-01', '2019-12-08', '2019-12-15',\n",
              "               '2019-12-22', '2019-12-29', '2020-01-05', '2020-01-12',\n",
              "               '2020-01-19', '2020-01-26', '2020-02-02', '2020-02-09',\n",
              "               '2020-02-16', '2020-02-23', '2020-03-01', '2020-03-08',\n",
              "               '2020-03-15', '2020-03-22', '2020-03-29'],\n",
              "              dtype='datetime64[ns]', name='repayment_date', freq='W-SUN')"
            ]
          },
          "metadata": {
            "tags": []
          },
          "execution_count": 18
        }
      ]
    },
    {
      "cell_type": "code",
      "metadata": {
        "id": "H0MxslN4Uc5J",
        "colab_type": "code",
        "colab": {
          "base_uri": "https://localhost:8080/",
          "height": 235
        },
        "outputId": "6151bad4-544e-4790-d512-f41dc2c83162"
      },
      "source": [
        "# looking into the newly created dataframe\n",
        "sampled_df_1.head()"
      ],
      "execution_count": null,
      "outputs": [
        {
          "output_type": "execute_result",
          "data": {
            "text/html": [
              "<div>\n",
              "<style scoped>\n",
              "    .dataframe tbody tr th:only-of-type {\n",
              "        vertical-align: middle;\n",
              "    }\n",
              "\n",
              "    .dataframe tbody tr th {\n",
              "        vertical-align: top;\n",
              "    }\n",
              "\n",
              "    .dataframe thead th {\n",
              "        text-align: right;\n",
              "    }\n",
              "</style>\n",
              "<table border=\"1\" class=\"dataframe\">\n",
              "  <thead>\n",
              "    <tr style=\"text-align: right;\">\n",
              "      <th></th>\n",
              "      <th>total_amount</th>\n",
              "    </tr>\n",
              "    <tr>\n",
              "      <th>repayment_date</th>\n",
              "      <th></th>\n",
              "    </tr>\n",
              "  </thead>\n",
              "  <tbody>\n",
              "    <tr>\n",
              "      <th>2019-03-17</th>\n",
              "      <td>38314</td>\n",
              "    </tr>\n",
              "    <tr>\n",
              "      <th>2019-03-24</th>\n",
              "      <td>454351</td>\n",
              "    </tr>\n",
              "    <tr>\n",
              "      <th>2019-03-31</th>\n",
              "      <td>37547</td>\n",
              "    </tr>\n",
              "    <tr>\n",
              "      <th>2019-04-07</th>\n",
              "      <td>229361</td>\n",
              "    </tr>\n",
              "    <tr>\n",
              "      <th>2019-04-14</th>\n",
              "      <td>0</td>\n",
              "    </tr>\n",
              "  </tbody>\n",
              "</table>\n",
              "</div>"
            ],
            "text/plain": [
              "                total_amount\n",
              "repayment_date              \n",
              "2019-03-17             38314\n",
              "2019-03-24            454351\n",
              "2019-03-31             37547\n",
              "2019-04-07            229361\n",
              "2019-04-14                 0"
            ]
          },
          "metadata": {
            "tags": []
          },
          "execution_count": 19
        }
      ]
    },
    {
      "cell_type": "code",
      "metadata": {
        "id": "MkMBfZfOLrzZ",
        "colab_type": "code",
        "colab": {
          "base_uri": "https://localhost:8080/",
          "height": 221
        },
        "outputId": "8d53b80d-5c13-427d-e37b-c2ff25fb9b8e"
      },
      "source": [
        "# Converting the dataframe into series with repayment date as indexes\n",
        "ts = sampled_df_1['total_amount'] \n",
        "ts.head(10)"
      ],
      "execution_count": null,
      "outputs": [
        {
          "output_type": "execute_result",
          "data": {
            "text/plain": [
              "repayment_date\n",
              "2019-03-17     38314\n",
              "2019-03-24    454351\n",
              "2019-03-31     37547\n",
              "2019-04-07    229361\n",
              "2019-04-14         0\n",
              "2019-04-21     22005\n",
              "2019-04-28    401079\n",
              "2019-05-05     81112\n",
              "2019-05-12    108412\n",
              "2019-05-19     14243\n",
              "Freq: W-SUN, Name: total_amount, dtype: int64"
            ]
          },
          "metadata": {
            "tags": []
          },
          "execution_count": 20
        }
      ]
    },
    {
      "cell_type": "code",
      "metadata": {
        "id": "9J8yew7iOJVf",
        "colab_type": "code",
        "colab": {}
      },
      "source": [
        "# function to test the stationarity of time series\n",
        "def test_stationarity(timeseries):\n",
        "    \n",
        "    #Determing rolling statistics\n",
        "    rolmean = timeseries.rolling(4).mean()\n",
        "    rolstd = timeseries.rolling(4).std()\n",
        "\n",
        "    #Plot rolling statistics:\n",
        "    orig = plt.plot(timeseries, color='blue',label='Original')\n",
        "    mean = plt.plot(rolmean, color='red', label='Rolling Mean')\n",
        "    std = plt.plot(rolstd, color='black', label = 'Rolling Std')\n",
        "    plt.legend(loc='best')\n",
        "    plt.title('Rolling Mean & Standard Deviation')\n",
        "    plt.show(block=False)\n",
        "    \n",
        "    #Perform Dickey-Fuller test:\n",
        "    print('Results of Dickey-Fuller Test:')\n",
        "    dftest = adfuller(timeseries, autolag='AIC')\n",
        "    dfoutput = pd.Series(dftest[0:4], index=['Test Statistic','p-value','#Lags Used','Number of Observations Used'])\n",
        "    for key,value in dftest[4].items():\n",
        "        dfoutput['Critical Value (%s)'%key] = value\n",
        "    print(dfoutput)"
      ],
      "execution_count": null,
      "outputs": []
    },
    {
      "cell_type": "markdown",
      "metadata": {
        "id": "kunIBeqcTDzf",
        "colab_type": "text"
      },
      "source": [
        "Notes: \n",
        "\n",
        "*   Interval of 4 is choosen for determining the rolling mean or standard deviation because data is choosen weekwise and thus, rolling mean or standard deviation is calculated per month wise.\n",
        "\n",
        "*   Here autolag = 'AIC' is choosen in which number of lags is chosen to minimize the corresponding information criterion.\n",
        "\n",
        "\n"
      ]
    },
    {
      "cell_type": "code",
      "metadata": {
        "id": "cFj-h05LP_pU",
        "colab_type": "code",
        "colab": {
          "base_uri": "https://localhost:8080/",
          "height": 434
        },
        "outputId": "eb688639-1c97-4ff7-a6c8-031026db71c7"
      },
      "source": [
        "# Testing the stationarity of our timeseries\n",
        "test_stationarity(ts)"
      ],
      "execution_count": null,
      "outputs": [
        {
          "output_type": "display_data",
          "data": {
            "image/png": "[encoded data removed]",
            "text/plain": [
              "<Figure size 432x288 with 1 Axes>"
            ]
          },
          "metadata": {
            "tags": [],
            "needs_background": "light"
          }
        },
        {
          "output_type": "stream",
          "text": [
            "Results of Dickey-Fuller Test:\n",
            "Test Statistic                 -2.617178\n",
            "p-value                         0.089499\n",
            "#Lags Used                      2.000000\n",
            "Number of Observations Used    52.000000\n",
            "Critical Value (1%)            -3.562879\n",
            "Critical Value (5%)            -2.918973\n",
            "Critical Value (10%)           -2.597393\n",
            "dtype: float64\n"
          ],
          "name": "stdout"
        }
      ]
    },
    {
      "cell_type": "markdown",
      "metadata": {
        "id": "za3jgYK9J_lo",
        "colab_type": "text"
      },
      "source": [
        "If p > .10 → “not significant”\n",
        "\n",
        "If p ≤ .10 → “marginally significant”\n",
        "\n",
        "If p ≤ .05 → “significant”\n",
        "\n",
        "If p ≤ .01 → “highly significant."
      ]
    },
    {
      "cell_type": "markdown",
      "metadata": {
        "id": "GzdMYDdxS0dJ",
        "colab_type": "text"
      },
      "source": [
        "Test Statistics> critical values i. e. we do not reject the null hypothesis. And the time series is not stationary\n",
        "\n",
        "It means our timeseries has trend and seasionality.\n",
        "\n",
        "Lower values of P are preferred\n"
      ]
    },
    {
      "cell_type": "code",
      "metadata": {
        "id": "BfZZLE6Z3b9c",
        "colab_type": "code",
        "colab": {
          "base_uri": "https://localhost:8080/",
          "height": 986
        },
        "outputId": "085639e7-be69-45da-8d0e-16d4d50ade9e"
      },
      "source": [
        "ts"
      ],
      "execution_count": null,
      "outputs": [
        {
          "output_type": "execute_result",
          "data": {
            "text/plain": [
              "repayment_date\n",
              "2019-03-17     38314\n",
              "2019-03-24    454351\n",
              "2019-03-31     37547\n",
              "2019-04-07    229361\n",
              "2019-04-14         0\n",
              "2019-04-21     22005\n",
              "2019-04-28    401079\n",
              "2019-05-05     81112\n",
              "2019-05-12    108412\n",
              "2019-05-19     14243\n",
              "2019-05-26    101993\n",
              "2019-06-02    145366\n",
              "2019-06-09     86832\n",
              "2019-06-16     30539\n",
              "2019-06-23    132726\n",
              "2019-06-30    130653\n",
              "2019-07-07     43426\n",
              "2019-07-14     52196\n",
              "2019-07-21         0\n",
              "2019-07-28    167063\n",
              "2019-08-04    100953\n",
              "2019-08-11     31069\n",
              "2019-08-18    250689\n",
              "2019-08-25    239422\n",
              "2019-09-01     82033\n",
              "2019-09-08    125842\n",
              "2019-09-15    153852\n",
              "2019-09-22     77555\n",
              "2019-09-29     30184\n",
              "2019-10-06     77192\n",
              "2019-10-13    266564\n",
              "2019-10-20    142791\n",
              "2019-10-27    327466\n",
              "2019-11-03     74022\n",
              "2019-11-10      4098\n",
              "2019-11-17    214529\n",
              "2019-11-24    272481\n",
              "2019-12-01     87372\n",
              "2019-12-08    262992\n",
              "2019-12-15    474122\n",
              "2019-12-22     47438\n",
              "2019-12-29    320863\n",
              "2020-01-05    432477\n",
              "2020-01-12     59583\n",
              "2020-01-19    285130\n",
              "2020-01-26    292039\n",
              "2020-02-02    165618\n",
              "2020-02-09     44581\n",
              "2020-02-16     81519\n",
              "2020-02-23         0\n",
              "2020-03-01         0\n",
              "2020-03-08         0\n",
              "2020-03-15    123196\n",
              "2020-03-22     88260\n",
              "2020-03-29     28321\n",
              "Freq: W-SUN, Name: total_amount, dtype: int64"
            ]
          },
          "metadata": {
            "tags": []
          },
          "execution_count": 23
        }
      ]
    },
    {
      "cell_type": "code",
      "metadata": {
        "id": "d5-gB-xk22yT",
        "colab_type": "code",
        "colab": {}
      },
      "source": [
        "# adding this fraction to remove didvide by zero while doing log transformation\n",
        "ts= ts+0.000000000000001"
      ],
      "execution_count": null,
      "outputs": []
    },
    {
      "cell_type": "code",
      "metadata": {
        "id": "H1_z1aYa2-l1",
        "colab_type": "code",
        "colab": {
          "base_uri": "https://localhost:8080/",
          "height": 986
        },
        "outputId": "283cb1b9-caf2-4135-dd22-858b9337f3c1"
      },
      "source": [
        "ts"
      ],
      "execution_count": null,
      "outputs": [
        {
          "output_type": "execute_result",
          "data": {
            "text/plain": [
              "repayment_date\n",
              "2019-03-17    3.831400e+04\n",
              "2019-03-24    4.543510e+05\n",
              "2019-03-31    3.754700e+04\n",
              "2019-04-07    2.293610e+05\n",
              "2019-04-14    1.000000e-15\n",
              "2019-04-21    2.200500e+04\n",
              "2019-04-28    4.010790e+05\n",
              "2019-05-05    8.111200e+04\n",
              "2019-05-12    1.084120e+05\n",
              "2019-05-19    1.424300e+04\n",
              "2019-05-26    1.019930e+05\n",
              "2019-06-02    1.453660e+05\n",
              "2019-06-09    8.683200e+04\n",
              "2019-06-16    3.053900e+04\n",
              "2019-06-23    1.327260e+05\n",
              "2019-06-30    1.306530e+05\n",
              "2019-07-07    4.342600e+04\n",
              "2019-07-14    5.219600e+04\n",
              "2019-07-21    1.000000e-15\n",
              "2019-07-28    1.670630e+05\n",
              "2019-08-04    1.009530e+05\n",
              "2019-08-11    3.106900e+04\n",
              "2019-08-18    2.506890e+05\n",
              "2019-08-25    2.394220e+05\n",
              "2019-09-01    8.203300e+04\n",
              "2019-09-08    1.258420e+05\n",
              "2019-09-15    1.538520e+05\n",
              "2019-09-22    7.755500e+04\n",
              "2019-09-29    3.018400e+04\n",
              "2019-10-06    7.719200e+04\n",
              "2019-10-13    2.665640e+05\n",
              "2019-10-20    1.427910e+05\n",
              "2019-10-27    3.274660e+05\n",
              "2019-11-03    7.402200e+04\n",
              "2019-11-10    4.098000e+03\n",
              "2019-11-17    2.145290e+05\n",
              "2019-11-24    2.724810e+05\n",
              "2019-12-01    8.737200e+04\n",
              "2019-12-08    2.629920e+05\n",
              "2019-12-15    4.741220e+05\n",
              "2019-12-22    4.743800e+04\n",
              "2019-12-29    3.208630e+05\n",
              "2020-01-05    4.324770e+05\n",
              "2020-01-12    5.958300e+04\n",
              "2020-01-19    2.851300e+05\n",
              "2020-01-26    2.920390e+05\n",
              "2020-02-02    1.656180e+05\n",
              "2020-02-09    4.458100e+04\n",
              "2020-02-16    8.151900e+04\n",
              "2020-02-23    1.000000e-15\n",
              "2020-03-01    1.000000e-15\n",
              "2020-03-08    1.000000e-15\n",
              "2020-03-15    1.231960e+05\n",
              "2020-03-22    8.826000e+04\n",
              "2020-03-29    2.832100e+04\n",
              "Freq: W-SUN, Name: total_amount, dtype: float64"
            ]
          },
          "metadata": {
            "tags": []
          },
          "execution_count": 25
        }
      ]
    },
    {
      "cell_type": "code",
      "metadata": {
        "id": "zPe84sLBTAJF",
        "colab_type": "code",
        "colab": {
          "base_uri": "https://localhost:8080/",
          "height": 282
        },
        "outputId": "92be20ee-8808-4a27-da83-5a9f3003cd98"
      },
      "source": [
        "#applying log transformation to reduce the trend by penalizing higher values\n",
        "ts_log = np.log(ts)\n",
        "plt.plot(ts_log)"
      ],
      "execution_count": null,
      "outputs": [
        {
          "output_type": "execute_result",
          "data": {
            "text/plain": [
              "[<matplotlib.lines.Line2D at 0x7f1e521ad160>]"
            ]
          },
          "metadata": {
            "tags": []
          },
          "execution_count": 26
        },
        {
          "output_type": "display_data",
          "data": {
            "image/png": "[encoded data removed]",
            "text/plain": [
              "<Figure size 432x288 with 1 Axes>"
            ]
          },
          "metadata": {
            "tags": [],
            "needs_background": "light"
          }
        }
      ]
    },
    {
      "cell_type": "code",
      "metadata": {
        "id": "o1Npaba443Ck",
        "colab_type": "code",
        "colab": {
          "base_uri": "https://localhost:8080/",
          "height": 434
        },
        "outputId": "b2bdf00b-eec3-48ee-9174-9cb338dd7ef5"
      },
      "source": [
        "test_stationarity(ts_log)"
      ],
      "execution_count": null,
      "outputs": [
        {
          "output_type": "display_data",
          "data": {
            "image/png": "[encoded data removed]",
            "text/plain": [
              "<Figure size 432x288 with 1 Axes>"
            ]
          },
          "metadata": {
            "tags": [],
            "needs_background": "light"
          }
        },
        {
          "output_type": "stream",
          "text": [
            "Results of Dickey-Fuller Test:\n",
            "Test Statistic                 -5.051192\n",
            "p-value                         0.000018\n",
            "#Lags Used                      0.000000\n",
            "Number of Observations Used    54.000000\n",
            "Critical Value (1%)            -3.557709\n",
            "Critical Value (5%)            -2.916770\n",
            "Critical Value (10%)           -2.596222\n",
            "dtype: float64\n"
          ],
          "name": "stdout"
        }
      ]
    },
    {
      "cell_type": "code",
      "metadata": {
        "id": "WUfkkaRGUHQS",
        "colab_type": "code",
        "colab": {
          "base_uri": "https://localhost:8080/",
          "height": 282
        },
        "outputId": "f9b8b1d2-c69e-4787-bc60-fad37c5544ea"
      },
      "source": [
        "#applying smoothening to calculate noise\n",
        "moving_avg = ts_log.rolling(4).mean()\n",
        "plt.plot(ts_log)\n",
        "plt.plot(moving_avg, color='red')"
      ],
      "execution_count": null,
      "outputs": [
        {
          "output_type": "execute_result",
          "data": {
            "text/plain": [
              "[<matplotlib.lines.Line2D at 0x7f1e50e98978>]"
            ]
          },
          "metadata": {
            "tags": []
          },
          "execution_count": 28
        },
        {
          "output_type": "display_data",
          "data": {
            "image/png": "[encoded data removed]",
            "text/plain": [
              "<Figure size 432x288 with 1 Axes>"
            ]
          },
          "metadata": {
            "tags": [],
            "needs_background": "light"
          }
        }
      ]
    },
    {
      "cell_type": "code",
      "metadata": {
        "id": "QxJc1GTNUX1I",
        "colab_type": "code",
        "colab": {
          "base_uri": "https://localhost:8080/",
          "height": 136
        },
        "outputId": "c7fa7a49-46ed-4241-e41b-7825c6d0103a"
      },
      "source": [
        "#subtracting that term from the time_Series to further reduce noise\n",
        "ts_log_moving_avg_diff = ts_log - moving_avg\n",
        "\n",
        "# Since we are taking average for first 4 weeks, rolling mean is not defined for first 3 weeks\n",
        "ts_log_moving_avg_diff.head(5)"
      ],
      "execution_count": null,
      "outputs": [
        {
          "output_type": "execute_result",
          "data": {
            "text/plain": [
              "repayment_date\n",
              "2019-03-17          NaN\n",
              "2019-03-24          NaN\n",
              "2019-03-31          NaN\n",
              "2019-04-07     0.728903\n",
              "2019-04-14   -34.879839\n",
              "Freq: W-SUN, Name: total_amount, dtype: float64"
            ]
          },
          "metadata": {
            "tags": []
          },
          "execution_count": 29
        }
      ]
    },
    {
      "cell_type": "code",
      "metadata": {
        "id": "2efH_P8RUw1v",
        "colab_type": "code",
        "colab": {
          "base_uri": "https://localhost:8080/",
          "height": 434
        },
        "outputId": "b81861c7-d37b-42db-ad4e-ce94eec2a508"
      },
      "source": [
        "# dropping the first three NAN values and then plotting the graph for checking stationarity\n",
        "ts_log_moving_avg_diff.dropna(inplace=True)\n",
        "test_stationarity(ts_log_moving_avg_diff)"
      ],
      "execution_count": null,
      "outputs": [
        {
          "output_type": "display_data",
          "data": {
            "image/png": "[encoded data removed]",
            "text/plain": [
              "<Figure size 432x288 with 1 Axes>"
            ]
          },
          "metadata": {
            "tags": [],
            "needs_background": "light"
          }
        },
        {
          "output_type": "stream",
          "text": [
            "Results of Dickey-Fuller Test:\n",
            "Test Statistic                -6.117284e+00\n",
            "p-value                        9.030626e-08\n",
            "#Lags Used                     2.000000e+00\n",
            "Number of Observations Used    4.900000e+01\n",
            "Critical Value (1%)           -3.571472e+00\n",
            "Critical Value (5%)           -2.922629e+00\n",
            "Critical Value (10%)          -2.599336e+00\n",
            "dtype: float64\n"
          ],
          "name": "stdout"
        }
      ]
    },
    {
      "cell_type": "code",
      "metadata": {
        "id": "-SwTUf1pUz_Q",
        "colab_type": "code",
        "colab": {
          "base_uri": "https://localhost:8080/",
          "height": 282
        },
        "outputId": "78336575-c3de-4d4d-cd4d-0bc4dce3642b"
      },
      "source": [
        "# applying exponentially weighted moving average to the log series to calculate noise\n",
        "expwighted_avg = ts_log.ewm(halflife=4).mean()\n",
        "plt.plot(ts_log)\n",
        "plt.plot(expwighted_avg, color='red')"
      ],
      "execution_count": null,
      "outputs": [
        {
          "output_type": "execute_result",
          "data": {
            "text/plain": [
              "[<matplotlib.lines.Line2D at 0x7f1e50d7df60>]"
            ]
          },
          "metadata": {
            "tags": []
          },
          "execution_count": 31
        },
        {
          "output_type": "display_data",
          "data": {
            "image/png": "[encoded data removed]",
            "text/plain": [
              "<Figure size 432x288 with 1 Axes>"
            ]
          },
          "metadata": {
            "tags": [],
            "needs_background": "light"
          }
        }
      ]
    },
    {
      "cell_type": "code",
      "metadata": {
        "id": "z-jmqQ56Wgzw",
        "colab_type": "code",
        "colab": {
          "base_uri": "https://localhost:8080/",
          "height": 434
        },
        "outputId": "bfdcdd9e-04c1-4a71-dc16-93109b162b35"
      },
      "source": [
        "# substracting it from the series to reduce noise\n",
        "ts_log_ewma_diff = ts_log - expwighted_avg\n",
        "test_stationarity(ts_log_ewma_diff)"
      ],
      "execution_count": null,
      "outputs": [
        {
          "output_type": "display_data",
          "data": {
            "image/png": "[encoded data removed]",
            "text/plain": [
              "<Figure size 432x288 with 1 Axes>"
            ]
          },
          "metadata": {
            "tags": [],
            "needs_background": "light"
          }
        },
        {
          "output_type": "stream",
          "text": [
            "Results of Dickey-Fuller Test:\n",
            "Test Statistic                 -4.617395\n",
            "p-value                         0.000120\n",
            "#Lags Used                      2.000000\n",
            "Number of Observations Used    52.000000\n",
            "Critical Value (1%)            -3.562879\n",
            "Critical Value (5%)            -2.918973\n",
            "Critical Value (10%)           -2.597393\n",
            "dtype: float64\n"
          ],
          "name": "stdout"
        }
      ]
    },
    {
      "cell_type": "code",
      "metadata": {
        "id": "f_MS1dGIW_RI",
        "colab_type": "code",
        "colab": {
          "base_uri": "https://localhost:8080/",
          "height": 282
        },
        "outputId": "714bea64-d00b-44d1-eea0-f1fbb8e8574b"
      },
      "source": [
        "# using first order differencing to eliminate trend and seasionality or to improve stationarity\n",
        "ts_log_diff = ts_log - ts_log.shift()\n",
        "plt.plot(ts_log_diff)"
      ],
      "execution_count": null,
      "outputs": [
        {
          "output_type": "execute_result",
          "data": {
            "text/plain": [
              "[<matplotlib.lines.Line2D at 0x7f1e50c800b8>]"
            ]
          },
          "metadata": {
            "tags": []
          },
          "execution_count": 33
        },
        {
          "output_type": "display_data",
          "data": {
            "image/png": "[encoded data removed]",
            "text/plain": [
              "<Figure size 432x288 with 1 Axes>"
            ]
          },
          "metadata": {
            "tags": [],
            "needs_background": "light"
          }
        }
      ]
    },
    {
      "cell_type": "code",
      "metadata": {
        "id": "JYGavSpHXGra",
        "colab_type": "code",
        "colab": {
          "base_uri": "https://localhost:8080/",
          "height": 434
        },
        "outputId": "75e44c8b-2e62-440c-e62e-9cd485ee0a1f"
      },
      "source": [
        "# applying Dickey Fuller Test to check for stationarity\n",
        "ts_log_diff.dropna(inplace=True)\n",
        "test_stationarity(ts_log_diff)"
      ],
      "execution_count": null,
      "outputs": [
        {
          "output_type": "display_data",
          "data": {
            "image/png": "[encoded data removed]",
            "text/plain": [
              "<Figure size 432x288 with 1 Axes>"
            ]
          },
          "metadata": {
            "tags": [],
            "needs_background": "light"
          }
        },
        {
          "output_type": "stream",
          "text": [
            "Results of Dickey-Fuller Test:\n",
            "Test Statistic                 -4.789428\n",
            "p-value                         0.000057\n",
            "#Lags Used                      4.000000\n",
            "Number of Observations Used    49.000000\n",
            "Critical Value (1%)            -3.571472\n",
            "Critical Value (5%)            -2.922629\n",
            "Critical Value (10%)           -2.599336\n",
            "dtype: float64\n"
          ],
          "name": "stdout"
        }
      ]
    }
  ]
}