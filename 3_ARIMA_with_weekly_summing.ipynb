{
  "nbformat": 4,
  "nbformat_minor": 0,
  "metadata": {
    "colab": {
      "name": "3-ARIMA-with weekly summing",
      "provenance": [],
      "collapsed_sections": []
    },
    "kernelspec": {
      "name": "python3",
      "display_name": "Python 3"
    }
  },
  "cells": [
    {
      "cell_type": "code",
      "metadata": {
        "id": "dzVbZGvOAAge",
        "colab_type": "code",
        "colab": {
          "base_uri": "https://localhost:8080/",
          "height": 71
        },
        "outputId": "1cf66df1-b7e3-4ec3-9720-19fe57fda008"
      },
      "source": [
        "# importing required libraries\n",
        "from pydrive.auth import GoogleAuth\n",
        "from pydrive.drive import GoogleDrive\n",
        "from google.colab import auth\n",
        "from oauth2client.client import GoogleCredentials\n",
        "import pandas as pd\n",
        "import matplotlib.pyplot as plt\n",
        "import numpy as np\n",
        "import matplotlib.dates as mdates \n",
        "from statsmodels.tsa.arima_model import ARIMA\n",
        "from statsmodels.tsa.stattools import adfuller\n",
        "from statsmodels.tsa.stattools import adfuller\n",
        "from statsmodels.tsa.seasonal import seasonal_decompose\n",
        "from statsmodels.tsa.stattools import acf, pacf\n",
        "pd.options.mode.chained_assignment = None "
      ],
      "execution_count": null,
      "outputs": [
        {
          "output_type": "stream",
          "text": [
            "/usr/local/lib/python3.6/dist-packages/statsmodels/tools/_testing.py:19: FutureWarning: pandas.util.testing is deprecated. Use the functions in the public API at pandas.testing instead.\n",
            "  import pandas.util.testing as tm\n"
          ],
          "name": "stderr"
        }
      ]
    },
    {
      "cell_type": "code",
      "metadata": {
        "id": "kIqBDB8ZAAGK",
        "colab_type": "code",
        "colab": {}
      },
      "source": [
        "# Authenticate and create the PyDrive client.\n",
        "auth.authenticate_user()\n",
        "gauth = GoogleAuth()\n",
        "gauth.credentials = GoogleCredentials.get_application_default()\n",
        "drive = GoogleDrive(gauth)"
      ],
      "execution_count": null,
      "outputs": []
    },
    {
      "cell_type": "code",
      "metadata": {
        "id": "_HPAXjb1_zcx",
        "colab_type": "code",
        "colab": {}
      },
      "source": [
        "# importing the test and training dataset from drive\n",
        "train_link = 'https://drive.google.com/open?id=1YCmgG6EoeW-suoO9pEJKUzIMBv3iAlew'\n",
        "test_link = 'https://drive.google.com/open?id=17H0OUGoC3-Ld-qITR8QWDIICipS8I9al'"
      ],
      "execution_count": null,
      "outputs": []
    },
    {
      "cell_type": "code",
      "metadata": {
        "id": "9ycf4Ext_5nD",
        "colab_type": "code",
        "colab": {}
      },
      "source": [
        "# extracting the file ids from the url\n",
        "fluff, train_id = train_link.split('=')\n",
        "fluff, test_id = test_link.split('=')"
      ],
      "execution_count": null,
      "outputs": []
    },
    {
      "cell_type": "code",
      "metadata": {
        "id": "sLcEiyRfAEN0",
        "colab_type": "code",
        "colab": {
          "base_uri": "https://localhost:8080/",
          "height": 51
        },
        "outputId": "c3201634-ea86-422d-ac25-60220dfd682e"
      },
      "source": [
        "# validating whether the entire extraction was perfect\n",
        "print(train_id)\n",
        "print(test_id)"
      ],
      "execution_count": null,
      "outputs": [
        {
          "output_type": "stream",
          "text": [
            "1YCmgG6EoeW-suoO9pEJKUzIMBv3iAlew\n",
            "17H0OUGoC3-Ld-qITR8QWDIICipS8I9al\n"
          ],
          "name": "stdout"
        }
      ]
    },
    {
      "cell_type": "code",
      "metadata": {
        "id": "iPAxiJk8AJ8e",
        "colab_type": "code",
        "colab": {}
      },
      "source": [
        "#loading the training dataset\n",
        "downloaded_train = drive.CreateFile({'id':train_id}) \n",
        "downloaded_train.GetContentFile('Training.csv')  \n",
        "training_df = pd.read_csv('Training.csv')\n",
        "\n",
        "#loading the test dataset\n",
        "downloaded_test = drive.CreateFile({'id':test_id}) \n",
        "downloaded_test.GetContentFile('Test.csv')\n",
        "test_df = pd.read_csv('Test.csv')"
      ],
      "execution_count": null,
      "outputs": []
    },
    {
      "cell_type": "code",
      "metadata": {
        "id": "SsNm3_Y3Borm",
        "colab_type": "code",
        "colab": {
          "base_uri": "https://localhost:8080/",
          "height": 204
        },
        "outputId": "2e0fca89-da28-464c-8922-9662ee3519ae"
      },
      "source": [
        "# quickly looking into the training dataset \n",
        "training_df.head()"
      ],
      "execution_count": null,
      "outputs": [
        {
          "output_type": "execute_result",
          "data": {
            "text/html": [
              "<div>\n",
              "<style scoped>\n",
              "    .dataframe tbody tr th:only-of-type {\n",
              "        vertical-align: middle;\n",
              "    }\n",
              "\n",
              "    .dataframe tbody tr th {\n",
              "        vertical-align: top;\n",
              "    }\n",
              "\n",
              "    .dataframe thead th {\n",
              "        text-align: right;\n",
              "    }\n",
              "</style>\n",
              "<table border=\"1\" class=\"dataframe\">\n",
              "  <thead>\n",
              "    <tr style=\"text-align: right;\">\n",
              "      <th></th>\n",
              "      <th>vendor_name</th>\n",
              "      <th>enterprise_name</th>\n",
              "      <th>total_amount</th>\n",
              "      <th>repayment_date</th>\n",
              "    </tr>\n",
              "  </thead>\n",
              "  <tbody>\n",
              "    <tr>\n",
              "      <th>0</th>\n",
              "      <td>A</td>\n",
              "      <td>DO</td>\n",
              "      <td>38314</td>\n",
              "      <td>2019-03-11</td>\n",
              "    </tr>\n",
              "    <tr>\n",
              "      <th>1</th>\n",
              "      <td>A</td>\n",
              "      <td>DO</td>\n",
              "      <td>406447</td>\n",
              "      <td>2019-03-19</td>\n",
              "    </tr>\n",
              "    <tr>\n",
              "      <th>2</th>\n",
              "      <td>A</td>\n",
              "      <td>DO</td>\n",
              "      <td>47904</td>\n",
              "      <td>2019-03-20</td>\n",
              "    </tr>\n",
              "    <tr>\n",
              "      <th>3</th>\n",
              "      <td>A</td>\n",
              "      <td>DO</td>\n",
              "      <td>37547</td>\n",
              "      <td>2019-03-26</td>\n",
              "    </tr>\n",
              "    <tr>\n",
              "      <th>4</th>\n",
              "      <td>A</td>\n",
              "      <td>DO</td>\n",
              "      <td>186274</td>\n",
              "      <td>2019-04-04</td>\n",
              "    </tr>\n",
              "  </tbody>\n",
              "</table>\n",
              "</div>"
            ],
            "text/plain": [
              "  vendor_name enterprise_name  total_amount repayment_date\n",
              "0           A              DO         38314     2019-03-11\n",
              "1           A              DO        406447     2019-03-19\n",
              "2           A              DO         47904     2019-03-20\n",
              "3           A              DO         37547     2019-03-26\n",
              "4           A              DO        186274     2019-04-04"
            ]
          },
          "metadata": {
            "tags": []
          },
          "execution_count": 7
        }
      ]
    },
    {
      "cell_type": "code",
      "metadata": {
        "id": "05_hlCb9BtKL",
        "colab_type": "code",
        "colab": {
          "base_uri": "https://localhost:8080/",
          "height": 204
        },
        "outputId": "44fcf40a-0efd-42e9-8730-fd9e411c83fc"
      },
      "source": [
        "# quickly looking into the test dataset \n",
        "test_df.head()"
      ],
      "execution_count": null,
      "outputs": [
        {
          "output_type": "execute_result",
          "data": {
            "text/html": [
              "<div>\n",
              "<style scoped>\n",
              "    .dataframe tbody tr th:only-of-type {\n",
              "        vertical-align: middle;\n",
              "    }\n",
              "\n",
              "    .dataframe tbody tr th {\n",
              "        vertical-align: top;\n",
              "    }\n",
              "\n",
              "    .dataframe thead th {\n",
              "        text-align: right;\n",
              "    }\n",
              "</style>\n",
              "<table border=\"1\" class=\"dataframe\">\n",
              "  <thead>\n",
              "    <tr style=\"text-align: right;\">\n",
              "      <th></th>\n",
              "      <th>vendor_name</th>\n",
              "      <th>enterprise_name</th>\n",
              "      <th>total_amount</th>\n",
              "      <th>repayment_date</th>\n",
              "    </tr>\n",
              "  </thead>\n",
              "  <tbody>\n",
              "    <tr>\n",
              "      <th>0</th>\n",
              "      <td>A</td>\n",
              "      <td>DO</td>\n",
              "      <td>24520</td>\n",
              "      <td>2020-02-17</td>\n",
              "    </tr>\n",
              "    <tr>\n",
              "      <th>1</th>\n",
              "      <td>A</td>\n",
              "      <td>DO</td>\n",
              "      <td>8820</td>\n",
              "      <td>2020-02-20</td>\n",
              "    </tr>\n",
              "    <tr>\n",
              "      <th>2</th>\n",
              "      <td>A</td>\n",
              "      <td>DO</td>\n",
              "      <td>129760</td>\n",
              "      <td>2020-02-25</td>\n",
              "    </tr>\n",
              "    <tr>\n",
              "      <th>3</th>\n",
              "      <td>A</td>\n",
              "      <td>DO</td>\n",
              "      <td>185185</td>\n",
              "      <td>2020-02-26</td>\n",
              "    </tr>\n",
              "    <tr>\n",
              "      <th>4</th>\n",
              "      <td>A</td>\n",
              "      <td>DO</td>\n",
              "      <td>136382</td>\n",
              "      <td>2020-02-27</td>\n",
              "    </tr>\n",
              "  </tbody>\n",
              "</table>\n",
              "</div>"
            ],
            "text/plain": [
              "  vendor_name enterprise_name  total_amount repayment_date\n",
              "0           A              DO         24520     2020-02-17\n",
              "1           A              DO          8820     2020-02-20\n",
              "2           A              DO        129760     2020-02-25\n",
              "3           A              DO        185185     2020-02-26\n",
              "4           A              DO        136382     2020-02-27"
            ]
          },
          "metadata": {
            "tags": []
          },
          "execution_count": 8
        }
      ]
    },
    {
      "cell_type": "code",
      "metadata": {
        "id": "opT9PLU4NJR1",
        "colab_type": "code",
        "colab": {}
      },
      "source": [
        "# Getting the count of transactions per vendor-enterprise pair\n",
        "df2 = training_df.groupby(['vendor_name', 'enterprise_name']).count()"
      ],
      "execution_count": null,
      "outputs": []
    },
    {
      "cell_type": "code",
      "metadata": {
        "id": "zUjQX1R5OFlf",
        "colab_type": "code",
        "colab": {
          "base_uri": "https://localhost:8080/",
          "height": 450
        },
        "outputId": "c59899f1-0e97-4384-8153-e768c65fcecc"
      },
      "source": [
        "# printing the same\n",
        "df2"
      ],
      "execution_count": null,
      "outputs": [
        {
          "output_type": "execute_result",
          "data": {
            "text/html": [
              "<div>\n",
              "<style scoped>\n",
              "    .dataframe tbody tr th:only-of-type {\n",
              "        vertical-align: middle;\n",
              "    }\n",
              "\n",
              "    .dataframe tbody tr th {\n",
              "        vertical-align: top;\n",
              "    }\n",
              "\n",
              "    .dataframe thead th {\n",
              "        text-align: right;\n",
              "    }\n",
              "</style>\n",
              "<table border=\"1\" class=\"dataframe\">\n",
              "  <thead>\n",
              "    <tr style=\"text-align: right;\">\n",
              "      <th></th>\n",
              "      <th></th>\n",
              "      <th>total_amount</th>\n",
              "      <th>repayment_date</th>\n",
              "    </tr>\n",
              "    <tr>\n",
              "      <th>vendor_name</th>\n",
              "      <th>enterprise_name</th>\n",
              "      <th></th>\n",
              "      <th></th>\n",
              "    </tr>\n",
              "  </thead>\n",
              "  <tbody>\n",
              "    <tr>\n",
              "      <th rowspan=\"2\" valign=\"top\">A</th>\n",
              "      <th>DO</th>\n",
              "      <td>99</td>\n",
              "      <td>99</td>\n",
              "    </tr>\n",
              "    <tr>\n",
              "      <th>LP</th>\n",
              "      <td>11</td>\n",
              "      <td>11</td>\n",
              "    </tr>\n",
              "    <tr>\n",
              "      <th rowspan=\"3\" valign=\"top\">AA</th>\n",
              "      <th>FQ</th>\n",
              "      <td>26</td>\n",
              "      <td>26</td>\n",
              "    </tr>\n",
              "    <tr>\n",
              "      <th>IF</th>\n",
              "      <td>14</td>\n",
              "      <td>14</td>\n",
              "    </tr>\n",
              "    <tr>\n",
              "      <th>IG</th>\n",
              "      <td>55</td>\n",
              "      <td>55</td>\n",
              "    </tr>\n",
              "    <tr>\n",
              "      <th>...</th>\n",
              "      <th>...</th>\n",
              "      <td>...</td>\n",
              "      <td>...</td>\n",
              "    </tr>\n",
              "    <tr>\n",
              "      <th rowspan=\"4\" valign=\"top\">YR</th>\n",
              "      <th>KS</th>\n",
              "      <td>11</td>\n",
              "      <td>11</td>\n",
              "    </tr>\n",
              "    <tr>\n",
              "      <th>KV</th>\n",
              "      <td>30</td>\n",
              "      <td>30</td>\n",
              "    </tr>\n",
              "    <tr>\n",
              "      <th>UD</th>\n",
              "      <td>10</td>\n",
              "      <td>10</td>\n",
              "    </tr>\n",
              "    <tr>\n",
              "      <th>YR</th>\n",
              "      <td>14</td>\n",
              "      <td>14</td>\n",
              "    </tr>\n",
              "    <tr>\n",
              "      <th>Z</th>\n",
              "      <th>FP</th>\n",
              "      <td>83</td>\n",
              "      <td>83</td>\n",
              "    </tr>\n",
              "  </tbody>\n",
              "</table>\n",
              "<p>243 rows × 2 columns</p>\n",
              "</div>"
            ],
            "text/plain": [
              "                             total_amount  repayment_date\n",
              "vendor_name enterprise_name                              \n",
              "A           DO                         99              99\n",
              "            LP                         11              11\n",
              "AA          FQ                         26              26\n",
              "            IF                         14              14\n",
              "            IG                         55              55\n",
              "...                                   ...             ...\n",
              "YR          KS                         11              11\n",
              "            KV                         30              30\n",
              "            UD                         10              10\n",
              "            YR                         14              14\n",
              "Z           FP                         83              83\n",
              "\n",
              "[243 rows x 2 columns]"
            ]
          },
          "metadata": {
            "tags": []
          },
          "execution_count": 10
        }
      ]
    },
    {
      "cell_type": "code",
      "metadata": {
        "id": "ObWT5P3Xlvzi",
        "colab_type": "code",
        "colab": {}
      },
      "source": [
        "# Extracting the data for first enterprise vendor pair to analyse it.\n",
        "sampled_df_1 = training_df.loc[(training_df['vendor_name'] == 'A') & (training_df['enterprise_name'] == 'DO')]"
      ],
      "execution_count": null,
      "outputs": []
    },
    {
      "cell_type": "code",
      "metadata": {
        "id": "pFrP4VQGmYmq",
        "colab_type": "code",
        "colab": {
          "base_uri": "https://localhost:8080/",
          "height": 419
        },
        "outputId": "f523ffa9-4bfd-40f4-c8dd-4d6ecf060a8f"
      },
      "source": [
        "#printing the same\n",
        "sampled_df_1"
      ],
      "execution_count": null,
      "outputs": [
        {
          "output_type": "execute_result",
          "data": {
            "text/html": [
              "<div>\n",
              "<style scoped>\n",
              "    .dataframe tbody tr th:only-of-type {\n",
              "        vertical-align: middle;\n",
              "    }\n",
              "\n",
              "    .dataframe tbody tr th {\n",
              "        vertical-align: top;\n",
              "    }\n",
              "\n",
              "    .dataframe thead th {\n",
              "        text-align: right;\n",
              "    }\n",
              "</style>\n",
              "<table border=\"1\" class=\"dataframe\">\n",
              "  <thead>\n",
              "    <tr style=\"text-align: right;\">\n",
              "      <th></th>\n",
              "      <th>vendor_name</th>\n",
              "      <th>enterprise_name</th>\n",
              "      <th>total_amount</th>\n",
              "      <th>repayment_date</th>\n",
              "    </tr>\n",
              "  </thead>\n",
              "  <tbody>\n",
              "    <tr>\n",
              "      <th>0</th>\n",
              "      <td>A</td>\n",
              "      <td>DO</td>\n",
              "      <td>38314</td>\n",
              "      <td>2019-03-11</td>\n",
              "    </tr>\n",
              "    <tr>\n",
              "      <th>1</th>\n",
              "      <td>A</td>\n",
              "      <td>DO</td>\n",
              "      <td>406447</td>\n",
              "      <td>2019-03-19</td>\n",
              "    </tr>\n",
              "    <tr>\n",
              "      <th>2</th>\n",
              "      <td>A</td>\n",
              "      <td>DO</td>\n",
              "      <td>47904</td>\n",
              "      <td>2019-03-20</td>\n",
              "    </tr>\n",
              "    <tr>\n",
              "      <th>3</th>\n",
              "      <td>A</td>\n",
              "      <td>DO</td>\n",
              "      <td>37547</td>\n",
              "      <td>2019-03-26</td>\n",
              "    </tr>\n",
              "    <tr>\n",
              "      <th>4</th>\n",
              "      <td>A</td>\n",
              "      <td>DO</td>\n",
              "      <td>186274</td>\n",
              "      <td>2019-04-04</td>\n",
              "    </tr>\n",
              "    <tr>\n",
              "      <th>...</th>\n",
              "      <td>...</td>\n",
              "      <td>...</td>\n",
              "      <td>...</td>\n",
              "      <td>...</td>\n",
              "    </tr>\n",
              "    <tr>\n",
              "      <th>94</th>\n",
              "      <td>A</td>\n",
              "      <td>DO</td>\n",
              "      <td>23840</td>\n",
              "      <td>2020-02-11</td>\n",
              "    </tr>\n",
              "    <tr>\n",
              "      <th>95</th>\n",
              "      <td>A</td>\n",
              "      <td>DO</td>\n",
              "      <td>24718</td>\n",
              "      <td>2020-02-13</td>\n",
              "    </tr>\n",
              "    <tr>\n",
              "      <th>96</th>\n",
              "      <td>A</td>\n",
              "      <td>DO</td>\n",
              "      <td>123196</td>\n",
              "      <td>2020-03-11</td>\n",
              "    </tr>\n",
              "    <tr>\n",
              "      <th>97</th>\n",
              "      <td>A</td>\n",
              "      <td>DO</td>\n",
              "      <td>88260</td>\n",
              "      <td>2020-03-20</td>\n",
              "    </tr>\n",
              "    <tr>\n",
              "      <th>98</th>\n",
              "      <td>A</td>\n",
              "      <td>DO</td>\n",
              "      <td>28321</td>\n",
              "      <td>2020-03-23</td>\n",
              "    </tr>\n",
              "  </tbody>\n",
              "</table>\n",
              "<p>99 rows × 4 columns</p>\n",
              "</div>"
            ],
            "text/plain": [
              "   vendor_name enterprise_name  total_amount repayment_date\n",
              "0            A              DO         38314     2019-03-11\n",
              "1            A              DO        406447     2019-03-19\n",
              "2            A              DO         47904     2019-03-20\n",
              "3            A              DO         37547     2019-03-26\n",
              "4            A              DO        186274     2019-04-04\n",
              "..         ...             ...           ...            ...\n",
              "94           A              DO         23840     2020-02-11\n",
              "95           A              DO         24718     2020-02-13\n",
              "96           A              DO        123196     2020-03-11\n",
              "97           A              DO         88260     2020-03-20\n",
              "98           A              DO         28321     2020-03-23\n",
              "\n",
              "[99 rows x 4 columns]"
            ]
          },
          "metadata": {
            "tags": []
          },
          "execution_count": 12
        }
      ]
    },
    {
      "cell_type": "code",
      "metadata": {
        "id": "5QfAWF5kB6em",
        "colab_type": "code",
        "colab": {
          "base_uri": "https://localhost:8080/",
          "height": 102
        },
        "outputId": "8b459b00-7f07-464a-b8d4-d7e31183be3e"
      },
      "source": [
        "#printing the datatypes of all the columns in pandas dataframe\n",
        "print(sampled_df_1.dtypes)"
      ],
      "execution_count": null,
      "outputs": [
        {
          "output_type": "stream",
          "text": [
            "vendor_name        object\n",
            "enterprise_name    object\n",
            "total_amount        int64\n",
            "repayment_date     object\n",
            "dtype: object\n"
          ],
          "name": "stdout"
        }
      ]
    },
    {
      "cell_type": "code",
      "metadata": {
        "id": "nAdbA-9IDe3P",
        "colab_type": "code",
        "colab": {
          "base_uri": "https://localhost:8080/",
          "height": 153
        },
        "outputId": "849b2da1-0b4c-429c-9d54-8d7ad1f23e39"
      },
      "source": [
        "# Converting the datatype of repayment_date to datetime \n",
        "sampled_df_1.loc[:, 'repayment_date'] = pd.to_datetime(sampled_df_1['repayment_date'].str.strip(), format='%Y-%m-%d')\n",
        "print ('\\n Parsed Data:')\n",
        "print (sampled_df_1.head())"
      ],
      "execution_count": null,
      "outputs": [
        {
          "output_type": "stream",
          "text": [
            "\n",
            " Parsed Data:\n",
            "  vendor_name enterprise_name  total_amount repayment_date\n",
            "0           A              DO         38314     2019-03-11\n",
            "1           A              DO        406447     2019-03-19\n",
            "2           A              DO         47904     2019-03-20\n",
            "3           A              DO         37547     2019-03-26\n",
            "4           A              DO        186274     2019-04-04\n"
          ],
          "name": "stdout"
        }
      ]
    },
    {
      "cell_type": "code",
      "metadata": {
        "id": "Tbz8KkZVIVf1",
        "colab_type": "code",
        "colab": {
          "base_uri": "https://localhost:8080/",
          "height": 102
        },
        "outputId": "5adc6525-511a-4211-cfee-b50944b4498f"
      },
      "source": [
        "# Printing the datatypes to verify whether datatype for repayment date is changed or not\n",
        "print(sampled_df_1.dtypes)"
      ],
      "execution_count": null,
      "outputs": [
        {
          "output_type": "stream",
          "text": [
            "vendor_name                object\n",
            "enterprise_name            object\n",
            "total_amount                int64\n",
            "repayment_date     datetime64[ns]\n",
            "dtype: object\n"
          ],
          "name": "stdout"
        }
      ]
    },
    {
      "cell_type": "code",
      "metadata": {
        "id": "5DjtBMjCJpwT",
        "colab_type": "code",
        "colab": {}
      },
      "source": [
        "# droppping the vendor_name and enterprise column as they are no longer needed\n",
        "sampled_df_1.drop(['vendor_name', 'enterprise_name'], axis = 1, inplace = True) "
      ],
      "execution_count": null,
      "outputs": []
    },
    {
      "cell_type": "code",
      "metadata": {
        "id": "Aq4bkUEpKOtG",
        "colab_type": "code",
        "colab": {}
      },
      "source": [
        "# convert the daywise data to weekly data and indexing the dataframe with repayment date\n",
        "sampled_df_1.set_index('repayment_date', inplace=True)\n",
        "sampled_df_daily = sampled_df_1.resample('D').sum().fillna(0)\n",
        "sampled_df_1 = sampled_df_1.resample('W').sum().fillna(0)"
      ],
      "execution_count": null,
      "outputs": []
    },
    {
      "cell_type": "code",
      "metadata": {
        "id": "uL70kRfbKDpC",
        "colab_type": "code",
        "colab": {
          "base_uri": "https://localhost:8080/",
          "height": 272
        },
        "outputId": "73f665ae-2832-4738-83f9-4f99138a1b9c"
      },
      "source": [
        "# verifying whether index is set or not\n",
        "sampled_df_1.index"
      ],
      "execution_count": null,
      "outputs": [
        {
          "output_type": "execute_result",
          "data": {
            "text/plain": [
              "DatetimeIndex(['2019-03-17', '2019-03-24', '2019-03-31', '2019-04-07',\n",
              "               '2019-04-14', '2019-04-21', '2019-04-28', '2019-05-05',\n",
              "               '2019-05-12', '2019-05-19', '2019-05-26', '2019-06-02',\n",
              "               '2019-06-09', '2019-06-16', '2019-06-23', '2019-06-30',\n",
              "               '2019-07-07', '2019-07-14', '2019-07-21', '2019-07-28',\n",
              "               '2019-08-04', '2019-08-11', '2019-08-18', '2019-08-25',\n",
              "               '2019-09-01', '2019-09-08', '2019-09-15', '2019-09-22',\n",
              "               '2019-09-29', '2019-10-06', '2019-10-13', '2019-10-20',\n",
              "               '2019-10-27', '2019-11-03', '2019-11-10', '2019-11-17',\n",
              "               '2019-11-24', '2019-12-01', '2019-12-08', '2019-12-15',\n",
              "               '2019-12-22', '2019-12-29', '2020-01-05', '2020-01-12',\n",
              "               '2020-01-19', '2020-01-26', '2020-02-02', '2020-02-09',\n",
              "               '2020-02-16', '2020-02-23', '2020-03-01', '2020-03-08',\n",
              "               '2020-03-15', '2020-03-22', '2020-03-29'],\n",
              "              dtype='datetime64[ns]', name='repayment_date', freq='W-SUN')"
            ]
          },
          "metadata": {
            "tags": []
          },
          "execution_count": 18
        }
      ]
    },
    {
      "cell_type": "code",
      "metadata": {
        "id": "H0MxslN4Uc5J",
        "colab_type": "code",
        "colab": {
          "base_uri": "https://localhost:8080/",
          "height": 235
        },
        "outputId": "d98a44c7-9e12-4779-ecbf-dfa496ceb0ac"
      },
      "source": [
        "# looking into the newly created dataframe\n",
        "sampled_df_1.head()"
      ],
      "execution_count": null,
      "outputs": [
        {
          "output_type": "execute_result",
          "data": {
            "text/html": [
              "<div>\n",
              "<style scoped>\n",
              "    .dataframe tbody tr th:only-of-type {\n",
              "        vertical-align: middle;\n",
              "    }\n",
              "\n",
              "    .dataframe tbody tr th {\n",
              "        vertical-align: top;\n",
              "    }\n",
              "\n",
              "    .dataframe thead th {\n",
              "        text-align: right;\n",
              "    }\n",
              "</style>\n",
              "<table border=\"1\" class=\"dataframe\">\n",
              "  <thead>\n",
              "    <tr style=\"text-align: right;\">\n",
              "      <th></th>\n",
              "      <th>total_amount</th>\n",
              "    </tr>\n",
              "    <tr>\n",
              "      <th>repayment_date</th>\n",
              "      <th></th>\n",
              "    </tr>\n",
              "  </thead>\n",
              "  <tbody>\n",
              "    <tr>\n",
              "      <th>2019-03-17</th>\n",
              "      <td>38314</td>\n",
              "    </tr>\n",
              "    <tr>\n",
              "      <th>2019-03-24</th>\n",
              "      <td>454351</td>\n",
              "    </tr>\n",
              "    <tr>\n",
              "      <th>2019-03-31</th>\n",
              "      <td>37547</td>\n",
              "    </tr>\n",
              "    <tr>\n",
              "      <th>2019-04-07</th>\n",
              "      <td>229361</td>\n",
              "    </tr>\n",
              "    <tr>\n",
              "      <th>2019-04-14</th>\n",
              "      <td>0</td>\n",
              "    </tr>\n",
              "  </tbody>\n",
              "</table>\n",
              "</div>"
            ],
            "text/plain": [
              "                total_amount\n",
              "repayment_date              \n",
              "2019-03-17             38314\n",
              "2019-03-24            454351\n",
              "2019-03-31             37547\n",
              "2019-04-07            229361\n",
              "2019-04-14                 0"
            ]
          },
          "metadata": {
            "tags": []
          },
          "execution_count": 19
        }
      ]
    },
    {
      "cell_type": "code",
      "metadata": {
        "id": "MkMBfZfOLrzZ",
        "colab_type": "code",
        "colab": {
          "base_uri": "https://localhost:8080/",
          "height": 221
        },
        "outputId": "182f07b9-1195-4d99-f65b-b3bdda638a9e"
      },
      "source": [
        "# Converting the dataframe into series with repayment date as indexes\n",
        "ts = sampled_df_1['total_amount'] \n",
        "ts.head(10)"
      ],
      "execution_count": null,
      "outputs": [
        {
          "output_type": "execute_result",
          "data": {
            "text/plain": [
              "repayment_date\n",
              "2019-03-17     38314\n",
              "2019-03-24    454351\n",
              "2019-03-31     37547\n",
              "2019-04-07    229361\n",
              "2019-04-14         0\n",
              "2019-04-21     22005\n",
              "2019-04-28    401079\n",
              "2019-05-05     81112\n",
              "2019-05-12    108412\n",
              "2019-05-19     14243\n",
              "Freq: W-SUN, Name: total_amount, dtype: int64"
            ]
          },
          "metadata": {
            "tags": []
          },
          "execution_count": 20
        }
      ]
    },
    {
      "cell_type": "code",
      "metadata": {
        "id": "9J8yew7iOJVf",
        "colab_type": "code",
        "colab": {}
      },
      "source": [
        "# function to test the stationarity of time series\n",
        "def test_stationarity(timeseries):\n",
        "    \n",
        "    #Determing rolling statistics\n",
        "    rolmean = timeseries.rolling(4).mean()\n",
        "    rolstd = timeseries.rolling(4).std()\n",
        "\n",
        "    #Plot rolling statistics:\n",
        "    orig = plt.plot(timeseries, color='blue',label='Original')\n",
        "    mean = plt.plot(rolmean, color='red', label='Rolling Mean')\n",
        "    std = plt.plot(rolstd, color='black', label = 'Rolling Std')\n",
        "    plt.legend(loc='best')\n",
        "    plt.title('Rolling Mean & Standard Deviation')\n",
        "    plt.show(block=False)\n",
        "    \n",
        "    #Perform Dickey-Fuller test:\n",
        "    print('Results of Dickey-Fuller Test:')\n",
        "    dftest = adfuller(timeseries, autolag='AIC')\n",
        "    dfoutput = pd.Series(dftest[0:4], index=['Test Statistic','p-value','#Lags Used','Number of Observations Used'])\n",
        "    for key,value in dftest[4].items():\n",
        "        dfoutput['Critical Value (%s)'%key] = value\n",
        "    print(dfoutput)"
      ],
      "execution_count": null,
      "outputs": []
    },
    {
      "cell_type": "markdown",
      "metadata": {
        "id": "kunIBeqcTDzf",
        "colab_type": "text"
      },
      "source": [
        "Notes: \n",
        "\n",
        "*   Interval of 4 is choosen for determining the rolling mean or standard deviation because data is choosen weekwise and thus, rolling mean or standard deviation is calculated per month wise.\n",
        "\n",
        "*   Here autolag = 'AIC' is choosen in which number of lags is chosen to minimize the corresponding information criterion.\n",
        "\n",
        "\n"
      ]
    },
    {
      "cell_type": "code",
      "metadata": {
        "id": "cFj-h05LP_pU",
        "colab_type": "code",
        "colab": {
          "base_uri": "https://localhost:8080/",
          "height": 434
        },
        "outputId": "78119e4f-9732-41fe-fec1-efe9bc5cddcd"
      },
      "source": [
        "# Testing the stattionarity of our timeseries\n",
        "test_stationarity(ts)"
      ],
      "execution_count": null,
      "outputs": [
        {
          "output_type": "display_data",
          "data": {
            "image/png": "[encoded data removed]",
            "text/plain": [
              "<Figure size 432x288 with 1 Axes>"
            ]
          },
          "metadata": {
            "tags": [],
            "needs_background": "light"
          }
        },
        {
          "output_type": "stream",
          "text": [
            "Results of Dickey-Fuller Test:\n",
            "Test Statistic                 -2.617178\n",
            "p-value                         0.089499\n",
            "#Lags Used                      2.000000\n",
            "Number of Observations Used    52.000000\n",
            "Critical Value (1%)            -3.562879\n",
            "Critical Value (5%)            -2.918973\n",
            "Critical Value (10%)           -2.597393\n",
            "dtype: float64\n"
          ],
          "name": "stdout"
        }
      ]
    },
    {
      "cell_type": "markdown",
      "metadata": {
        "id": "za3jgYK9J_lo",
        "colab_type": "text"
      },
      "source": [
        "If p > .10 → “not significant”\n",
        "\n",
        "If p ≤ .10 → “marginally significant”\n",
        "\n",
        "If p ≤ .05 → “significant”\n",
        "\n",
        "If p ≤ .01 → “highly significant."
      ]
    },
    {
      "cell_type": "markdown",
      "metadata": {
        "id": "GzdMYDdxS0dJ",
        "colab_type": "text"
      },
      "source": [
        "Test Statistics> critical values i. e. we do not reject the null hypothesis. And the time series is not stationary\n",
        "\n",
        "It means our timeseries has trend and seasionality.\n",
        "\n",
        "Lower values of P are preferred\n"
      ]
    },
    {
      "cell_type": "code",
      "metadata": {
        "id": "d5-gB-xk22yT",
        "colab_type": "code",
        "colab": {}
      },
      "source": [
        "# adding this fraction to remove didvide by zero while doing log transformation\n",
        "ts= ts+0.000000000000001"
      ],
      "execution_count": null,
      "outputs": []
    },
    {
      "cell_type": "code",
      "metadata": {
        "id": "H1_z1aYa2-l1",
        "colab_type": "code",
        "colab": {
          "base_uri": "https://localhost:8080/",
          "height": 986
        },
        "outputId": "51e42b9d-a1f2-46d7-af42-17add008b5d1"
      },
      "source": [
        "ts"
      ],
      "execution_count": null,
      "outputs": [
        {
          "output_type": "execute_result",
          "data": {
            "text/plain": [
              "repayment_date\n",
              "2019-03-17    3.831400e+04\n",
              "2019-03-24    4.543510e+05\n",
              "2019-03-31    3.754700e+04\n",
              "2019-04-07    2.293610e+05\n",
              "2019-04-14    1.000000e-15\n",
              "2019-04-21    2.200500e+04\n",
              "2019-04-28    4.010790e+05\n",
              "2019-05-05    8.111200e+04\n",
              "2019-05-12    1.084120e+05\n",
              "2019-05-19    1.424300e+04\n",
              "2019-05-26    1.019930e+05\n",
              "2019-06-02    1.453660e+05\n",
              "2019-06-09    8.683200e+04\n",
              "2019-06-16    3.053900e+04\n",
              "2019-06-23    1.327260e+05\n",
              "2019-06-30    1.306530e+05\n",
              "2019-07-07    4.342600e+04\n",
              "2019-07-14    5.219600e+04\n",
              "2019-07-21    1.000000e-15\n",
              "2019-07-28    1.670630e+05\n",
              "2019-08-04    1.009530e+05\n",
              "2019-08-11    3.106900e+04\n",
              "2019-08-18    2.506890e+05\n",
              "2019-08-25    2.394220e+05\n",
              "2019-09-01    8.203300e+04\n",
              "2019-09-08    1.258420e+05\n",
              "2019-09-15    1.538520e+05\n",
              "2019-09-22    7.755500e+04\n",
              "2019-09-29    3.018400e+04\n",
              "2019-10-06    7.719200e+04\n",
              "2019-10-13    2.665640e+05\n",
              "2019-10-20    1.427910e+05\n",
              "2019-10-27    3.274660e+05\n",
              "2019-11-03    7.402200e+04\n",
              "2019-11-10    4.098000e+03\n",
              "2019-11-17    2.145290e+05\n",
              "2019-11-24    2.724810e+05\n",
              "2019-12-01    8.737200e+04\n",
              "2019-12-08    2.629920e+05\n",
              "2019-12-15    4.741220e+05\n",
              "2019-12-22    4.743800e+04\n",
              "2019-12-29    3.208630e+05\n",
              "2020-01-05    4.324770e+05\n",
              "2020-01-12    5.958300e+04\n",
              "2020-01-19    2.851300e+05\n",
              "2020-01-26    2.920390e+05\n",
              "2020-02-02    1.656180e+05\n",
              "2020-02-09    4.458100e+04\n",
              "2020-02-16    8.151900e+04\n",
              "2020-02-23    1.000000e-15\n",
              "2020-03-01    1.000000e-15\n",
              "2020-03-08    1.000000e-15\n",
              "2020-03-15    1.231960e+05\n",
              "2020-03-22    8.826000e+04\n",
              "2020-03-29    2.832100e+04\n",
              "Freq: W-SUN, Name: total_amount, dtype: float64"
            ]
          },
          "metadata": {
            "tags": []
          },
          "execution_count": 24
        }
      ]
    },
    {
      "cell_type": "code",
      "metadata": {
        "id": "zPe84sLBTAJF",
        "colab_type": "code",
        "colab": {
          "base_uri": "https://localhost:8080/",
          "height": 282
        },
        "outputId": "a782a08d-9cc0-490f-ee09-17a50fa9dbe8"
      },
      "source": [
        "#applying log transformation to reduce the trend by penalizing higher values\n",
        "ts_log = np.log(ts)\n",
        "plt.plot(ts_log)"
      ],
      "execution_count": null,
      "outputs": [
        {
          "output_type": "execute_result",
          "data": {
            "text/plain": [
              "[<matplotlib.lines.Line2D at 0x7f76a2329048>]"
            ]
          },
          "metadata": {
            "tags": []
          },
          "execution_count": 25
        },
        {
          "output_type": "display_data",
          "data": {
            "image/png": "[encoded data removed]",
            "text/plain": [
              "<Figure size 432x288 with 1 Axes>"
            ]
          },
          "metadata": {
            "tags": [],
            "needs_background": "light"
          }
        }
      ]
    },
    {
      "cell_type": "code",
      "metadata": {
        "id": "o1Npaba443Ck",
        "colab_type": "code",
        "colab": {
          "base_uri": "https://localhost:8080/",
          "height": 434
        },
        "outputId": "67e55cd3-0324-4543-94e8-5695c3352bcf"
      },
      "source": [
        "test_stationarity(ts_log)"
      ],
      "execution_count": null,
      "outputs": [
        {
          "output_type": "display_data",
          "data": {
            "image/png": "[encoded data removed]",
            "text/plain": [
              "<Figure size 432x288 with 1 Axes>"
            ]
          },
          "metadata": {
            "tags": [],
            "needs_background": "light"
          }
        },
        {
          "output_type": "stream",
          "text": [
            "Results of Dickey-Fuller Test:\n",
            "Test Statistic                 -5.051192\n",
            "p-value                         0.000018\n",
            "#Lags Used                      0.000000\n",
            "Number of Observations Used    54.000000\n",
            "Critical Value (1%)            -3.557709\n",
            "Critical Value (5%)            -2.916770\n",
            "Critical Value (10%)           -2.596222\n",
            "dtype: float64\n"
          ],
          "name": "stdout"
        }
      ]
    },
    {
      "cell_type": "code",
      "metadata": {
        "id": "f_MS1dGIW_RI",
        "colab_type": "code",
        "colab": {
          "base_uri": "https://localhost:8080/",
          "height": 282
        },
        "outputId": "43cc09cf-c281-48b6-de12-ea32b4b2850e"
      },
      "source": [
        "# using first order differencing to eliminate trend and seasionality or to improve stationarity\n",
        "ts_log_diff = ts_log - ts_log.shift()\n",
        "plt.plot(ts_log_diff)"
      ],
      "execution_count": null,
      "outputs": [
        {
          "output_type": "execute_result",
          "data": {
            "text/plain": [
              "[<matplotlib.lines.Line2D at 0x7f76a126e2b0>]"
            ]
          },
          "metadata": {
            "tags": []
          },
          "execution_count": 27
        },
        {
          "output_type": "display_data",
          "data": {
            "image/png": "[encoded data removed]",
            "text/plain": [
              "<Figure size 432x288 with 1 Axes>"
            ]
          },
          "metadata": {
            "tags": [],
            "needs_background": "light"
          }
        }
      ]
    },
    {
      "cell_type": "code",
      "metadata": {
        "id": "JYGavSpHXGra",
        "colab_type": "code",
        "colab": {
          "base_uri": "https://localhost:8080/",
          "height": 434
        },
        "outputId": "884dd10b-7563-4fc3-b7fb-fb5d3ee23989"
      },
      "source": [
        "# applying Dickey Fuller Test to check for stationarity\n",
        "ts_log_diff.dropna(inplace=True)\n",
        "test_stationarity(ts_log_diff)"
      ],
      "execution_count": null,
      "outputs": [
        {
          "output_type": "display_data",
          "data": {
            "image/png": "[encoded data removed]",
            "text/plain": [
              "<Figure size 432x288 with 1 Axes>"
            ]
          },
          "metadata": {
            "tags": [],
            "needs_background": "light"
          }
        },
        {
          "output_type": "stream",
          "text": [
            "Results of Dickey-Fuller Test:\n",
            "Test Statistic                 -4.789428\n",
            "p-value                         0.000057\n",
            "#Lags Used                      4.000000\n",
            "Number of Observations Used    49.000000\n",
            "Critical Value (1%)            -3.571472\n",
            "Critical Value (5%)            -2.922629\n",
            "Critical Value (10%)           -2.599336\n",
            "dtype: float64\n"
          ],
          "name": "stdout"
        }
      ]
    },
    {
      "cell_type": "markdown",
      "metadata": {
        "id": "C5M5GNTQnlKa",
        "colab_type": "text"
      },
      "source": [
        "ARIMA model\n",
        "*   P(auto regressive lags)\n",
        "*   d(order of differentiation)\n",
        "*   Q(moving avg.)\n",
        "\n",
        "The AR part is correlation between prev & current time periods. To smooth out the noise, the MA part is used. The I part binds together the AR & MA parts.\n"
      ]
    },
    {
      "cell_type": "code",
      "metadata": {
        "id": "R7d_QMSmbedl",
        "colab_type": "code",
        "colab": {
          "base_uri": "https://localhost:8080/",
          "height": 71
        },
        "outputId": "14bb6f3d-2128-4cde-d919-bb3a3776c0e8"
      },
      "source": [
        "#ACF and PACF plots:\n",
        "lag_acf = acf(ts_log_diff, nlags=10)\n",
        "lag_pacf = pacf(ts_log_diff, nlags=10, method='ols')"
      ],
      "execution_count": null,
      "outputs": [
        {
          "output_type": "stream",
          "text": [
            "/usr/local/lib/python3.6/dist-packages/statsmodels/tsa/stattools.py:541: FutureWarning: fft=True will become the default in a future version of statsmodels. To suppress this warning, explicitly set fft=False.\n",
            "  warnings.warn(msg, FutureWarning)\n"
          ],
          "name": "stderr"
        }
      ]
    },
    {
      "cell_type": "code",
      "metadata": {
        "id": "Rz3xJ_xubj-J",
        "colab_type": "code",
        "colab": {
          "base_uri": "https://localhost:8080/",
          "height": 298
        },
        "outputId": "b79388a0-e9ed-428f-a4c0-5de5db815cee"
      },
      "source": [
        "#Plot ACF: \n",
        "plt.subplot(121) \n",
        "plt.plot(lag_acf)\n",
        "plt.axhline(y=0,linestyle='--',color='gray')\n",
        "plt.axhline(y=-1.96/np.sqrt(len(ts_log_diff)),linestyle='--',color='gray')\n",
        "plt.axhline(y=1.96/np.sqrt(len(ts_log_diff)),linestyle='--',color='gray')\n",
        "plt.title('Autocorrelation Function')"
      ],
      "execution_count": null,
      "outputs": [
        {
          "output_type": "execute_result",
          "data": {
            "text/plain": [
              "Text(0.5, 1.0, 'Autocorrelation Function')"
            ]
          },
          "metadata": {
            "tags": []
          },
          "execution_count": 30
        },
        {
          "output_type": "display_data",
          "data": {
            "image/png": "[encoded data removed]",
            "text/plain": [
              "<Figure size 432x288 with 1 Axes>"
            ]
          },
          "metadata": {
            "tags": [],
            "needs_background": "light"
          }
        }
      ]
    },
    {
      "cell_type": "code",
      "metadata": {
        "id": "nhLzHbF9bqiO",
        "colab_type": "code",
        "colab": {
          "base_uri": "https://localhost:8080/",
          "height": 297
        },
        "outputId": "92a69328-706d-443a-e7ee-b80c34920707"
      },
      "source": [
        "#Plot PACF:\n",
        "plt.subplot(122)\n",
        "plt.plot(lag_pacf)\n",
        "plt.axhline(y=0,linestyle='--',color='gray')\n",
        "plt.axhline(y=-1.96/np.sqrt(len(ts_log_diff)),linestyle='--',color='gray')\n",
        "plt.axhline(y=1.96/np.sqrt(len(ts_log_diff)),linestyle='--',color='gray')\n",
        "plt.title('Partial Autocorrelation Function')\n",
        "plt.tight_layout()"
      ],
      "execution_count": null,
      "outputs": [
        {
          "output_type": "display_data",
          "data": {
            "image/png": "[encoded data removed]",
            "text/plain": [
              "<Figure size 432x288 with 1 Axes>"
            ]
          },
          "metadata": {
            "tags": [],
            "needs_background": "light"
          }
        }
      ]
    },
    {
      "cell_type": "code",
      "metadata": {
        "id": "zi1BwW95Ndk-",
        "colab_type": "code",
        "colab": {
          "base_uri": "https://localhost:8080/",
          "height": 298
        },
        "outputId": "7a30bec5-d96a-4e84-d899-ef268fdd03fe"
      },
      "source": [
        "#AR Model\n",
        "model = ARIMA(ts_log, order=(1, 1, 0))  \n",
        "results_AR = model.fit(disp=-1)  \n",
        "plt.plot(ts_log_diff)\n",
        "plt.plot(results_AR.fittedvalues, color='red')\n",
        "plt.title('RSS: %.4f'% sum((results_AR.fittedvalues-ts_log_diff)**2))"
      ],
      "execution_count": null,
      "outputs": [
        {
          "output_type": "execute_result",
          "data": {
            "text/plain": [
              "Text(0.5, 1.0, 'RSS: 11321.7306')"
            ]
          },
          "metadata": {
            "tags": []
          },
          "execution_count": 32
        },
        {
          "output_type": "display_data",
          "data": {
            "image/png": "[encoded data removed]",
            "text/plain": [
              "<Figure size 432x288 with 1 Axes>"
            ]
          },
          "metadata": {
            "tags": [],
            "needs_background": "light"
          }
        }
      ]
    },
    {
      "cell_type": "code",
      "metadata": {
        "id": "NHBikw_rNlZs",
        "colab_type": "code",
        "colab": {
          "base_uri": "https://localhost:8080/",
          "height": 298
        },
        "outputId": "458e0542-b570-49bf-e9b7-27e8a831e5a1"
      },
      "source": [
        "#MA model\n",
        "model = ARIMA(ts_log, order=(0, 1, 1))  \n",
        "results_MA = model.fit(disp=-1)  \n",
        "plt.plot(ts_log_diff)\n",
        "plt.plot(results_MA.fittedvalues, color='red')\n",
        "plt.title('RSS: %.4f'% sum((results_MA.fittedvalues-ts_log_diff)**2))"
      ],
      "execution_count": null,
      "outputs": [
        {
          "output_type": "execute_result",
          "data": {
            "text/plain": [
              "Text(0.5, 1.0, 'RSS: 10201.4971')"
            ]
          },
          "metadata": {
            "tags": []
          },
          "execution_count": 33
        },
        {
          "output_type": "display_data",
          "data": {
            "image/png": "[encoded data removed]",
            "text/plain": [
              "<Figure size 432x288 with 1 Axes>"
            ]
          },
          "metadata": {
            "tags": [],
            "needs_background": "light"
          }
        }
      ]
    },
    {
      "cell_type": "code",
      "metadata": {
        "id": "18xhE99oOHlz",
        "colab_type": "code",
        "colab": {
          "base_uri": "https://localhost:8080/",
          "height": 298
        },
        "outputId": "91b2826e-c9cc-4a8d-9eb4-d08220ccec7d"
      },
      "source": [
        "#Combined Model\n",
        "model = ARIMA(ts_log, order=(1, 1, 1))  \n",
        "results_ARIMA = model.fit(disp=-1)  \n",
        "plt.plot(ts_log_diff)\n",
        "plt.plot(results_ARIMA.fittedvalues, color='red')\n",
        "plt.title('RSS: %.4f'% sum((results_ARIMA.fittedvalues-ts_log_diff)**2))"
      ],
      "execution_count": null,
      "outputs": [
        {
          "output_type": "execute_result",
          "data": {
            "text/plain": [
              "Text(0.5, 1.0, 'RSS: 9122.9615')"
            ]
          },
          "metadata": {
            "tags": []
          },
          "execution_count": 34
        },
        {
          "output_type": "display_data",
          "data": {
            "image/png": "[encoded data removed]",
            "text/plain": [
              "<Figure size 432x288 with 1 Axes>"
            ]
          },
          "metadata": {
            "tags": [],
            "needs_background": "light"
          }
        }
      ]
    },
    {
      "cell_type": "code",
      "metadata": {
        "id": "efQitjzgOaUX",
        "colab_type": "code",
        "colab": {
          "base_uri": "https://localhost:8080/",
          "height": 136
        },
        "outputId": "95f50441-642b-4aae-db07-bda55bafee3a"
      },
      "source": [
        "# storing and printing the results\n",
        "predictions_ARIMA_diff = pd.Series(results_ARIMA.fittedvalues, copy=True)\n",
        "print(predictions_ARIMA_diff.head())"
      ],
      "execution_count": null,
      "outputs": [
        {
          "output_type": "stream",
          "text": [
            "repayment_date\n",
            "2019-03-24    -0.110220\n",
            "2019-03-31    -0.953594\n",
            "2019-04-07     0.223472\n",
            "2019-04-14    -0.716844\n",
            "2019-04-21    22.208484\n",
            "Freq: W-SUN, dtype: float64\n"
          ],
          "name": "stdout"
        }
      ]
    },
    {
      "cell_type": "code",
      "metadata": {
        "id": "CYZ6hYw-OnHp",
        "colab_type": "code",
        "colab": {
          "base_uri": "https://localhost:8080/",
          "height": 136
        },
        "outputId": "1276a37e-9b08-4aa3-8c3b-548b9c9a0fc4"
      },
      "source": [
        "# finding the cumulative sum to add it to base number to convert the series back to the original ts_log\n",
        "predictions_ARIMA_diff_cumsum = predictions_ARIMA_diff.cumsum()\n",
        "print(predictions_ARIMA_diff_cumsum.head())\n"
      ],
      "execution_count": null,
      "outputs": [
        {
          "output_type": "stream",
          "text": [
            "repayment_date\n",
            "2019-03-24    -0.110220\n",
            "2019-03-31    -1.063814\n",
            "2019-04-07    -0.840342\n",
            "2019-04-14    -1.557186\n",
            "2019-04-21    20.651298\n",
            "Freq: W-SUN, dtype: float64\n"
          ],
          "name": "stdout"
        }
      ]
    },
    {
      "cell_type": "code",
      "metadata": {
        "id": "gNHVs6gkOq2V",
        "colab_type": "code",
        "colab": {
          "base_uri": "https://localhost:8080/",
          "height": 136
        },
        "outputId": "0c3a5c1a-f7e8-456e-a483-6e662e85d8e4"
      },
      "source": [
        "# taking the base series and adding the cumulative sum to extract the original series not a time lagged series\n",
        "predictions_ARIMA_log = pd.Series(ts_log, index=ts_log.index)\n",
        "predictions_ARIMA_log = predictions_ARIMA_log.add(predictions_ARIMA_diff_cumsum,fill_value=0)\n",
        "predictions_ARIMA_log.head()"
      ],
      "execution_count": null,
      "outputs": [
        {
          "output_type": "execute_result",
          "data": {
            "text/plain": [
              "repayment_date\n",
              "2019-03-17    10.553571\n",
              "2019-03-24    12.916405\n",
              "2019-03-31     9.469535\n",
              "2019-04-07    11.502711\n",
              "2019-04-14   -36.095962\n",
              "Freq: W-SUN, dtype: float64"
            ]
          },
          "metadata": {
            "tags": []
          },
          "execution_count": 37
        }
      ]
    },
    {
      "cell_type": "code",
      "metadata": {
        "id": "zMQRZHlPO1B7",
        "colab_type": "code",
        "colab": {
          "base_uri": "https://localhost:8080/",
          "height": 298
        },
        "outputId": "ba455183-421b-44d5-d233-10f666b1daf5"
      },
      "source": [
        "#Converting the logs to original values\n",
        "predictions_ARIMA = np.exp(predictions_ARIMA_log)\n",
        "plt.plot(ts)\n",
        "plt.plot(predictions_ARIMA)\n",
        "plt.title('RMSE: %.4f'% np.sqrt(sum((predictions_ARIMA-ts)**2)/len(ts)))"
      ],
      "execution_count": null,
      "outputs": [
        {
          "output_type": "execute_result",
          "data": {
            "text/plain": [
              "Text(0.5, 1.0, 'RMSE: 2989167814075.2871')"
            ]
          },
          "metadata": {
            "tags": []
          },
          "execution_count": 38
        },
        {
          "output_type": "display_data",
          "data": {
            "image/png": "[encoded data removed]",
            "text/plain": [
              "<Figure size 432x288 with 1 Axes>"
            ]
          },
          "metadata": {
            "tags": [],
            "needs_background": "light"
          }
        }
      ]
    },
    {
      "cell_type": "code",
      "metadata": {
        "id": "Jiv05KvlIyZb",
        "colab_type": "code",
        "colab": {
          "base_uri": "https://localhost:8080/",
          "height": 986
        },
        "outputId": "f58d5e32-e13a-4aa1-86f3-a63ba29a3be4"
      },
      "source": [
        "#predicted values\n",
        "predictions_ARIMA"
      ],
      "execution_count": null,
      "outputs": [
        {
          "output_type": "execute_result",
          "data": {
            "text/plain": [
              "repayment_date\n",
              "2019-03-17    3.831400e+04\n",
              "2019-03-24    4.069337e+05\n",
              "2019-03-31    1.295886e+04\n",
              "2019-04-07    9.898373e+04\n",
              "2019-04-14    2.107283e-16\n",
              "2019-04-21    2.047700e+13\n",
              "2019-04-28    8.492604e+12\n",
              "2019-05-05    1.252119e+10\n",
              "2019-05-12    4.651619e+08\n",
              "2019-05-19    1.921859e+06\n",
              "2019-05-26    1.724705e+06\n",
              "2019-06-02    1.108592e+05\n",
              "2019-06-09    2.872239e+03\n",
              "2019-06-16    6.878329e+01\n",
              "2019-06-23    4.179087e+01\n",
              "2019-06-30    2.539571e+00\n",
              "2019-07-07    5.762324e-02\n",
              "2019-07-14    9.859274e-03\n",
              "2019-07-21    2.481723e-23\n",
              "2019-07-28    4.372212e+08\n",
              "2019-08-04    4.425898e+06\n",
              "2019-08-11    3.470836e+04\n",
              "2019-08-18    1.596982e+04\n",
              "2019-08-25    2.543380e+02\n",
              "2019-09-01    1.637736e+00\n",
              "2019-09-08    9.884300e-02\n",
              "2019-09-15    3.830703e-03\n",
              "2019-09-22    5.690108e-05\n",
              "2019-09-29    1.047241e-06\n",
              "2019-10-06    2.340972e-07\n",
              "2019-10-13    3.970600e-08\n",
              "2019-10-20    4.941964e-10\n",
              "2019-10-27    4.050286e-11\n",
              "2019-11-03    2.000962e-13\n",
              "2019-11-10    6.358711e-16\n",
              "2019-11-17    1.175253e-14\n",
              "2019-11-24    4.234360e-16\n",
              "2019-12-01    3.387991e-18\n",
              "2019-12-08    5.312477e-19\n",
              "2019-12-15    2.501883e-20\n",
              "2019-12-22    4.591264e-23\n",
              "2019-12-29    2.480913e-23\n",
              "2020-01-05    7.909989e-25\n",
              "2020-01-12    2.163695e-27\n",
              "2020-01-19    7.285797e-28\n",
              "2020-01-26    1.926682e-29\n",
              "2020-02-02    2.794675e-31\n",
              "2020-02-09    2.765777e-33\n",
              "2020-02-16    4.245125e-34\n",
              "2020-02-23    2.916928e-55\n",
              "2020-03-01    6.570463e-44\n",
              "2020-03-08    8.335940e-33\n",
              "2020-03-15    7.488692e-02\n",
              "2020-03-22    4.108711e-04\n",
              "2020-03-29    1.268504e-06\n",
              "Freq: W-SUN, dtype: float64"
            ]
          },
          "metadata": {
            "tags": []
          },
          "execution_count": 39
        }
      ]
    },
    {
      "cell_type": "code",
      "metadata": {
        "id": "1k8nOJE3ocsy",
        "colab_type": "code",
        "colab": {
          "base_uri": "https://localhost:8080/",
          "height": 34
        },
        "outputId": "08e21911-3436-4afd-a6cb-0e68fd8ffd3b"
      },
      "source": [
        "predictions_ARIMA.shape"
      ],
      "execution_count": null,
      "outputs": [
        {
          "output_type": "execute_result",
          "data": {
            "text/plain": [
              "(55,)"
            ]
          },
          "metadata": {
            "tags": []
          },
          "execution_count": 40
        }
      ]
    },
    {
      "cell_type": "code",
      "metadata": {
        "id": "qz1nU9qhoS0Z",
        "colab_type": "code",
        "colab": {
          "base_uri": "https://localhost:8080/",
          "height": 537
        },
        "outputId": "11eb3c92-b13c-4257-dc52-7fcbbb3587c1"
      },
      "source": [
        "# Plot with forecasted values\n",
        "results_ARIMA.plot_predict(1,60)"
      ],
      "execution_count": null,
      "outputs": [
        {
          "output_type": "execute_result",
          "data": {
            "image/png": "[encoded data removed]",
            "text/plain": [
              "<Figure size 432x288 with 1 Axes>"
            ]
          },
          "metadata": {
            "tags": []
          },
          "execution_count": 41
        },
        {
          "output_type": "display_data",
          "data": {
            "image/png": "[encoded data removed]",
            "text/plain": [
              "<Figure size 432x288 with 1 Axes>"
            ]
          },
          "metadata": {
            "tags": [],
            "needs_background": "light"
          }
        }
      ]
    },
    {
      "cell_type": "code",
      "metadata": {
        "id": "SjY8IK-5o6y4",
        "colab_type": "code",
        "colab": {}
      },
      "source": [
        "#Forecasting for next five steps\n",
        "x = results_ARIMA.forecast(steps = 5)"
      ],
      "execution_count": null,
      "outputs": []
    },
    {
      "cell_type": "markdown",
      "metadata": {
        "id": "B_ZQcpderMiU",
        "colab_type": "text"
      },
      "source": [
        "Output value x description\n",
        "1.   Forecastndarray : Array of out of sample forecasts\n",
        "2.   stderrndarray : Array of the standard error of the forecasts.\n",
        "3.   conf_intndarray : 2d array of the confidence interval for the **forecast*"
      ]
    },
    {
      "cell_type": "code",
      "metadata": {
        "id": "gMgCGqxDqPT_",
        "colab_type": "code",
        "colab": {
          "base_uri": "https://localhost:8080/",
          "height": 136
        },
        "outputId": "5a29a67c-bf33-4d76-d572-4910727fb6f1"
      },
      "source": [
        "x"
      ],
      "execution_count": null,
      "outputs": [
        {
          "output_type": "execute_result",
          "data": {
            "text/plain": [
              "(array([6.27783014, 4.82684836, 4.25131688, 3.97961056, 3.81334681]),\n",
              " array([12.53788995, 13.27148435, 13.35712299, 13.36740063, 13.36863799]),\n",
              " array([[-18.29598262,  30.85164289],\n",
              "        [-21.18478298,  30.8384797 ],\n",
              "        [-21.92816312,  30.43079688],\n",
              "        [-22.22001325,  30.17923437],\n",
              "        [-22.38870216,  30.01539579]]))"
            ]
          },
          "metadata": {
            "tags": []
          },
          "execution_count": 43
        }
      ]
    },
    {
      "cell_type": "code",
      "metadata": {
        "id": "17hT_emArv2p",
        "colab_type": "code",
        "colab": {
          "base_uri": "https://localhost:8080/",
          "height": 34
        },
        "outputId": "35933e59-931c-4459-e519-034ce12b641a"
      },
      "source": [
        "x[0]"
      ],
      "execution_count": null,
      "outputs": [
        {
          "output_type": "execute_result",
          "data": {
            "text/plain": [
              "array([6.27783014, 4.82684836, 4.25131688, 3.97961056, 3.81334681])"
            ]
          },
          "metadata": {
            "tags": []
          },
          "execution_count": 44
        }
      ]
    },
    {
      "cell_type": "code",
      "metadata": {
        "id": "UZdJX0Pyb9B0",
        "colab_type": "code",
        "colab": {
          "base_uri": "https://localhost:8080/",
          "height": 34
        },
        "outputId": "d4fa29dc-e02b-42ff-a233-cf10fc7d2159"
      },
      "source": [
        "# storing and printing the results\n",
        "x_cumsum = x[0].cumsum()\n",
        "x_cumsum"
      ],
      "execution_count": null,
      "outputs": [
        {
          "output_type": "execute_result",
          "data": {
            "text/plain": [
              "array([ 6.27783014, 11.1046785 , 15.35599538, 19.33560594, 23.14895276])"
            ]
          },
          "metadata": {
            "tags": []
          },
          "execution_count": 45
        }
      ]
    },
    {
      "cell_type": "code",
      "metadata": {
        "id": "wQ7Ns9Qmtuou",
        "colab_type": "code",
        "colab": {}
      },
      "source": [
        "forecasted_log = np.add(x[0],x_cumsum)"
      ],
      "execution_count": null,
      "outputs": []
    },
    {
      "cell_type": "code",
      "metadata": {
        "id": "RWQeMimWdhuu",
        "colab_type": "code",
        "colab": {}
      },
      "source": [
        "predictions_ARIMA = np.exp(forecasted_log)"
      ],
      "execution_count": null,
      "outputs": []
    },
    {
      "cell_type": "code",
      "metadata": {
        "id": "IVcZfpt2dxhu",
        "colab_type": "code",
        "colab": {
          "base_uri": "https://localhost:8080/",
          "height": 51
        },
        "outputId": "f6ea7702-3559-4634-8160-d6f403487fbd"
      },
      "source": [
        "predictions_ARIMA"
      ],
      "execution_count": null,
      "outputs": [
        {
          "output_type": "execute_result",
          "data": {
            "text/plain": [
              "array([2.83696496e+05, 8.29801473e+06, 3.27602736e+08, 1.33557990e+10,\n",
              "       5.12363191e+11])"
            ]
          },
          "metadata": {
            "tags": []
          },
          "execution_count": 48
        }
      ]
    },
    {
      "cell_type": "code",
      "metadata": {
        "id": "wotMozJauNlH",
        "colab_type": "code",
        "colab": {}
      },
      "source": [
        "sampled_df_test = test_df.loc[(test_df['vendor_name'] == 'A') & (test_df['enterprise_name'] == 'DO')]"
      ],
      "execution_count": null,
      "outputs": []
    },
    {
      "cell_type": "code",
      "metadata": {
        "id": "UQg1Jg1ZvIHG",
        "colab_type": "code",
        "colab": {
          "base_uri": "https://localhost:8080/",
          "height": 266
        },
        "outputId": "c44fee98-1e6e-437b-8605-d00220886fb5"
      },
      "source": [
        "#Checking the test set\n",
        "sampled_df_test"
      ],
      "execution_count": null,
      "outputs": [
        {
          "output_type": "execute_result",
          "data": {
            "text/html": [
              "<div>\n",
              "<style scoped>\n",
              "    .dataframe tbody tr th:only-of-type {\n",
              "        vertical-align: middle;\n",
              "    }\n",
              "\n",
              "    .dataframe tbody tr th {\n",
              "        vertical-align: top;\n",
              "    }\n",
              "\n",
              "    .dataframe thead th {\n",
              "        text-align: right;\n",
              "    }\n",
              "</style>\n",
              "<table border=\"1\" class=\"dataframe\">\n",
              "  <thead>\n",
              "    <tr style=\"text-align: right;\">\n",
              "      <th></th>\n",
              "      <th>vendor_name</th>\n",
              "      <th>enterprise_name</th>\n",
              "      <th>total_amount</th>\n",
              "      <th>repayment_date</th>\n",
              "    </tr>\n",
              "  </thead>\n",
              "  <tbody>\n",
              "    <tr>\n",
              "      <th>0</th>\n",
              "      <td>A</td>\n",
              "      <td>DO</td>\n",
              "      <td>24520</td>\n",
              "      <td>2020-02-17</td>\n",
              "    </tr>\n",
              "    <tr>\n",
              "      <th>1</th>\n",
              "      <td>A</td>\n",
              "      <td>DO</td>\n",
              "      <td>8820</td>\n",
              "      <td>2020-02-20</td>\n",
              "    </tr>\n",
              "    <tr>\n",
              "      <th>2</th>\n",
              "      <td>A</td>\n",
              "      <td>DO</td>\n",
              "      <td>129760</td>\n",
              "      <td>2020-02-25</td>\n",
              "    </tr>\n",
              "    <tr>\n",
              "      <th>3</th>\n",
              "      <td>A</td>\n",
              "      <td>DO</td>\n",
              "      <td>185185</td>\n",
              "      <td>2020-02-26</td>\n",
              "    </tr>\n",
              "    <tr>\n",
              "      <th>4</th>\n",
              "      <td>A</td>\n",
              "      <td>DO</td>\n",
              "      <td>136382</td>\n",
              "      <td>2020-02-27</td>\n",
              "    </tr>\n",
              "    <tr>\n",
              "      <th>5</th>\n",
              "      <td>A</td>\n",
              "      <td>DO</td>\n",
              "      <td>18221</td>\n",
              "      <td>2020-03-03</td>\n",
              "    </tr>\n",
              "    <tr>\n",
              "      <th>6</th>\n",
              "      <td>A</td>\n",
              "      <td>DO</td>\n",
              "      <td>102873</td>\n",
              "      <td>2020-03-04</td>\n",
              "    </tr>\n",
              "  </tbody>\n",
              "</table>\n",
              "</div>"
            ],
            "text/plain": [
              "  vendor_name enterprise_name  total_amount repayment_date\n",
              "0           A              DO         24520     2020-02-17\n",
              "1           A              DO          8820     2020-02-20\n",
              "2           A              DO        129760     2020-02-25\n",
              "3           A              DO        185185     2020-02-26\n",
              "4           A              DO        136382     2020-02-27\n",
              "5           A              DO         18221     2020-03-03\n",
              "6           A              DO        102873     2020-03-04"
            ]
          },
          "metadata": {
            "tags": []
          },
          "execution_count": 50
        }
      ]
    },
    {
      "cell_type": "markdown",
      "metadata": {
        "id": "shfgAoeUvmPi",
        "colab_type": "text"
      },
      "source": [
        "This dataset is overlapping with the training set.\n",
        "So lets discard this and consider only the training set and do the predictions for next two weeks after the training set"
      ]
    },
    {
      "cell_type": "code",
      "metadata": {
        "id": "jOFTppfSvkxU",
        "colab_type": "code",
        "colab": {
          "base_uri": "https://localhost:8080/",
          "height": 34
        },
        "outputId": "ac3a0524-b6c8-4429-e979-4cef5b3d7700"
      },
      "source": [
        "#Weekly predictions\n",
        "predictions_ARIMA[1:3]"
      ],
      "execution_count": null,
      "outputs": [
        {
          "output_type": "execute_result",
          "data": {
            "text/plain": [
              "array([8.29801473e+06, 3.27602736e+08])"
            ]
          },
          "metadata": {
            "tags": []
          },
          "execution_count": 51
        }
      ]
    },
    {
      "cell_type": "code",
      "metadata": {
        "id": "OEWvd-D9w4bY",
        "colab_type": "code",
        "colab": {}
      },
      "source": [
        "# creating a datafrmae with next two weeks dates\n",
        "from datetime import datetime, timedelta\n",
        "df = pd.DataFrame(pd.date_range('2020-04-05', periods= 14,  freq='D'), columns=['repayment_date'])"
      ],
      "execution_count": null,
      "outputs": []
    },
    {
      "cell_type": "code",
      "metadata": {
        "id": "Tih5yxe3y55T",
        "colab_type": "code",
        "colab": {}
      },
      "source": [
        "df.set_index('repayment_date', inplace = True)"
      ],
      "execution_count": null,
      "outputs": []
    },
    {
      "cell_type": "code",
      "metadata": {
        "id": "Vx7W9ItB265p",
        "colab_type": "code",
        "colab": {
          "base_uri": "https://localhost:8080/",
          "height": 497
        },
        "outputId": "5d97e50d-f16f-4dc2-fec7-3e1d9c506d3f"
      },
      "source": [
        "df"
      ],
      "execution_count": null,
      "outputs": [
        {
          "output_type": "execute_result",
          "data": {
            "text/html": [
              "<div>\n",
              "<style scoped>\n",
              "    .dataframe tbody tr th:only-of-type {\n",
              "        vertical-align: middle;\n",
              "    }\n",
              "\n",
              "    .dataframe tbody tr th {\n",
              "        vertical-align: top;\n",
              "    }\n",
              "\n",
              "    .dataframe thead th {\n",
              "        text-align: right;\n",
              "    }\n",
              "</style>\n",
              "<table border=\"1\" class=\"dataframe\">\n",
              "  <thead>\n",
              "    <tr style=\"text-align: right;\">\n",
              "      <th></th>\n",
              "    </tr>\n",
              "    <tr>\n",
              "      <th>repayment_date</th>\n",
              "    </tr>\n",
              "  </thead>\n",
              "  <tbody>\n",
              "    <tr>\n",
              "      <th>2020-04-05</th>\n",
              "    </tr>\n",
              "    <tr>\n",
              "      <th>2020-04-06</th>\n",
              "    </tr>\n",
              "    <tr>\n",
              "      <th>2020-04-07</th>\n",
              "    </tr>\n",
              "    <tr>\n",
              "      <th>2020-04-08</th>\n",
              "    </tr>\n",
              "    <tr>\n",
              "      <th>2020-04-09</th>\n",
              "    </tr>\n",
              "    <tr>\n",
              "      <th>2020-04-10</th>\n",
              "    </tr>\n",
              "    <tr>\n",
              "      <th>2020-04-11</th>\n",
              "    </tr>\n",
              "    <tr>\n",
              "      <th>2020-04-12</th>\n",
              "    </tr>\n",
              "    <tr>\n",
              "      <th>2020-04-13</th>\n",
              "    </tr>\n",
              "    <tr>\n",
              "      <th>2020-04-14</th>\n",
              "    </tr>\n",
              "    <tr>\n",
              "      <th>2020-04-15</th>\n",
              "    </tr>\n",
              "    <tr>\n",
              "      <th>2020-04-16</th>\n",
              "    </tr>\n",
              "    <tr>\n",
              "      <th>2020-04-17</th>\n",
              "    </tr>\n",
              "    <tr>\n",
              "      <th>2020-04-18</th>\n",
              "    </tr>\n",
              "  </tbody>\n",
              "</table>\n",
              "</div>"
            ],
            "text/plain": [
              "Empty DataFrame\n",
              "Columns: []\n",
              "Index: [2020-04-05 00:00:00, 2020-04-06 00:00:00, 2020-04-07 00:00:00, 2020-04-08 00:00:00, 2020-04-09 00:00:00, 2020-04-10 00:00:00, 2020-04-11 00:00:00, 2020-04-12 00:00:00, 2020-04-13 00:00:00, 2020-04-14 00:00:00, 2020-04-15 00:00:00, 2020-04-16 00:00:00, 2020-04-17 00:00:00, 2020-04-18 00:00:00]"
            ]
          },
          "metadata": {
            "tags": []
          },
          "execution_count": 54
        }
      ]
    },
    {
      "cell_type": "code",
      "metadata": {
        "id": "WDciXT3b3LLP",
        "colab_type": "code",
        "colab": {}
      },
      "source": [
        "sampled_df_daily['daily_ratio'] = sampled_df_daily['total_amount']/sum(sampled_df_daily['total_amount'])"
      ],
      "execution_count": null,
      "outputs": []
    },
    {
      "cell_type": "code",
      "metadata": {
        "id": "whTHbUbI4H9o",
        "colab_type": "code",
        "colab": {}
      },
      "source": [
        "sampled_df_daily['day_of_week'] = sampled_df_daily.index.dayofweek"
      ],
      "execution_count": null,
      "outputs": []
    },
    {
      "cell_type": "code",
      "metadata": {
        "id": "X9ewhvGx3sQE",
        "colab_type": "code",
        "colab": {}
      },
      "source": [
        "ratios_daywise = pd.Series(sampled_df_daily['daily_ratio'].groupby(sampled_df_daily['day_of_week']).sum())"
      ],
      "execution_count": null,
      "outputs": []
    },
    {
      "cell_type": "code",
      "metadata": {
        "id": "XGq1PFhM5bfP",
        "colab_type": "code",
        "colab": {
          "base_uri": "https://localhost:8080/",
          "height": 170
        },
        "outputId": "367e8417-74a8-468d-d07f-d8bc91d5279c"
      },
      "source": [
        "ratios_daywise"
      ],
      "execution_count": null,
      "outputs": [
        {
          "output_type": "execute_result",
          "data": {
            "text/plain": [
              "day_of_week\n",
              "0    0.177922\n",
              "1    0.278617\n",
              "2    0.188617\n",
              "3    0.190961\n",
              "4    0.160441\n",
              "5    0.003442\n",
              "6    0.000000\n",
              "Name: daily_ratio, dtype: float64"
            ]
          },
          "metadata": {
            "tags": []
          },
          "execution_count": 58
        }
      ]
    },
    {
      "cell_type": "code",
      "metadata": {
        "id": "LYCBfznI6tMH",
        "colab_type": "code",
        "colab": {}
      },
      "source": [
        "daywiseamount = []\n",
        "for i in range(predictions_ARIMA[1:3].size):\n",
        "  for j in range(0,7):\n",
        "    daywiseamount.append(predictions_ARIMA[i:i+1][0]*ratios_daywise[j])"
      ],
      "execution_count": null,
      "outputs": []
    },
    {
      "cell_type": "code",
      "metadata": {
        "id": "-ARYFr_A74v6",
        "colab_type": "code",
        "colab": {}
      },
      "source": [
        "df['total_amount'] = daywiseamount"
      ],
      "execution_count": null,
      "outputs": []
    },
    {
      "cell_type": "code",
      "metadata": {
        "id": "aS0zWw3e8eqz",
        "colab_type": "code",
        "colab": {
          "base_uri": "https://localhost:8080/",
          "height": 514
        },
        "outputId": "4bbb42ed-70f2-4382-a96b-7959b4385cc0"
      },
      "source": [
        "df"
      ],
      "execution_count": null,
      "outputs": [
        {
          "output_type": "execute_result",
          "data": {
            "text/html": [
              "<div>\n",
              "<style scoped>\n",
              "    .dataframe tbody tr th:only-of-type {\n",
              "        vertical-align: middle;\n",
              "    }\n",
              "\n",
              "    .dataframe tbody tr th {\n",
              "        vertical-align: top;\n",
              "    }\n",
              "\n",
              "    .dataframe thead th {\n",
              "        text-align: right;\n",
              "    }\n",
              "</style>\n",
              "<table border=\"1\" class=\"dataframe\">\n",
              "  <thead>\n",
              "    <tr style=\"text-align: right;\">\n",
              "      <th></th>\n",
              "      <th>total_amount</th>\n",
              "    </tr>\n",
              "    <tr>\n",
              "      <th>repayment_date</th>\n",
              "      <th></th>\n",
              "    </tr>\n",
              "  </thead>\n",
              "  <tbody>\n",
              "    <tr>\n",
              "      <th>2020-04-05</th>\n",
              "      <td>5.047598e+04</td>\n",
              "    </tr>\n",
              "    <tr>\n",
              "      <th>2020-04-06</th>\n",
              "      <td>7.904278e+04</td>\n",
              "    </tr>\n",
              "    <tr>\n",
              "      <th>2020-04-07</th>\n",
              "      <td>5.350985e+04</td>\n",
              "    </tr>\n",
              "    <tr>\n",
              "      <th>2020-04-08</th>\n",
              "      <td>5.417493e+04</td>\n",
              "    </tr>\n",
              "    <tr>\n",
              "      <th>2020-04-09</th>\n",
              "      <td>4.551662e+04</td>\n",
              "    </tr>\n",
              "    <tr>\n",
              "      <th>2020-04-10</th>\n",
              "      <td>9.763425e+02</td>\n",
              "    </tr>\n",
              "    <tr>\n",
              "      <th>2020-04-11</th>\n",
              "      <td>0.000000e+00</td>\n",
              "    </tr>\n",
              "    <tr>\n",
              "      <th>2020-04-12</th>\n",
              "      <td>1.476403e+06</td>\n",
              "    </tr>\n",
              "    <tr>\n",
              "      <th>2020-04-13</th>\n",
              "      <td>2.311971e+06</td>\n",
              "    </tr>\n",
              "    <tr>\n",
              "      <th>2020-04-14</th>\n",
              "      <td>1.565143e+06</td>\n",
              "    </tr>\n",
              "    <tr>\n",
              "      <th>2020-04-15</th>\n",
              "      <td>1.584596e+06</td>\n",
              "    </tr>\n",
              "    <tr>\n",
              "      <th>2020-04-16</th>\n",
              "      <td>1.331344e+06</td>\n",
              "    </tr>\n",
              "    <tr>\n",
              "      <th>2020-04-17</th>\n",
              "      <td>2.855765e+04</td>\n",
              "    </tr>\n",
              "    <tr>\n",
              "      <th>2020-04-18</th>\n",
              "      <td>0.000000e+00</td>\n",
              "    </tr>\n",
              "  </tbody>\n",
              "</table>\n",
              "</div>"
            ],
            "text/plain": [
              "                total_amount\n",
              "repayment_date              \n",
              "2020-04-05      5.047598e+04\n",
              "2020-04-06      7.904278e+04\n",
              "2020-04-07      5.350985e+04\n",
              "2020-04-08      5.417493e+04\n",
              "2020-04-09      4.551662e+04\n",
              "2020-04-10      9.763425e+02\n",
              "2020-04-11      0.000000e+00\n",
              "2020-04-12      1.476403e+06\n",
              "2020-04-13      2.311971e+06\n",
              "2020-04-14      1.565143e+06\n",
              "2020-04-15      1.584596e+06\n",
              "2020-04-16      1.331344e+06\n",
              "2020-04-17      2.855765e+04\n",
              "2020-04-18      0.000000e+00"
            ]
          },
          "metadata": {
            "tags": []
          },
          "execution_count": 61
        }
      ]
    }
  ]
}