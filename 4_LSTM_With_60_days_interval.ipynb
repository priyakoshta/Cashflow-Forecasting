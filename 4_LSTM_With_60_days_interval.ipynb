{
  "nbformat": 4,
  "nbformat_minor": 0,
  "metadata": {
    "colab": {
      "name": "4-LSTM-With 60 days interval",
      "provenance": [],
      "collapsed_sections": []
    },
    "kernelspec": {
      "name": "python3",
      "display_name": "Python 3"
    }
  },
  "cells": [
    {
      "cell_type": "code",
      "metadata": {
        "id": "dzVbZGvOAAge",
        "colab_type": "code",
        "colab": {
          "base_uri": "https://localhost:8080/",
          "height": 34
        },
        "outputId": "042ad4e8-b676-44a1-be63-58b31c63e03b"
      },
      "source": [
        "# importing required libraries\n",
        "from pydrive.auth import GoogleAuth\n",
        "from pydrive.drive import GoogleDrive\n",
        "from google.colab import auth\n",
        "from oauth2client.client import GoogleCredentials\n",
        "import pandas as pd\n",
        "import matplotlib.pyplot as plt\n",
        "import numpy as np\n",
        "import matplotlib.dates as mdates \n",
        "from sklearn.metrics import mean_squared_error\n",
        "import math\n",
        "pd.options.mode.chained_assignment = None \n",
        "from keras.models import Sequential\n",
        "from keras.layers import Dense\n",
        "from keras.layers import LSTM\n",
        "from keras.layers import Dropout\n",
        "from sklearn.preprocessing import MinMaxScaler"
      ],
      "execution_count": null,
      "outputs": [
        {
          "output_type": "stream",
          "text": [
            "Using TensorFlow backend.\n"
          ],
          "name": "stderr"
        }
      ]
    },
    {
      "cell_type": "code",
      "metadata": {
        "id": "kIqBDB8ZAAGK",
        "colab_type": "code",
        "colab": {}
      },
      "source": [
        "# Authenticate and create the PyDrive client.\n",
        "auth.authenticate_user()\n",
        "gauth = GoogleAuth()\n",
        "gauth.credentials = GoogleCredentials.get_application_default()\n",
        "drive = GoogleDrive(gauth)"
      ],
      "execution_count": null,
      "outputs": []
    },
    {
      "cell_type": "code",
      "metadata": {
        "id": "_HPAXjb1_zcx",
        "colab_type": "code",
        "colab": {}
      },
      "source": [
        "# importing the test and training dataset from drive\n",
        "train_link = 'https://drive.google.com/open?id=1YCmgG6EoeW-suoO9pEJKUzIMBv3iAlew'\n",
        "test_link = 'https://drive.google.com/open?id=17H0OUGoC3-Ld-qITR8QWDIICipS8I9al'"
      ],
      "execution_count": null,
      "outputs": []
    },
    {
      "cell_type": "code",
      "metadata": {
        "id": "9ycf4Ext_5nD",
        "colab_type": "code",
        "colab": {}
      },
      "source": [
        "# extracting the file ids from the url\n",
        "fluff, train_id = train_link.split('=')\n",
        "fluff, test_id = test_link.split('=')"
      ],
      "execution_count": null,
      "outputs": []
    },
    {
      "cell_type": "code",
      "metadata": {
        "id": "sLcEiyRfAEN0",
        "colab_type": "code",
        "colab": {
          "base_uri": "https://localhost:8080/",
          "height": 51
        },
        "outputId": "ba5154a6-f9e2-4b03-8515-012034d87186"
      },
      "source": [
        "# validating whether the entire extraction was perfect\n",
        "print(train_id)\n",
        "print(test_id)"
      ],
      "execution_count": null,
      "outputs": [
        {
          "output_type": "stream",
          "text": [
            "1YCmgG6EoeW-suoO9pEJKUzIMBv3iAlew\n",
            "17H0OUGoC3-Ld-qITR8QWDIICipS8I9al\n"
          ],
          "name": "stdout"
        }
      ]
    },
    {
      "cell_type": "code",
      "metadata": {
        "id": "iPAxiJk8AJ8e",
        "colab_type": "code",
        "colab": {}
      },
      "source": [
        "#loading the training dataset\n",
        "downloaded_train = drive.CreateFile({'id':train_id}) \n",
        "downloaded_train.GetContentFile('Training.csv')  \n",
        "training_df = pd.read_csv('Training.csv')\n",
        "\n",
        "#loading the test dataset\n",
        "downloaded_test = drive.CreateFile({'id':test_id}) \n",
        "downloaded_test.GetContentFile('Test.csv')\n",
        "test_df = pd.read_csv('Test.csv')"
      ],
      "execution_count": null,
      "outputs": []
    },
    {
      "cell_type": "code",
      "metadata": {
        "id": "SsNm3_Y3Borm",
        "colab_type": "code",
        "colab": {
          "base_uri": "https://localhost:8080/",
          "height": 204
        },
        "outputId": "62be8880-3edf-4160-ae17-eff0bd35823f"
      },
      "source": [
        "# quickly looking into the training dataset \n",
        "training_df.head()"
      ],
      "execution_count": null,
      "outputs": [
        {
          "output_type": "execute_result",
          "data": {
            "text/html": [
              "<div>\n",
              "<style scoped>\n",
              "    .dataframe tbody tr th:only-of-type {\n",
              "        vertical-align: middle;\n",
              "    }\n",
              "\n",
              "    .dataframe tbody tr th {\n",
              "        vertical-align: top;\n",
              "    }\n",
              "\n",
              "    .dataframe thead th {\n",
              "        text-align: right;\n",
              "    }\n",
              "</style>\n",
              "<table border=\"1\" class=\"dataframe\">\n",
              "  <thead>\n",
              "    <tr style=\"text-align: right;\">\n",
              "      <th></th>\n",
              "      <th>vendor_name</th>\n",
              "      <th>enterprise_name</th>\n",
              "      <th>total_amount</th>\n",
              "      <th>repayment_date</th>\n",
              "    </tr>\n",
              "  </thead>\n",
              "  <tbody>\n",
              "    <tr>\n",
              "      <th>0</th>\n",
              "      <td>A</td>\n",
              "      <td>DO</td>\n",
              "      <td>38314</td>\n",
              "      <td>2019-03-11</td>\n",
              "    </tr>\n",
              "    <tr>\n",
              "      <th>1</th>\n",
              "      <td>A</td>\n",
              "      <td>DO</td>\n",
              "      <td>406447</td>\n",
              "      <td>2019-03-19</td>\n",
              "    </tr>\n",
              "    <tr>\n",
              "      <th>2</th>\n",
              "      <td>A</td>\n",
              "      <td>DO</td>\n",
              "      <td>47904</td>\n",
              "      <td>2019-03-20</td>\n",
              "    </tr>\n",
              "    <tr>\n",
              "      <th>3</th>\n",
              "      <td>A</td>\n",
              "      <td>DO</td>\n",
              "      <td>37547</td>\n",
              "      <td>2019-03-26</td>\n",
              "    </tr>\n",
              "    <tr>\n",
              "      <th>4</th>\n",
              "      <td>A</td>\n",
              "      <td>DO</td>\n",
              "      <td>186274</td>\n",
              "      <td>2019-04-04</td>\n",
              "    </tr>\n",
              "  </tbody>\n",
              "</table>\n",
              "</div>"
            ],
            "text/plain": [
              "  vendor_name enterprise_name  total_amount repayment_date\n",
              "0           A              DO         38314     2019-03-11\n",
              "1           A              DO        406447     2019-03-19\n",
              "2           A              DO         47904     2019-03-20\n",
              "3           A              DO         37547     2019-03-26\n",
              "4           A              DO        186274     2019-04-04"
            ]
          },
          "metadata": {
            "tags": []
          },
          "execution_count": 7
        }
      ]
    },
    {
      "cell_type": "code",
      "metadata": {
        "id": "05_hlCb9BtKL",
        "colab_type": "code",
        "colab": {
          "base_uri": "https://localhost:8080/",
          "height": 204
        },
        "outputId": "6dbe1f2d-7218-443c-f3f2-0ccdf8cd218b"
      },
      "source": [
        "# quickly looking into the test dataset \n",
        "test_df.head()"
      ],
      "execution_count": null,
      "outputs": [
        {
          "output_type": "execute_result",
          "data": {
            "text/html": [
              "<div>\n",
              "<style scoped>\n",
              "    .dataframe tbody tr th:only-of-type {\n",
              "        vertical-align: middle;\n",
              "    }\n",
              "\n",
              "    .dataframe tbody tr th {\n",
              "        vertical-align: top;\n",
              "    }\n",
              "\n",
              "    .dataframe thead th {\n",
              "        text-align: right;\n",
              "    }\n",
              "</style>\n",
              "<table border=\"1\" class=\"dataframe\">\n",
              "  <thead>\n",
              "    <tr style=\"text-align: right;\">\n",
              "      <th></th>\n",
              "      <th>vendor_name</th>\n",
              "      <th>enterprise_name</th>\n",
              "      <th>total_amount</th>\n",
              "      <th>repayment_date</th>\n",
              "    </tr>\n",
              "  </thead>\n",
              "  <tbody>\n",
              "    <tr>\n",
              "      <th>0</th>\n",
              "      <td>A</td>\n",
              "      <td>DO</td>\n",
              "      <td>24520</td>\n",
              "      <td>2020-02-17</td>\n",
              "    </tr>\n",
              "    <tr>\n",
              "      <th>1</th>\n",
              "      <td>A</td>\n",
              "      <td>DO</td>\n",
              "      <td>8820</td>\n",
              "      <td>2020-02-20</td>\n",
              "    </tr>\n",
              "    <tr>\n",
              "      <th>2</th>\n",
              "      <td>A</td>\n",
              "      <td>DO</td>\n",
              "      <td>129760</td>\n",
              "      <td>2020-02-25</td>\n",
              "    </tr>\n",
              "    <tr>\n",
              "      <th>3</th>\n",
              "      <td>A</td>\n",
              "      <td>DO</td>\n",
              "      <td>185185</td>\n",
              "      <td>2020-02-26</td>\n",
              "    </tr>\n",
              "    <tr>\n",
              "      <th>4</th>\n",
              "      <td>A</td>\n",
              "      <td>DO</td>\n",
              "      <td>136382</td>\n",
              "      <td>2020-02-27</td>\n",
              "    </tr>\n",
              "  </tbody>\n",
              "</table>\n",
              "</div>"
            ],
            "text/plain": [
              "  vendor_name enterprise_name  total_amount repayment_date\n",
              "0           A              DO         24520     2020-02-17\n",
              "1           A              DO          8820     2020-02-20\n",
              "2           A              DO        129760     2020-02-25\n",
              "3           A              DO        185185     2020-02-26\n",
              "4           A              DO        136382     2020-02-27"
            ]
          },
          "metadata": {
            "tags": []
          },
          "execution_count": 8
        }
      ]
    },
    {
      "cell_type": "code",
      "metadata": {
        "id": "opT9PLU4NJR1",
        "colab_type": "code",
        "colab": {}
      },
      "source": [
        "# Getting the count of transactions per vendor-enterprise pair\n",
        "df2 = training_df.groupby(['vendor_name', 'enterprise_name']).count()"
      ],
      "execution_count": null,
      "outputs": []
    },
    {
      "cell_type": "code",
      "metadata": {
        "id": "zUjQX1R5OFlf",
        "colab_type": "code",
        "colab": {
          "base_uri": "https://localhost:8080/",
          "height": 450
        },
        "outputId": "e6b10f7c-ec81-4960-a3d3-ebfc1d36ffe5"
      },
      "source": [
        "# printing the same\n",
        "df2"
      ],
      "execution_count": null,
      "outputs": [
        {
          "output_type": "execute_result",
          "data": {
            "text/html": [
              "<div>\n",
              "<style scoped>\n",
              "    .dataframe tbody tr th:only-of-type {\n",
              "        vertical-align: middle;\n",
              "    }\n",
              "\n",
              "    .dataframe tbody tr th {\n",
              "        vertical-align: top;\n",
              "    }\n",
              "\n",
              "    .dataframe thead th {\n",
              "        text-align: right;\n",
              "    }\n",
              "</style>\n",
              "<table border=\"1\" class=\"dataframe\">\n",
              "  <thead>\n",
              "    <tr style=\"text-align: right;\">\n",
              "      <th></th>\n",
              "      <th></th>\n",
              "      <th>total_amount</th>\n",
              "      <th>repayment_date</th>\n",
              "    </tr>\n",
              "    <tr>\n",
              "      <th>vendor_name</th>\n",
              "      <th>enterprise_name</th>\n",
              "      <th></th>\n",
              "      <th></th>\n",
              "    </tr>\n",
              "  </thead>\n",
              "  <tbody>\n",
              "    <tr>\n",
              "      <th rowspan=\"2\" valign=\"top\">A</th>\n",
              "      <th>DO</th>\n",
              "      <td>99</td>\n",
              "      <td>99</td>\n",
              "    </tr>\n",
              "    <tr>\n",
              "      <th>LP</th>\n",
              "      <td>11</td>\n",
              "      <td>11</td>\n",
              "    </tr>\n",
              "    <tr>\n",
              "      <th rowspan=\"3\" valign=\"top\">AA</th>\n",
              "      <th>FQ</th>\n",
              "      <td>26</td>\n",
              "      <td>26</td>\n",
              "    </tr>\n",
              "    <tr>\n",
              "      <th>IF</th>\n",
              "      <td>14</td>\n",
              "      <td>14</td>\n",
              "    </tr>\n",
              "    <tr>\n",
              "      <th>IG</th>\n",
              "      <td>55</td>\n",
              "      <td>55</td>\n",
              "    </tr>\n",
              "    <tr>\n",
              "      <th>...</th>\n",
              "      <th>...</th>\n",
              "      <td>...</td>\n",
              "      <td>...</td>\n",
              "    </tr>\n",
              "    <tr>\n",
              "      <th rowspan=\"4\" valign=\"top\">YR</th>\n",
              "      <th>KS</th>\n",
              "      <td>11</td>\n",
              "      <td>11</td>\n",
              "    </tr>\n",
              "    <tr>\n",
              "      <th>KV</th>\n",
              "      <td>30</td>\n",
              "      <td>30</td>\n",
              "    </tr>\n",
              "    <tr>\n",
              "      <th>UD</th>\n",
              "      <td>10</td>\n",
              "      <td>10</td>\n",
              "    </tr>\n",
              "    <tr>\n",
              "      <th>YR</th>\n",
              "      <td>14</td>\n",
              "      <td>14</td>\n",
              "    </tr>\n",
              "    <tr>\n",
              "      <th>Z</th>\n",
              "      <th>FP</th>\n",
              "      <td>83</td>\n",
              "      <td>83</td>\n",
              "    </tr>\n",
              "  </tbody>\n",
              "</table>\n",
              "<p>243 rows × 2 columns</p>\n",
              "</div>"
            ],
            "text/plain": [
              "                             total_amount  repayment_date\n",
              "vendor_name enterprise_name                              \n",
              "A           DO                         99              99\n",
              "            LP                         11              11\n",
              "AA          FQ                         26              26\n",
              "            IF                         14              14\n",
              "            IG                         55              55\n",
              "...                                   ...             ...\n",
              "YR          KS                         11              11\n",
              "            KV                         30              30\n",
              "            UD                         10              10\n",
              "            YR                         14              14\n",
              "Z           FP                         83              83\n",
              "\n",
              "[243 rows x 2 columns]"
            ]
          },
          "metadata": {
            "tags": []
          },
          "execution_count": 10
        }
      ]
    },
    {
      "cell_type": "code",
      "metadata": {
        "id": "ObWT5P3Xlvzi",
        "colab_type": "code",
        "colab": {}
      },
      "source": [
        "# Extracting the data for first enterprise vendor pair to analyse it.\n",
        "sampled_df_1 = training_df.loc[(training_df['vendor_name'] == 'A') & (training_df['enterprise_name'] == 'DO')]"
      ],
      "execution_count": null,
      "outputs": []
    },
    {
      "cell_type": "code",
      "metadata": {
        "id": "pFrP4VQGmYmq",
        "colab_type": "code",
        "colab": {
          "base_uri": "https://localhost:8080/",
          "height": 419
        },
        "outputId": "ff6964b7-b399-426e-cdd9-cef50de8c180"
      },
      "source": [
        "#printing the same\n",
        "sampled_df_1"
      ],
      "execution_count": null,
      "outputs": [
        {
          "output_type": "execute_result",
          "data": {
            "text/html": [
              "<div>\n",
              "<style scoped>\n",
              "    .dataframe tbody tr th:only-of-type {\n",
              "        vertical-align: middle;\n",
              "    }\n",
              "\n",
              "    .dataframe tbody tr th {\n",
              "        vertical-align: top;\n",
              "    }\n",
              "\n",
              "    .dataframe thead th {\n",
              "        text-align: right;\n",
              "    }\n",
              "</style>\n",
              "<table border=\"1\" class=\"dataframe\">\n",
              "  <thead>\n",
              "    <tr style=\"text-align: right;\">\n",
              "      <th></th>\n",
              "      <th>vendor_name</th>\n",
              "      <th>enterprise_name</th>\n",
              "      <th>total_amount</th>\n",
              "      <th>repayment_date</th>\n",
              "    </tr>\n",
              "  </thead>\n",
              "  <tbody>\n",
              "    <tr>\n",
              "      <th>0</th>\n",
              "      <td>A</td>\n",
              "      <td>DO</td>\n",
              "      <td>38314</td>\n",
              "      <td>2019-03-11</td>\n",
              "    </tr>\n",
              "    <tr>\n",
              "      <th>1</th>\n",
              "      <td>A</td>\n",
              "      <td>DO</td>\n",
              "      <td>406447</td>\n",
              "      <td>2019-03-19</td>\n",
              "    </tr>\n",
              "    <tr>\n",
              "      <th>2</th>\n",
              "      <td>A</td>\n",
              "      <td>DO</td>\n",
              "      <td>47904</td>\n",
              "      <td>2019-03-20</td>\n",
              "    </tr>\n",
              "    <tr>\n",
              "      <th>3</th>\n",
              "      <td>A</td>\n",
              "      <td>DO</td>\n",
              "      <td>37547</td>\n",
              "      <td>2019-03-26</td>\n",
              "    </tr>\n",
              "    <tr>\n",
              "      <th>4</th>\n",
              "      <td>A</td>\n",
              "      <td>DO</td>\n",
              "      <td>186274</td>\n",
              "      <td>2019-04-04</td>\n",
              "    </tr>\n",
              "    <tr>\n",
              "      <th>...</th>\n",
              "      <td>...</td>\n",
              "      <td>...</td>\n",
              "      <td>...</td>\n",
              "      <td>...</td>\n",
              "    </tr>\n",
              "    <tr>\n",
              "      <th>94</th>\n",
              "      <td>A</td>\n",
              "      <td>DO</td>\n",
              "      <td>23840</td>\n",
              "      <td>2020-02-11</td>\n",
              "    </tr>\n",
              "    <tr>\n",
              "      <th>95</th>\n",
              "      <td>A</td>\n",
              "      <td>DO</td>\n",
              "      <td>24718</td>\n",
              "      <td>2020-02-13</td>\n",
              "    </tr>\n",
              "    <tr>\n",
              "      <th>96</th>\n",
              "      <td>A</td>\n",
              "      <td>DO</td>\n",
              "      <td>123196</td>\n",
              "      <td>2020-03-11</td>\n",
              "    </tr>\n",
              "    <tr>\n",
              "      <th>97</th>\n",
              "      <td>A</td>\n",
              "      <td>DO</td>\n",
              "      <td>88260</td>\n",
              "      <td>2020-03-20</td>\n",
              "    </tr>\n",
              "    <tr>\n",
              "      <th>98</th>\n",
              "      <td>A</td>\n",
              "      <td>DO</td>\n",
              "      <td>28321</td>\n",
              "      <td>2020-03-23</td>\n",
              "    </tr>\n",
              "  </tbody>\n",
              "</table>\n",
              "<p>99 rows × 4 columns</p>\n",
              "</div>"
            ],
            "text/plain": [
              "   vendor_name enterprise_name  total_amount repayment_date\n",
              "0            A              DO         38314     2019-03-11\n",
              "1            A              DO        406447     2019-03-19\n",
              "2            A              DO         47904     2019-03-20\n",
              "3            A              DO         37547     2019-03-26\n",
              "4            A              DO        186274     2019-04-04\n",
              "..         ...             ...           ...            ...\n",
              "94           A              DO         23840     2020-02-11\n",
              "95           A              DO         24718     2020-02-13\n",
              "96           A              DO        123196     2020-03-11\n",
              "97           A              DO         88260     2020-03-20\n",
              "98           A              DO         28321     2020-03-23\n",
              "\n",
              "[99 rows x 4 columns]"
            ]
          },
          "metadata": {
            "tags": []
          },
          "execution_count": 12
        }
      ]
    },
    {
      "cell_type": "code",
      "metadata": {
        "id": "5QfAWF5kB6em",
        "colab_type": "code",
        "colab": {
          "base_uri": "https://localhost:8080/",
          "height": 102
        },
        "outputId": "4865de7c-be78-4370-81a1-b02954d660a9"
      },
      "source": [
        "#printing the datatypes of all the columns in pandas dataframe\n",
        "print(sampled_df_1.dtypes)"
      ],
      "execution_count": null,
      "outputs": [
        {
          "output_type": "stream",
          "text": [
            "vendor_name        object\n",
            "enterprise_name    object\n",
            "total_amount        int64\n",
            "repayment_date     object\n",
            "dtype: object\n"
          ],
          "name": "stdout"
        }
      ]
    },
    {
      "cell_type": "code",
      "metadata": {
        "id": "nAdbA-9IDe3P",
        "colab_type": "code",
        "colab": {
          "base_uri": "https://localhost:8080/",
          "height": 153
        },
        "outputId": "1cd2acdf-fdce-4505-9009-3353472009a3"
      },
      "source": [
        "# Converting the datatype of repayment_date to datetime \n",
        "sampled_df_1.loc[:, 'repayment_date'] = pd.to_datetime(sampled_df_1['repayment_date'].str.strip(), format='%Y-%m-%d')\n",
        "print ('\\n Parsed Data:')\n",
        "print (sampled_df_1.head())"
      ],
      "execution_count": null,
      "outputs": [
        {
          "output_type": "stream",
          "text": [
            "\n",
            " Parsed Data:\n",
            "  vendor_name enterprise_name  total_amount repayment_date\n",
            "0           A              DO         38314     2019-03-11\n",
            "1           A              DO        406447     2019-03-19\n",
            "2           A              DO         47904     2019-03-20\n",
            "3           A              DO         37547     2019-03-26\n",
            "4           A              DO        186274     2019-04-04\n"
          ],
          "name": "stdout"
        }
      ]
    },
    {
      "cell_type": "code",
      "metadata": {
        "id": "Tbz8KkZVIVf1",
        "colab_type": "code",
        "colab": {
          "base_uri": "https://localhost:8080/",
          "height": 102
        },
        "outputId": "51f39322-4606-44fb-befc-27446c225cab"
      },
      "source": [
        "# Printing the datatypes to verify whether datatype for repayment date is changed or not\n",
        "print(sampled_df_1.dtypes)"
      ],
      "execution_count": null,
      "outputs": [
        {
          "output_type": "stream",
          "text": [
            "vendor_name                object\n",
            "enterprise_name            object\n",
            "total_amount                int64\n",
            "repayment_date     datetime64[ns]\n",
            "dtype: object\n"
          ],
          "name": "stdout"
        }
      ]
    },
    {
      "cell_type": "code",
      "metadata": {
        "id": "5DjtBMjCJpwT",
        "colab_type": "code",
        "colab": {}
      },
      "source": [
        "# droppping the vendor_name and enterprise column as they are no longer needed\n",
        "sampled_df_1.drop(['vendor_name', 'enterprise_name'], axis = 1, inplace = True) "
      ],
      "execution_count": null,
      "outputs": []
    },
    {
      "cell_type": "code",
      "metadata": {
        "id": "Aq4bkUEpKOtG",
        "colab_type": "code",
        "colab": {}
      },
      "source": [
        "# setting repayment_date as index and converting the data to daywise\n",
        "sampled_df_1.set_index('repayment_date', inplace=True)\n",
        "sampled_df_daily = sampled_df_1.resample('D').sum().fillna(0)"
      ],
      "execution_count": null,
      "outputs": []
    },
    {
      "cell_type": "code",
      "metadata": {
        "id": "BNfvtax0EO6D",
        "colab_type": "code",
        "colab": {}
      },
      "source": [
        "# Normalize our data to fall between 0 and ones since LSTM is a neural network \n",
        "scaler = MinMaxScaler(feature_range = (0, 1))\n",
        "training_scaled = scaler.fit_transform(sampled_df_daily)"
      ],
      "execution_count": null,
      "outputs": []
    },
    {
      "cell_type": "code",
      "metadata": {
        "id": "lChTvLb_Eavj",
        "colab_type": "code",
        "colab": {
          "base_uri": "https://localhost:8080/",
          "height": 1000
        },
        "outputId": "1216f7b6-7846-4de4-8a6e-4ee3f4f663da"
      },
      "source": [
        "# Visulaizing the data\n",
        "training_scaled"
      ],
      "execution_count": null,
      "outputs": [
        {
          "output_type": "execute_result",
          "data": {
            "text/plain": [
              "array([[0.09426567],\n",
              "       [0.        ],\n",
              "       [0.        ],\n",
              "       [0.        ],\n",
              "       [0.        ],\n",
              "       [0.        ],\n",
              "       [0.        ],\n",
              "       [0.        ],\n",
              "       [1.        ],\n",
              "       [0.11786039],\n",
              "       [0.        ],\n",
              "       [0.        ],\n",
              "       [0.        ],\n",
              "       [0.        ],\n",
              "       [0.        ],\n",
              "       [0.09237859],\n",
              "       [0.        ],\n",
              "       [0.        ],\n",
              "       [0.        ],\n",
              "       [0.        ],\n",
              "       [0.        ],\n",
              "       [0.        ],\n",
              "       [0.        ],\n",
              "       [0.        ],\n",
              "       [0.45829838],\n",
              "       [0.1060089 ],\n",
              "       [0.        ],\n",
              "       [0.        ],\n",
              "       [0.        ],\n",
              "       [0.        ],\n",
              "       [0.        ],\n",
              "       [0.        ],\n",
              "       [0.        ],\n",
              "       [0.        ],\n",
              "       [0.        ],\n",
              "       [0.0541399 ],\n",
              "       [0.        ],\n",
              "       [0.        ],\n",
              "       [0.        ],\n",
              "       [0.        ],\n",
              "       [0.        ],\n",
              "       [0.        ],\n",
              "       [0.29637567],\n",
              "       [0.        ],\n",
              "       [0.6190229 ],\n",
              "       [0.0713943 ],\n",
              "       [0.        ],\n",
              "       [0.        ],\n",
              "       [0.        ],\n",
              "       [0.10296791],\n",
              "       [0.09659562],\n",
              "       [0.        ],\n",
              "       [0.        ],\n",
              "       [0.        ],\n",
              "       [0.        ],\n",
              "       [0.        ],\n",
              "       [0.02768873],\n",
              "       [0.        ],\n",
              "       [0.23904224],\n",
              "       [0.        ],\n",
              "       [0.        ],\n",
              "       [0.        ],\n",
              "       [0.        ],\n",
              "       [0.02886723],\n",
              "       [0.        ],\n",
              "       [0.00617547],\n",
              "       [0.        ],\n",
              "       [0.        ],\n",
              "       [0.        ],\n",
              "       [0.        ],\n",
              "       [0.        ],\n",
              "       [0.        ],\n",
              "       [0.        ],\n",
              "       [0.25093801],\n",
              "       [0.        ],\n",
              "       [0.        ],\n",
              "       [0.        ],\n",
              "       [0.        ],\n",
              "       [0.0903611 ],\n",
              "       [0.02955367],\n",
              "       [0.20891531],\n",
              "       [0.02882049],\n",
              "       [0.        ],\n",
              "       [0.        ],\n",
              "       [0.07600745],\n",
              "       [0.        ],\n",
              "       [0.        ],\n",
              "       [0.13762926],\n",
              "       [0.        ],\n",
              "       [0.        ],\n",
              "       [0.        ],\n",
              "       [0.07513649],\n",
              "       [0.        ],\n",
              "       [0.        ],\n",
              "       [0.        ],\n",
              "       [0.        ],\n",
              "       [0.        ],\n",
              "       [0.        ],\n",
              "       [0.3265518 ],\n",
              "       [0.        ],\n",
              "       [0.        ],\n",
              "       [0.        ],\n",
              "       [0.        ],\n",
              "       [0.        ],\n",
              "       [0.        ],\n",
              "       [0.        ],\n",
              "       [0.        ],\n",
              "       [0.        ],\n",
              "       [0.022367  ],\n",
              "       [0.29908451],\n",
              "       [0.        ],\n",
              "       [0.        ],\n",
              "       [0.        ],\n",
              "       [0.10684296],\n",
              "       [0.        ],\n",
              "       [0.        ],\n",
              "       [0.        ],\n",
              "       [0.        ],\n",
              "       [0.        ],\n",
              "       [0.        ],\n",
              "       [0.12842019],\n",
              "       [0.        ],\n",
              "       [0.        ],\n",
              "       [0.        ],\n",
              "       [0.        ],\n",
              "       [0.        ],\n",
              "       [0.        ],\n",
              "       [0.        ],\n",
              "       [0.        ],\n",
              "       [0.        ],\n",
              "       [0.        ],\n",
              "       [0.        ],\n",
              "       [0.        ],\n",
              "       [0.26665715],\n",
              "       [0.14437553],\n",
              "       [0.        ],\n",
              "       [0.        ],\n",
              "       [0.        ],\n",
              "       [0.        ],\n",
              "       [0.        ],\n",
              "       [0.08950983],\n",
              "       [0.        ],\n",
              "       [0.        ],\n",
              "       [0.        ],\n",
              "       [0.15886942],\n",
              "       [0.        ],\n",
              "       [0.        ],\n",
              "       [0.        ],\n",
              "       [0.03275704],\n",
              "       [0.04368343],\n",
              "       [0.        ],\n",
              "       [0.        ],\n",
              "       [0.        ],\n",
              "       [0.        ],\n",
              "       [0.        ],\n",
              "       [0.47629826],\n",
              "       [0.        ],\n",
              "       [0.        ],\n",
              "       [0.14048326],\n",
              "       [0.        ],\n",
              "       [0.        ],\n",
              "       [0.        ],\n",
              "       [0.36812918],\n",
              "       [0.        ],\n",
              "       [0.12758121],\n",
              "       [0.09335042],\n",
              "       [0.        ],\n",
              "       [0.        ],\n",
              "       [0.20182951],\n",
              "       [0.        ],\n",
              "       [0.        ],\n",
              "       [0.        ],\n",
              "       [0.        ],\n",
              "       [0.        ],\n",
              "       [0.        ],\n",
              "       [0.        ],\n",
              "       [0.        ],\n",
              "       [0.        ],\n",
              "       [0.27207975],\n",
              "       [0.03753503],\n",
              "       [0.        ],\n",
              "       [0.        ],\n",
              "       [0.22625582],\n",
              "       [0.00957812],\n",
              "       [0.09195541],\n",
              "       [0.        ],\n",
              "       [0.0507397 ],\n",
              "       [0.        ],\n",
              "       [0.        ],\n",
              "       [0.19081209],\n",
              "       [0.        ],\n",
              "       [0.        ],\n",
              "       [0.        ],\n",
              "       [0.        ],\n",
              "       [0.        ],\n",
              "       [0.        ],\n",
              "       [0.        ],\n",
              "       [0.07426307],\n",
              "       [0.        ],\n",
              "       [0.        ],\n",
              "       [0.        ],\n",
              "       [0.        ],\n",
              "       [0.        ],\n",
              "       [0.        ],\n",
              "       [0.13928015],\n",
              "       [0.        ],\n",
              "       [0.05063883],\n",
              "       [0.        ],\n",
              "       [0.        ],\n",
              "       [0.        ],\n",
              "       [0.12766732],\n",
              "       [0.        ],\n",
              "       [0.        ],\n",
              "       [0.        ],\n",
              "       [0.52817218],\n",
              "       [0.        ],\n",
              "       [0.        ],\n",
              "       [0.        ],\n",
              "       [0.        ],\n",
              "       [0.        ],\n",
              "       [0.02303867],\n",
              "       [0.3282765 ],\n",
              "       [0.        ],\n",
              "       [0.        ],\n",
              "       [0.        ],\n",
              "       [0.30906121],\n",
              "       [0.29922721],\n",
              "       [0.        ],\n",
              "       [0.13353525],\n",
              "       [0.0638558 ],\n",
              "       [0.        ],\n",
              "       [0.        ],\n",
              "       [0.        ],\n",
              "       [0.        ],\n",
              "       [0.18211969],\n",
              "       [0.        ],\n",
              "       [0.        ],\n",
              "       [0.        ],\n",
              "       [0.0100825 ],\n",
              "       [0.        ],\n",
              "       [0.        ],\n",
              "       [0.        ],\n",
              "       [0.        ],\n",
              "       [0.        ],\n",
              "       [0.        ],\n",
              "       [0.15293507],\n",
              "       [0.        ],\n",
              "       [0.09357924],\n",
              "       [0.25194675],\n",
              "       [0.02935438],\n",
              "       [0.        ],\n",
              "       [0.        ],\n",
              "       [0.        ],\n",
              "       [0.42035739],\n",
              "       [0.        ],\n",
              "       [0.25003998],\n",
              "       [0.        ],\n",
              "       [0.        ],\n",
              "       [0.        ],\n",
              "       [0.        ],\n",
              "       [0.15564391],\n",
              "       [0.05932139],\n",
              "       [0.        ],\n",
              "       [0.        ],\n",
              "       [0.        ],\n",
              "       [0.        ],\n",
              "       [0.        ],\n",
              "       [0.        ],\n",
              "       [0.47032454],\n",
              "       [0.        ],\n",
              "       [0.17672661],\n",
              "       [0.        ],\n",
              "       [0.        ],\n",
              "       [0.02222922],\n",
              "       [0.23796461],\n",
              "       [0.45559446],\n",
              "       [0.45071559],\n",
              "       [0.        ],\n",
              "       [0.        ],\n",
              "       [0.        ],\n",
              "       [0.11671386],\n",
              "       [0.        ],\n",
              "       [0.        ],\n",
              "       [0.        ],\n",
              "       [0.        ],\n",
              "       [0.        ],\n",
              "       [0.        ],\n",
              "       [0.24992927],\n",
              "       [0.37746127],\n",
              "       [0.        ],\n",
              "       [0.10232576],\n",
              "       [0.0597175 ],\n",
              "       [0.        ],\n",
              "       [0.        ],\n",
              "       [0.29054957],\n",
              "       [0.        ],\n",
              "       [0.        ],\n",
              "       [0.40037939],\n",
              "       [0.37311384],\n",
              "       [0.        ],\n",
              "       [0.        ],\n",
              "       [0.12333711],\n",
              "       [0.        ],\n",
              "       [0.        ],\n",
              "       [0.        ],\n",
              "       [0.02325764],\n",
              "       [0.        ],\n",
              "       [0.        ],\n",
              "       [0.        ],\n",
              "       [0.13270119],\n",
              "       [0.34683243],\n",
              "       [0.22198466],\n",
              "       [0.        ],\n",
              "       [0.        ],\n",
              "       [0.        ],\n",
              "       [0.        ],\n",
              "       [0.71851681],\n",
              "       [0.        ],\n",
              "       [0.        ],\n",
              "       [0.        ],\n",
              "       [0.        ],\n",
              "       [0.        ],\n",
              "       [0.        ],\n",
              "       [0.        ],\n",
              "       [0.28322512],\n",
              "       [0.        ],\n",
              "       [0.12425236],\n",
              "       [0.        ],\n",
              "       [0.        ],\n",
              "       [0.        ],\n",
              "       [0.        ],\n",
              "       [0.04120586],\n",
              "       [0.        ],\n",
              "       [0.06847879],\n",
              "       [0.        ],\n",
              "       [0.        ],\n",
              "       [0.08109544],\n",
              "       [0.05865463],\n",
              "       [0.        ],\n",
              "       [0.06081482],\n",
              "       [0.        ],\n",
              "       [0.        ],\n",
              "       [0.        ],\n",
              "       [0.        ],\n",
              "       [0.        ],\n",
              "       [0.        ],\n",
              "       [0.        ],\n",
              "       [0.        ],\n",
              "       [0.        ],\n",
              "       [0.        ],\n",
              "       [0.        ],\n",
              "       [0.        ],\n",
              "       [0.        ],\n",
              "       [0.        ],\n",
              "       [0.        ],\n",
              "       [0.        ],\n",
              "       [0.        ],\n",
              "       [0.        ],\n",
              "       [0.        ],\n",
              "       [0.        ],\n",
              "       [0.        ],\n",
              "       [0.        ],\n",
              "       [0.        ],\n",
              "       [0.        ],\n",
              "       [0.        ],\n",
              "       [0.        ],\n",
              "       [0.30310471],\n",
              "       [0.        ],\n",
              "       [0.        ],\n",
              "       [0.        ],\n",
              "       [0.        ],\n",
              "       [0.        ],\n",
              "       [0.        ],\n",
              "       [0.        ],\n",
              "       [0.        ],\n",
              "       [0.21715008],\n",
              "       [0.        ],\n",
              "       [0.        ],\n",
              "       [0.06967944]])"
            ]
          },
          "metadata": {
            "tags": []
          },
          "execution_count": 19
        }
      ]
    },
    {
      "cell_type": "code",
      "metadata": {
        "id": "m2dz5aPXEs5e",
        "colab_type": "code",
        "colab": {}
      },
      "source": [
        "#Converting the data into features and labels i. e. using first 60 data values to predict the 61st value and label is the target value i. e. dependent variable \n",
        "features_set = []\n",
        "labels = []\n",
        "for i in range(60, 100):\n",
        "    features_set.append(training_scaled[i-60:i, 0])\n",
        "    labels.append(training_scaled[i, 0])"
      ],
      "execution_count": null,
      "outputs": []
    },
    {
      "cell_type": "code",
      "metadata": {
        "id": "H717NeBtE5ag",
        "colab_type": "code",
        "colab": {}
      },
      "source": [
        "# Converting the data into numpy array to use it for training\n",
        "features_set, labels = np.array(features_set), np.array(labels)"
      ],
      "execution_count": null,
      "outputs": []
    },
    {
      "cell_type": "code",
      "metadata": {
        "id": "ybiU2G7yE9Mc",
        "colab_type": "code",
        "colab": {}
      },
      "source": [
        "#Converting the input data into proper format that can be used by lstm\n",
        "#First dimension = number of rows =99\n",
        "#Second dimension = number of steps = 60\n",
        "#Third dimension = number of features or indicators i.e. 1 in our case\n",
        "features_set = np.reshape(features_set, (features_set.shape[0], features_set.shape[1], 1))"
      ],
      "execution_count": null,
      "outputs": []
    },
    {
      "cell_type": "code",
      "metadata": {
        "id": "g-VuI0N9FGKT",
        "colab_type": "code",
        "colab": {}
      },
      "source": [
        "#Instantiating the sequential class\n",
        "model = Sequential()"
      ],
      "execution_count": null,
      "outputs": []
    },
    {
      "cell_type": "code",
      "metadata": {
        "id": "RSOuYxanFJ4H",
        "colab_type": "code",
        "colab": {}
      },
      "source": [
        "# Adding one lstm layer with 50 neurons, returning a sequence since we will add more layers to it,\n",
        "# input_shape(number of steps, number of indicators)\n",
        "model.add(LSTM(units=50, return_sequences=True, input_shape=(features_set.shape[1], 1)))"
      ],
      "execution_count": null,
      "outputs": []
    },
    {
      "cell_type": "code",
      "metadata": {
        "id": "PJQrGF0nFPZ-",
        "colab_type": "code",
        "colab": {}
      },
      "source": [
        "# Adding a dropout layer to avoid overfitting with dropout = 0.2 i. e. set 20% of the neurons to 0\n",
        "model.add(Dropout(0.2))"
      ],
      "execution_count": null,
      "outputs": []
    },
    {
      "cell_type": "code",
      "metadata": {
        "id": "Drs5U8bTFQqf",
        "colab_type": "code",
        "colab": {}
      },
      "source": [
        "# Adding three more lstm and dropout layers to our sequence model\n",
        "model.add(LSTM(units=50, return_sequences=True))\n",
        "model.add(Dropout(0.2))\n",
        "\n",
        "model.add(LSTM(units=50, return_sequences=True))\n",
        "model.add(Dropout(0.2))\n",
        "\n",
        "model.add(LSTM(units=50))\n",
        "model.add(Dropout(0.2))"
      ],
      "execution_count": null,
      "outputs": []
    },
    {
      "cell_type": "code",
      "metadata": {
        "id": "Bp8op6QGFYIK",
        "colab_type": "code",
        "colab": {}
      },
      "source": [
        "# Adding a dense layer at the end to make our model more robust with one unit since we want to output a single value or feature\n",
        "model.add(Dense(units = 1))"
      ],
      "execution_count": null,
      "outputs": []
    },
    {
      "cell_type": "code",
      "metadata": {
        "id": "TMv0t1l1FdAr",
        "colab_type": "code",
        "colab": {}
      },
      "source": [
        "# Compliting our model(Sequence model) before training, using mean square as the loss function and using adam optimizer to optimize the algorithm\n",
        "model.compile(optimizer = 'adam', loss = 'mean_squared_error')"
      ],
      "execution_count": null,
      "outputs": []
    },
    {
      "cell_type": "code",
      "metadata": {
        "id": "CPEUp6lCFh2F",
        "colab_type": "code",
        "colab": {
          "base_uri": "https://localhost:8080/",
          "height": 1000
        },
        "outputId": "07c2287f-2e06-4ba8-9c28-eccdd0b44034"
      },
      "source": [
        "# Training our model with the feature set and telling the target labels\n",
        "model.fit(features_set, labels, epochs = 100, batch_size = 32)"
      ],
      "execution_count": null,
      "outputs": [
        {
          "output_type": "stream",
          "text": [
            "Epoch 1/100\n",
            "40/40 [==============================] - 1s 37ms/step - loss: 0.0062\n",
            "Epoch 2/100\n",
            "40/40 [==============================] - 0s 6ms/step - loss: 0.0055\n",
            "Epoch 3/100\n",
            "40/40 [==============================] - 0s 6ms/step - loss: 0.0054\n",
            "Epoch 4/100\n",
            "40/40 [==============================] - 0s 6ms/step - loss: 0.0054\n",
            "Epoch 5/100\n",
            "40/40 [==============================] - 0s 6ms/step - loss: 0.0053\n",
            "Epoch 6/100\n",
            "40/40 [==============================] - 0s 6ms/step - loss: 0.0052\n",
            "Epoch 7/100\n",
            "40/40 [==============================] - 0s 6ms/step - loss: 0.0053\n",
            "Epoch 8/100\n",
            "40/40 [==============================] - 0s 6ms/step - loss: 0.0054\n",
            "Epoch 9/100\n",
            "40/40 [==============================] - 0s 6ms/step - loss: 0.0055\n",
            "Epoch 10/100\n",
            "40/40 [==============================] - 0s 6ms/step - loss: 0.0055\n",
            "Epoch 11/100\n",
            "40/40 [==============================] - 0s 6ms/step - loss: 0.0056\n",
            "Epoch 12/100\n",
            "40/40 [==============================] - 0s 6ms/step - loss: 0.0054\n",
            "Epoch 13/100\n",
            "40/40 [==============================] - 0s 6ms/step - loss: 0.0056\n",
            "Epoch 14/100\n",
            "40/40 [==============================] - 0s 6ms/step - loss: 0.0056\n",
            "Epoch 15/100\n",
            "40/40 [==============================] - 0s 6ms/step - loss: 0.0054\n",
            "Epoch 16/100\n",
            "40/40 [==============================] - 0s 6ms/step - loss: 0.0052\n",
            "Epoch 17/100\n",
            "40/40 [==============================] - 0s 6ms/step - loss: 0.0052\n",
            "Epoch 18/100\n",
            "40/40 [==============================] - 0s 6ms/step - loss: 0.0053\n",
            "Epoch 19/100\n",
            "40/40 [==============================] - 0s 6ms/step - loss: 0.0054\n",
            "Epoch 20/100\n",
            "40/40 [==============================] - 0s 6ms/step - loss: 0.0053\n",
            "Epoch 21/100\n",
            "40/40 [==============================] - 0s 6ms/step - loss: 0.0050\n",
            "Epoch 22/100\n",
            "40/40 [==============================] - 0s 6ms/step - loss: 0.0052\n",
            "Epoch 23/100\n",
            "40/40 [==============================] - 0s 6ms/step - loss: 0.0053\n",
            "Epoch 24/100\n",
            "40/40 [==============================] - 0s 6ms/step - loss: 0.0055\n",
            "Epoch 25/100\n",
            "40/40 [==============================] - 0s 6ms/step - loss: 0.0056\n",
            "Epoch 26/100\n",
            "40/40 [==============================] - 0s 6ms/step - loss: 0.0052\n",
            "Epoch 27/100\n",
            "40/40 [==============================] - 0s 6ms/step - loss: 0.0056\n",
            "Epoch 28/100\n",
            "40/40 [==============================] - 0s 6ms/step - loss: 0.0054\n",
            "Epoch 29/100\n",
            "40/40 [==============================] - 0s 6ms/step - loss: 0.0051\n",
            "Epoch 30/100\n",
            "40/40 [==============================] - 0s 6ms/step - loss: 0.0057\n",
            "Epoch 31/100\n",
            "40/40 [==============================] - 0s 6ms/step - loss: 0.0053\n",
            "Epoch 32/100\n",
            "40/40 [==============================] - 0s 6ms/step - loss: 0.0054\n",
            "Epoch 33/100\n",
            "40/40 [==============================] - 0s 6ms/step - loss: 0.0053\n",
            "Epoch 34/100\n",
            "40/40 [==============================] - 0s 6ms/step - loss: 0.0053\n",
            "Epoch 35/100\n",
            "40/40 [==============================] - 0s 6ms/step - loss: 0.0054\n",
            "Epoch 36/100\n",
            "40/40 [==============================] - 0s 6ms/step - loss: 0.0052\n",
            "Epoch 37/100\n",
            "40/40 [==============================] - 0s 6ms/step - loss: 0.0052\n",
            "Epoch 38/100\n",
            "40/40 [==============================] - 0s 6ms/step - loss: 0.0055\n",
            "Epoch 39/100\n",
            "40/40 [==============================] - 0s 6ms/step - loss: 0.0055\n",
            "Epoch 40/100\n",
            "40/40 [==============================] - 0s 6ms/step - loss: 0.0056\n",
            "Epoch 41/100\n",
            "40/40 [==============================] - 0s 6ms/step - loss: 0.0052\n",
            "Epoch 42/100\n",
            "40/40 [==============================] - 0s 6ms/step - loss: 0.0053\n",
            "Epoch 43/100\n",
            "40/40 [==============================] - 0s 6ms/step - loss: 0.0053\n",
            "Epoch 44/100\n",
            "40/40 [==============================] - 0s 6ms/step - loss: 0.0054\n",
            "Epoch 45/100\n",
            "40/40 [==============================] - 0s 6ms/step - loss: 0.0052\n",
            "Epoch 46/100\n",
            "40/40 [==============================] - 0s 6ms/step - loss: 0.0053\n",
            "Epoch 47/100\n",
            "40/40 [==============================] - 0s 6ms/step - loss: 0.0054\n",
            "Epoch 48/100\n",
            "40/40 [==============================] - 0s 6ms/step - loss: 0.0052\n",
            "Epoch 49/100\n",
            "40/40 [==============================] - 0s 6ms/step - loss: 0.0055\n",
            "Epoch 50/100\n",
            "40/40 [==============================] - 0s 6ms/step - loss: 0.0051\n",
            "Epoch 51/100\n",
            "40/40 [==============================] - 0s 6ms/step - loss: 0.0053\n",
            "Epoch 52/100\n",
            "40/40 [==============================] - 0s 6ms/step - loss: 0.0057\n",
            "Epoch 53/100\n",
            "40/40 [==============================] - 0s 6ms/step - loss: 0.0053\n",
            "Epoch 54/100\n",
            "40/40 [==============================] - 0s 6ms/step - loss: 0.0052\n",
            "Epoch 55/100\n",
            "40/40 [==============================] - 0s 6ms/step - loss: 0.0055\n",
            "Epoch 56/100\n",
            "40/40 [==============================] - 0s 6ms/step - loss: 0.0050\n",
            "Epoch 57/100\n",
            "40/40 [==============================] - 0s 7ms/step - loss: 0.0053\n",
            "Epoch 58/100\n",
            "40/40 [==============================] - 0s 6ms/step - loss: 0.0052\n",
            "Epoch 59/100\n",
            "40/40 [==============================] - 0s 6ms/step - loss: 0.0052\n",
            "Epoch 60/100\n",
            "40/40 [==============================] - 0s 6ms/step - loss: 0.0051\n",
            "Epoch 61/100\n",
            "40/40 [==============================] - 0s 6ms/step - loss: 0.0054\n",
            "Epoch 62/100\n",
            "40/40 [==============================] - 0s 6ms/step - loss: 0.0054\n",
            "Epoch 63/100\n",
            "40/40 [==============================] - 0s 6ms/step - loss: 0.0051\n",
            "Epoch 64/100\n",
            "40/40 [==============================] - 0s 6ms/step - loss: 0.0053\n",
            "Epoch 65/100\n",
            "40/40 [==============================] - 0s 6ms/step - loss: 0.0051\n",
            "Epoch 66/100\n",
            "40/40 [==============================] - 0s 6ms/step - loss: 0.0051\n",
            "Epoch 67/100\n",
            "40/40 [==============================] - 0s 6ms/step - loss: 0.0053\n",
            "Epoch 68/100\n",
            "40/40 [==============================] - 0s 6ms/step - loss: 0.0052\n",
            "Epoch 69/100\n",
            "40/40 [==============================] - 0s 6ms/step - loss: 0.0055\n",
            "Epoch 70/100\n",
            "40/40 [==============================] - 0s 7ms/step - loss: 0.0053\n",
            "Epoch 71/100\n",
            "40/40 [==============================] - 0s 6ms/step - loss: 0.0050\n",
            "Epoch 72/100\n",
            "40/40 [==============================] - 0s 6ms/step - loss: 0.0050\n",
            "Epoch 73/100\n",
            "40/40 [==============================] - 0s 6ms/step - loss: 0.0050\n",
            "Epoch 74/100\n",
            "40/40 [==============================] - 0s 6ms/step - loss: 0.0053\n",
            "Epoch 75/100\n",
            "40/40 [==============================] - 0s 6ms/step - loss: 0.0053\n",
            "Epoch 76/100\n",
            "40/40 [==============================] - 0s 6ms/step - loss: 0.0053\n",
            "Epoch 77/100\n",
            "40/40 [==============================] - 0s 6ms/step - loss: 0.0054\n",
            "Epoch 78/100\n",
            "40/40 [==============================] - 0s 6ms/step - loss: 0.0057\n",
            "Epoch 79/100\n",
            "40/40 [==============================] - 0s 6ms/step - loss: 0.0056\n",
            "Epoch 80/100\n",
            "40/40 [==============================] - 0s 6ms/step - loss: 0.0059\n",
            "Epoch 81/100\n",
            "40/40 [==============================] - 0s 6ms/step - loss: 0.0055\n",
            "Epoch 82/100\n",
            "40/40 [==============================] - 0s 6ms/step - loss: 0.0050\n",
            "Epoch 83/100\n",
            "40/40 [==============================] - 0s 6ms/step - loss: 0.0052\n",
            "Epoch 84/100\n",
            "40/40 [==============================] - 0s 6ms/step - loss: 0.0051\n",
            "Epoch 85/100\n",
            "40/40 [==============================] - 0s 6ms/step - loss: 0.0052\n",
            "Epoch 86/100\n",
            "40/40 [==============================] - 0s 6ms/step - loss: 0.0051\n",
            "Epoch 87/100\n",
            "40/40 [==============================] - 0s 6ms/step - loss: 0.0050\n",
            "Epoch 88/100\n",
            "40/40 [==============================] - 0s 6ms/step - loss: 0.0056\n",
            "Epoch 89/100\n",
            "40/40 [==============================] - 0s 6ms/step - loss: 0.0054\n",
            "Epoch 90/100\n",
            "40/40 [==============================] - 0s 6ms/step - loss: 0.0052\n",
            "Epoch 91/100\n",
            "40/40 [==============================] - 0s 6ms/step - loss: 0.0051\n",
            "Epoch 92/100\n",
            "40/40 [==============================] - 0s 6ms/step - loss: 0.0051\n",
            "Epoch 93/100\n",
            "40/40 [==============================] - 0s 6ms/step - loss: 0.0054\n",
            "Epoch 94/100\n",
            "40/40 [==============================] - 0s 6ms/step - loss: 0.0050\n",
            "Epoch 95/100\n",
            "40/40 [==============================] - 0s 6ms/step - loss: 0.0054\n",
            "Epoch 96/100\n",
            "40/40 [==============================] - 0s 6ms/step - loss: 0.0051\n",
            "Epoch 97/100\n",
            "40/40 [==============================] - 0s 6ms/step - loss: 0.0050\n",
            "Epoch 98/100\n",
            "40/40 [==============================] - 0s 6ms/step - loss: 0.0051\n",
            "Epoch 99/100\n",
            "40/40 [==============================] - 0s 6ms/step - loss: 0.0049\n",
            "Epoch 100/100\n",
            "40/40 [==============================] - 0s 6ms/step - loss: 0.0051\n"
          ],
          "name": "stdout"
        },
        {
          "output_type": "execute_result",
          "data": {
            "text/plain": [
              "<keras.callbacks.callbacks.History at 0x7f078ee0bef0>"
            ]
          },
          "metadata": {
            "tags": []
          },
          "execution_count": 29
        }
      ]
    },
    {
      "cell_type": "code",
      "metadata": {
        "id": "LUJQ2ZX9Fpsu",
        "colab_type": "code",
        "colab": {}
      },
      "source": [
        "# Sampling the test data to get data of only vendor 'A' and enterprise 'DO' \n",
        "testing_complete = test_df.groupby(['vendor_name', 'enterprise_name']).count()\n",
        "testing_processed = test_df.loc[(test_df['vendor_name'] == 'A') & (test_df['enterprise_name'] == 'DO')]"
      ],
      "execution_count": null,
      "outputs": []
    },
    {
      "cell_type": "code",
      "metadata": {
        "id": "toBvFUuzG1QV",
        "colab_type": "code",
        "colab": {}
      },
      "source": [
        "# COnverting the repayment date to proper format\n",
        "testing_processed.loc[:, 'repayment_date'] = pd.to_datetime(testing_processed['repayment_date'].str.strip(), format='%Y-%m-%d')"
      ],
      "execution_count": null,
      "outputs": []
    },
    {
      "cell_type": "code",
      "metadata": {
        "id": "qPmkvyXPHWRC",
        "colab_type": "code",
        "colab": {}
      },
      "source": [
        "# droppping the vendor_name and enterprise column as they are no longer needed\n",
        "testing_processed.drop(['vendor_name', 'enterprise_name'], axis = 1, inplace = True) "
      ],
      "execution_count": null,
      "outputs": []
    },
    {
      "cell_type": "code",
      "metadata": {
        "id": "VhuH7cuzHgIf",
        "colab_type": "code",
        "colab": {}
      },
      "source": [
        "# setting repayment_date as index and converting the data to daywise data\n",
        "testing_processed.set_index('repayment_date', inplace=True)\n",
        "testing_processed = testing_processed.resample('D').sum().fillna(0)"
      ],
      "execution_count": null,
      "outputs": []
    },
    {
      "cell_type": "code",
      "metadata": {
        "id": "_AFdN4liIaBu",
        "colab_type": "code",
        "colab": {}
      },
      "source": [
        "# for the purpose of forcasting, we need previous 60 days data thus concatenating the training and test data\n",
        "total = pd.concat((sampled_df_daily, testing_processed), axis=0)"
      ],
      "execution_count": null,
      "outputs": []
    },
    {
      "cell_type": "code",
      "metadata": {
        "id": "M0HXCU7FJnXr",
        "colab_type": "code",
        "colab": {}
      },
      "source": [
        "# Now for predicting, the transaction for next 17 days, we need data 60 days data from the training set and 17 days data from the test set so total 77 days of data\n",
        "# Thus extracting that data i. e. 77 rows\n",
        "test_inputs = total[len(total) - len(testing_processed) - 60:].values"
      ],
      "execution_count": null,
      "outputs": []
    },
    {
      "cell_type": "code",
      "metadata": {
        "id": "5DC8KOemLEYD",
        "colab_type": "code",
        "colab": {
          "base_uri": "https://localhost:8080/",
          "height": 34
        },
        "outputId": "aeff1ab9-aa05-4a54-a818-42f511095f4a"
      },
      "source": [
        "# Checking the dimensions of the same\n",
        "test_inputs.shape"
      ],
      "execution_count": null,
      "outputs": [
        {
          "output_type": "execute_result",
          "data": {
            "text/plain": [
              "(77, 1)"
            ]
          },
          "metadata": {
            "tags": []
          },
          "execution_count": 36
        }
      ]
    },
    {
      "cell_type": "code",
      "metadata": {
        "id": "EcarOqKFJyFN",
        "colab_type": "code",
        "colab": {}
      },
      "source": [
        "# Scaling our test data to be fed to our model\n",
        "test_inputs = test_inputs.reshape(-1,1)\n",
        "\n",
        "# Transforming the data values to lie between 0 and 1\n",
        "test_inputs = scaler.transform(test_inputs)"
      ],
      "execution_count": null,
      "outputs": []
    },
    {
      "cell_type": "code",
      "metadata": {
        "id": "znMDkCFzJ8TW",
        "colab_type": "code",
        "colab": {}
      },
      "source": [
        "# Preparing our test input data i. e. data of 60 days for predicting 61st day, next 60 days for predicting 62nd day and so on\n",
        "test_features = []\n",
        "for i in range(60,77):\n",
        "    test_features.append(test_inputs[i-60:i, 0])"
      ],
      "execution_count": null,
      "outputs": []
    },
    {
      "cell_type": "code",
      "metadata": {
        "id": "H_UgonZRKhBA",
        "colab_type": "code",
        "colab": {
          "base_uri": "https://localhost:8080/",
          "height": 1000
        },
        "outputId": "dba5b9e6-6a4c-4370-f274-1f18df342fa7"
      },
      "source": [
        "test_features"
      ],
      "execution_count": null,
      "outputs": [
        {
          "output_type": "execute_result",
          "data": {
            "text/plain": [
              "[array([0.        , 0.        , 0.        , 0.        , 0.        ,\n",
              "        0.28322512, 0.        , 0.12425236, 0.        , 0.        ,\n",
              "        0.        , 0.        , 0.04120586, 0.        , 0.06847879,\n",
              "        0.        , 0.        , 0.08109544, 0.05865463, 0.        ,\n",
              "        0.06081482, 0.        , 0.        , 0.        , 0.        ,\n",
              "        0.        , 0.        , 0.        , 0.        , 0.        ,\n",
              "        0.        , 0.        , 0.        , 0.        , 0.        ,\n",
              "        0.        , 0.        , 0.        , 0.        , 0.        ,\n",
              "        0.        , 0.        , 0.        , 0.        , 0.        ,\n",
              "        0.        , 0.        , 0.30310471, 0.        , 0.        ,\n",
              "        0.        , 0.        , 0.        , 0.        , 0.        ,\n",
              "        0.        , 0.21715008, 0.        , 0.        , 0.06967944]),\n",
              " array([0.        , 0.        , 0.        , 0.        , 0.28322512,\n",
              "        0.        , 0.12425236, 0.        , 0.        , 0.        ,\n",
              "        0.        , 0.04120586, 0.        , 0.06847879, 0.        ,\n",
              "        0.        , 0.08109544, 0.05865463, 0.        , 0.06081482,\n",
              "        0.        , 0.        , 0.        , 0.        , 0.        ,\n",
              "        0.        , 0.        , 0.        , 0.        , 0.        ,\n",
              "        0.        , 0.        , 0.        , 0.        , 0.        ,\n",
              "        0.        , 0.        , 0.        , 0.        , 0.        ,\n",
              "        0.        , 0.        , 0.        , 0.        , 0.        ,\n",
              "        0.        , 0.30310471, 0.        , 0.        , 0.        ,\n",
              "        0.        , 0.        , 0.        , 0.        , 0.        ,\n",
              "        0.21715008, 0.        , 0.        , 0.06967944, 0.06032767]),\n",
              " array([0.        , 0.        , 0.        , 0.28322512, 0.        ,\n",
              "        0.12425236, 0.        , 0.        , 0.        , 0.        ,\n",
              "        0.04120586, 0.        , 0.06847879, 0.        , 0.        ,\n",
              "        0.08109544, 0.05865463, 0.        , 0.06081482, 0.        ,\n",
              "        0.        , 0.        , 0.        , 0.        , 0.        ,\n",
              "        0.        , 0.        , 0.        , 0.        , 0.        ,\n",
              "        0.        , 0.        , 0.        , 0.        , 0.        ,\n",
              "        0.        , 0.        , 0.        , 0.        , 0.        ,\n",
              "        0.        , 0.        , 0.        , 0.        , 0.        ,\n",
              "        0.30310471, 0.        , 0.        , 0.        , 0.        ,\n",
              "        0.        , 0.        , 0.        , 0.        , 0.21715008,\n",
              "        0.        , 0.        , 0.06967944, 0.06032767, 0.        ]),\n",
              " array([0.        , 0.        , 0.28322512, 0.        , 0.12425236,\n",
              "        0.        , 0.        , 0.        , 0.        , 0.04120586,\n",
              "        0.        , 0.06847879, 0.        , 0.        , 0.08109544,\n",
              "        0.05865463, 0.        , 0.06081482, 0.        , 0.        ,\n",
              "        0.        , 0.        , 0.        , 0.        , 0.        ,\n",
              "        0.        , 0.        , 0.        , 0.        , 0.        ,\n",
              "        0.        , 0.        , 0.        , 0.        , 0.        ,\n",
              "        0.        , 0.        , 0.        , 0.        , 0.        ,\n",
              "        0.        , 0.        , 0.        , 0.        , 0.30310471,\n",
              "        0.        , 0.        , 0.        , 0.        , 0.        ,\n",
              "        0.        , 0.        , 0.        , 0.21715008, 0.        ,\n",
              "        0.        , 0.06967944, 0.06032767, 0.        , 0.        ]),\n",
              " array([0.        , 0.28322512, 0.        , 0.12425236, 0.        ,\n",
              "        0.        , 0.        , 0.        , 0.04120586, 0.        ,\n",
              "        0.06847879, 0.        , 0.        , 0.08109544, 0.05865463,\n",
              "        0.        , 0.06081482, 0.        , 0.        , 0.        ,\n",
              "        0.        , 0.        , 0.        , 0.        , 0.        ,\n",
              "        0.        , 0.        , 0.        , 0.        , 0.        ,\n",
              "        0.        , 0.        , 0.        , 0.        , 0.        ,\n",
              "        0.        , 0.        , 0.        , 0.        , 0.        ,\n",
              "        0.        , 0.        , 0.        , 0.30310471, 0.        ,\n",
              "        0.        , 0.        , 0.        , 0.        , 0.        ,\n",
              "        0.        , 0.        , 0.21715008, 0.        , 0.        ,\n",
              "        0.06967944, 0.06032767, 0.        , 0.        , 0.02170025]),\n",
              " array([0.28322512, 0.        , 0.12425236, 0.        , 0.        ,\n",
              "        0.        , 0.        , 0.04120586, 0.        , 0.06847879,\n",
              "        0.        , 0.        , 0.08109544, 0.05865463, 0.        ,\n",
              "        0.06081482, 0.        , 0.        , 0.        , 0.        ,\n",
              "        0.        , 0.        , 0.        , 0.        , 0.        ,\n",
              "        0.        , 0.        , 0.        , 0.        , 0.        ,\n",
              "        0.        , 0.        , 0.        , 0.        , 0.        ,\n",
              "        0.        , 0.        , 0.        , 0.        , 0.        ,\n",
              "        0.        , 0.        , 0.30310471, 0.        , 0.        ,\n",
              "        0.        , 0.        , 0.        , 0.        , 0.        ,\n",
              "        0.        , 0.21715008, 0.        , 0.        , 0.06967944,\n",
              "        0.06032767, 0.        , 0.        , 0.02170025, 0.        ]),\n",
              " array([0.        , 0.12425236, 0.        , 0.        , 0.        ,\n",
              "        0.        , 0.04120586, 0.        , 0.06847879, 0.        ,\n",
              "        0.        , 0.08109544, 0.05865463, 0.        , 0.06081482,\n",
              "        0.        , 0.        , 0.        , 0.        , 0.        ,\n",
              "        0.        , 0.        , 0.        , 0.        , 0.        ,\n",
              "        0.        , 0.        , 0.        , 0.        , 0.        ,\n",
              "        0.        , 0.        , 0.        , 0.        , 0.        ,\n",
              "        0.        , 0.        , 0.        , 0.        , 0.        ,\n",
              "        0.        , 0.30310471, 0.        , 0.        , 0.        ,\n",
              "        0.        , 0.        , 0.        , 0.        , 0.        ,\n",
              "        0.21715008, 0.        , 0.        , 0.06967944, 0.06032767,\n",
              "        0.        , 0.        , 0.02170025, 0.        , 0.        ]),\n",
              " array([0.12425236, 0.        , 0.        , 0.        , 0.        ,\n",
              "        0.04120586, 0.        , 0.06847879, 0.        , 0.        ,\n",
              "        0.08109544, 0.05865463, 0.        , 0.06081482, 0.        ,\n",
              "        0.        , 0.        , 0.        , 0.        , 0.        ,\n",
              "        0.        , 0.        , 0.        , 0.        , 0.        ,\n",
              "        0.        , 0.        , 0.        , 0.        , 0.        ,\n",
              "        0.        , 0.        , 0.        , 0.        , 0.        ,\n",
              "        0.        , 0.        , 0.        , 0.        , 0.        ,\n",
              "        0.30310471, 0.        , 0.        , 0.        , 0.        ,\n",
              "        0.        , 0.        , 0.        , 0.        , 0.21715008,\n",
              "        0.        , 0.        , 0.06967944, 0.06032767, 0.        ,\n",
              "        0.        , 0.02170025, 0.        , 0.        , 0.        ]),\n",
              " array([0.        , 0.        , 0.        , 0.        , 0.04120586,\n",
              "        0.        , 0.06847879, 0.        , 0.        , 0.08109544,\n",
              "        0.05865463, 0.        , 0.06081482, 0.        , 0.        ,\n",
              "        0.        , 0.        , 0.        , 0.        , 0.        ,\n",
              "        0.        , 0.        , 0.        , 0.        , 0.        ,\n",
              "        0.        , 0.        , 0.        , 0.        , 0.        ,\n",
              "        0.        , 0.        , 0.        , 0.        , 0.        ,\n",
              "        0.        , 0.        , 0.        , 0.        , 0.30310471,\n",
              "        0.        , 0.        , 0.        , 0.        , 0.        ,\n",
              "        0.        , 0.        , 0.        , 0.21715008, 0.        ,\n",
              "        0.        , 0.06967944, 0.06032767, 0.        , 0.        ,\n",
              "        0.02170025, 0.        , 0.        , 0.        , 0.        ]),\n",
              " array([0.        , 0.        , 0.        , 0.04120586, 0.        ,\n",
              "        0.06847879, 0.        , 0.        , 0.08109544, 0.05865463,\n",
              "        0.        , 0.06081482, 0.        , 0.        , 0.        ,\n",
              "        0.        , 0.        , 0.        , 0.        , 0.        ,\n",
              "        0.        , 0.        , 0.        , 0.        , 0.        ,\n",
              "        0.        , 0.        , 0.        , 0.        , 0.        ,\n",
              "        0.        , 0.        , 0.        , 0.        , 0.        ,\n",
              "        0.        , 0.        , 0.        , 0.30310471, 0.        ,\n",
              "        0.        , 0.        , 0.        , 0.        , 0.        ,\n",
              "        0.        , 0.        , 0.21715008, 0.        , 0.        ,\n",
              "        0.06967944, 0.06032767, 0.        , 0.        , 0.02170025,\n",
              "        0.        , 0.        , 0.        , 0.        , 0.31925442]),\n",
              " array([0.        , 0.        , 0.04120586, 0.        , 0.06847879,\n",
              "        0.        , 0.        , 0.08109544, 0.05865463, 0.        ,\n",
              "        0.06081482, 0.        , 0.        , 0.        , 0.        ,\n",
              "        0.        , 0.        , 0.        , 0.        , 0.        ,\n",
              "        0.        , 0.        , 0.        , 0.        , 0.        ,\n",
              "        0.        , 0.        , 0.        , 0.        , 0.        ,\n",
              "        0.        , 0.        , 0.        , 0.        , 0.        ,\n",
              "        0.        , 0.        , 0.30310471, 0.        , 0.        ,\n",
              "        0.        , 0.        , 0.        , 0.        , 0.        ,\n",
              "        0.        , 0.21715008, 0.        , 0.        , 0.06967944,\n",
              "        0.06032767, 0.        , 0.        , 0.02170025, 0.        ,\n",
              "        0.        , 0.        , 0.        , 0.31925442, 0.45561906]),\n",
              " array([0.        , 0.04120586, 0.        , 0.06847879, 0.        ,\n",
              "        0.        , 0.08109544, 0.05865463, 0.        , 0.06081482,\n",
              "        0.        , 0.        , 0.        , 0.        , 0.        ,\n",
              "        0.        , 0.        , 0.        , 0.        , 0.        ,\n",
              "        0.        , 0.        , 0.        , 0.        , 0.        ,\n",
              "        0.        , 0.        , 0.        , 0.        , 0.        ,\n",
              "        0.        , 0.        , 0.        , 0.        , 0.        ,\n",
              "        0.        , 0.30310471, 0.        , 0.        , 0.        ,\n",
              "        0.        , 0.        , 0.        , 0.        , 0.        ,\n",
              "        0.21715008, 0.        , 0.        , 0.06967944, 0.06032767,\n",
              "        0.        , 0.        , 0.02170025, 0.        , 0.        ,\n",
              "        0.        , 0.        , 0.31925442, 0.45561906, 0.33554682]),\n",
              " array([0.04120586, 0.        , 0.06847879, 0.        , 0.        ,\n",
              "        0.08109544, 0.05865463, 0.        , 0.06081482, 0.        ,\n",
              "        0.        , 0.        , 0.        , 0.        , 0.        ,\n",
              "        0.        , 0.        , 0.        , 0.        , 0.        ,\n",
              "        0.        , 0.        , 0.        , 0.        , 0.        ,\n",
              "        0.        , 0.        , 0.        , 0.        , 0.        ,\n",
              "        0.        , 0.        , 0.        , 0.        , 0.        ,\n",
              "        0.30310471, 0.        , 0.        , 0.        , 0.        ,\n",
              "        0.        , 0.        , 0.        , 0.        , 0.21715008,\n",
              "        0.        , 0.        , 0.06967944, 0.06032767, 0.        ,\n",
              "        0.        , 0.02170025, 0.        , 0.        , 0.        ,\n",
              "        0.        , 0.31925442, 0.45561906, 0.33554682, 0.        ]),\n",
              " array([0.        , 0.06847879, 0.        , 0.        , 0.08109544,\n",
              "        0.05865463, 0.        , 0.06081482, 0.        , 0.        ,\n",
              "        0.        , 0.        , 0.        , 0.        , 0.        ,\n",
              "        0.        , 0.        , 0.        , 0.        , 0.        ,\n",
              "        0.        , 0.        , 0.        , 0.        , 0.        ,\n",
              "        0.        , 0.        , 0.        , 0.        , 0.        ,\n",
              "        0.        , 0.        , 0.        , 0.        , 0.30310471,\n",
              "        0.        , 0.        , 0.        , 0.        , 0.        ,\n",
              "        0.        , 0.        , 0.        , 0.21715008, 0.        ,\n",
              "        0.        , 0.06967944, 0.06032767, 0.        , 0.        ,\n",
              "        0.02170025, 0.        , 0.        , 0.        , 0.        ,\n",
              "        0.31925442, 0.45561906, 0.33554682, 0.        , 0.        ]),\n",
              " array([0.06847879, 0.        , 0.        , 0.08109544, 0.05865463,\n",
              "        0.        , 0.06081482, 0.        , 0.        , 0.        ,\n",
              "        0.        , 0.        , 0.        , 0.        , 0.        ,\n",
              "        0.        , 0.        , 0.        , 0.        , 0.        ,\n",
              "        0.        , 0.        , 0.        , 0.        , 0.        ,\n",
              "        0.        , 0.        , 0.        , 0.        , 0.        ,\n",
              "        0.        , 0.        , 0.        , 0.30310471, 0.        ,\n",
              "        0.        , 0.        , 0.        , 0.        , 0.        ,\n",
              "        0.        , 0.        , 0.21715008, 0.        , 0.        ,\n",
              "        0.06967944, 0.06032767, 0.        , 0.        , 0.02170025,\n",
              "        0.        , 0.        , 0.        , 0.        , 0.31925442,\n",
              "        0.45561906, 0.33554682, 0.        , 0.        , 0.        ]),\n",
              " array([0.        , 0.        , 0.08109544, 0.05865463, 0.        ,\n",
              "        0.06081482, 0.        , 0.        , 0.        , 0.        ,\n",
              "        0.        , 0.        , 0.        , 0.        , 0.        ,\n",
              "        0.        , 0.        , 0.        , 0.        , 0.        ,\n",
              "        0.        , 0.        , 0.        , 0.        , 0.        ,\n",
              "        0.        , 0.        , 0.        , 0.        , 0.        ,\n",
              "        0.        , 0.        , 0.30310471, 0.        , 0.        ,\n",
              "        0.        , 0.        , 0.        , 0.        , 0.        ,\n",
              "        0.        , 0.21715008, 0.        , 0.        , 0.06967944,\n",
              "        0.06032767, 0.        , 0.        , 0.02170025, 0.        ,\n",
              "        0.        , 0.        , 0.        , 0.31925442, 0.45561906,\n",
              "        0.33554682, 0.        , 0.        , 0.        , 0.        ]),\n",
              " array([0.        , 0.08109544, 0.05865463, 0.        , 0.06081482,\n",
              "        0.        , 0.        , 0.        , 0.        , 0.        ,\n",
              "        0.        , 0.        , 0.        , 0.        , 0.        ,\n",
              "        0.        , 0.        , 0.        , 0.        , 0.        ,\n",
              "        0.        , 0.        , 0.        , 0.        , 0.        ,\n",
              "        0.        , 0.        , 0.        , 0.        , 0.        ,\n",
              "        0.        , 0.30310471, 0.        , 0.        , 0.        ,\n",
              "        0.        , 0.        , 0.        , 0.        , 0.        ,\n",
              "        0.21715008, 0.        , 0.        , 0.06967944, 0.06032767,\n",
              "        0.        , 0.        , 0.02170025, 0.        , 0.        ,\n",
              "        0.        , 0.        , 0.31925442, 0.45561906, 0.33554682,\n",
              "        0.        , 0.        , 0.        , 0.        , 0.04482995])]"
            ]
          },
          "metadata": {
            "tags": []
          },
          "execution_count": 39
        }
      ]
    },
    {
      "cell_type": "code",
      "metadata": {
        "id": "N8Ef6mVaKAnO",
        "colab_type": "code",
        "colab": {}
      },
      "source": [
        "# Converting our data to 3 d format to be fed to our neural network\n",
        "test_features = np.array(test_features)\n",
        "#np.reshape(data, (number of rows, number of intervals, number of features))\n",
        "test_features = np.reshape(test_features, (test_features.shape[0], test_features.shape[1], 1))"
      ],
      "execution_count": null,
      "outputs": []
    },
    {
      "cell_type": "code",
      "metadata": {
        "id": "5uBP7t87KqlN",
        "colab_type": "code",
        "colab": {}
      },
      "source": [
        "# Making the predictions\n",
        "predictions = model.predict(test_features)"
      ],
      "execution_count": null,
      "outputs": []
    },
    {
      "cell_type": "code",
      "metadata": {
        "id": "QstWjwtLKkmU",
        "colab_type": "code",
        "colab": {}
      },
      "source": [
        "# Predictions made are scaled so we need to transform them back to the original scale by applying inverse transfrom of the scaler object on our predictions\n",
        "predictions = scaler.inverse_transform(predictions)"
      ],
      "execution_count": null,
      "outputs": []
    },
    {
      "cell_type": "code",
      "metadata": {
        "id": "Qe_QYm9y0MCI",
        "colab_type": "code",
        "colab": {}
      },
      "source": [
        "#Adding the repayment date column as an index to the predictions for evaluating the performance of the model\n",
        "predictions_df= pd.DataFrame(testing_processed.index) \n",
        "predictions_df.set_index('repayment_date', inplace=True)\n",
        "predictions_list = []\n",
        "for i in range(17):\n",
        "  predictions_list.append(predictions[i][0])\n",
        "predictions_list\n",
        "predictions_series = pd.Series(predictions_list)\n",
        "predictions_df['total_amount'] = predictions_series.values"
      ],
      "execution_count": null,
      "outputs": []
    },
    {
      "cell_type": "code",
      "metadata": {
        "id": "Z90MERFOK5CF",
        "colab_type": "code",
        "colab": {
          "base_uri": "https://localhost:8080/",
          "height": 404
        },
        "outputId": "941edafd-e5ad-4140-afe7-c442ca7f4ecb"
      },
      "source": [
        "# Plotting the output\n",
        "plt.figure(figsize=(10,6))\n",
        "plt.plot(testing_processed, color='blue', label='Actual Transaction Amount')\n",
        "plt.plot(predictions_df , color='red', label='Predicted Transaction Amount')\n",
        "plt.title('CashFlow Prediction')\n",
        "plt.xlabel('Date')\n",
        "plt.ylabel('Transaction Amount')\n",
        "plt.legend()\n",
        "plt.show()"
      ],
      "execution_count": null,
      "outputs": [
        {
          "output_type": "display_data",
          "data": {
            "image/png": "[encoded data removed]",
            "text/plain": [
              "<Figure size 720x432 with 1 Axes>"
            ]
          },
          "metadata": {
            "tags": [],
            "needs_background": "light"
          }
        }
      ]
    },
    {
      "cell_type": "code",
      "metadata": {
        "id": "foIWE4Bf4K8I",
        "colab_type": "code",
        "colab": {
          "base_uri": "https://localhost:8080/",
          "height": 34
        },
        "outputId": "d7c8facc-367c-4d7a-fcda-cd84cbfd521b"
      },
      "source": [
        "# Calculating the rmse\n",
        "mse = mean_squared_error(testing_processed, predictions_df)\n",
        "rmse = math.sqrt(mse)\n",
        "print(rmse)"
      ],
      "execution_count": null,
      "outputs": [
        {
          "output_type": "stream",
          "text": [
            "64558.08989679426\n"
          ],
          "name": "stdout"
        }
      ]
    }
  ]
}